{
 "cells": [
  {
   "cell_type": "code",
   "execution_count": 3,
   "metadata": {},
   "outputs": [],
   "source": [
    "import pandas as pd\n",
    "import numpy as np\n",
    "import seaborn as sns\n",
    "import random\n",
    "import matplotlib.pyplot as plt\n",
    "from sklearn.model_selection import train_test_split\n",
    "from sklearn.metrics import pairwise_distances\n",
    "from sklearn.metrics import mean_squared_error\n",
    "from math import sqrt"
   ]
  },
  {
   "cell_type": "code",
   "execution_count": 4,
   "metadata": {},
   "outputs": [],
   "source": [
    "df_ratings = pd.read_csv(\"ml-latest-small/ratings.csv\")\n",
    "df_movies = pd.read_csv(\"ml-latest-small/movies.csv\")"
   ]
  },
  {
   "cell_type": "code",
   "execution_count": 5,
   "metadata": {},
   "outputs": [],
   "source": [
    "df_ratings = df_ratings.merge(df_movies[['movieId', 'title']],how='left', on='movieId')\n",
    "train_data, test_data = train_test_split(df_ratings, test_size = 0.25, random_state=57)\n",
    "test_res = test_data.copy().groupby('userId', as_index=False)['title'].agg({'actual': (lambda x: list(set(x)))})\n",
    "test_res = test_res.set_index(\"userId\")"
   ]
  },
  {
   "cell_type": "code",
   "execution_count": null,
   "metadata": {},
   "outputs": [],
   "source": [
    "#Задание 1"
   ]
  },
  {
   "cell_type": "code",
   "execution_count": 6,
   "metadata": {},
   "outputs": [],
   "source": [
    "train_data_ui = train_data.pivot_table(index=['userId'], columns=['title'], values='rating')\n",
    "test_data_ui = test_data.pivot_table(index=['userId'], columns=['title'], values='rating')"
   ]
  },
  {
   "cell_type": "code",
   "execution_count": 7,
   "metadata": {},
   "outputs": [],
   "source": [
    "mean_rating = pd.DataFrame(train_data_ui.mean(axis=0), columns=['pred_rating']).reset_index()"
   ]
  },
  {
   "cell_type": "code",
   "execution_count": 8,
   "metadata": {},
   "outputs": [],
   "source": [
    "test_data = test_data.merge(mean_rating, how='left', on='title')"
   ]
  },
  {
   "cell_type": "code",
   "execution_count": 9,
   "metadata": {},
   "outputs": [],
   "source": [
    "from sklearn.metrics import mean_squared_error"
   ]
  },
  {
   "cell_type": "code",
   "execution_count": 10,
   "metadata": {},
   "outputs": [],
   "source": [
    "from math import sqrt"
   ]
  },
  {
   "cell_type": "code",
   "execution_count": 15,
   "metadata": {},
   "outputs": [],
   "source": [
    "def rmse(actual, pred) -> float:\n",
    "    \"\"\"\n",
    "    Computes the root mean square error (RMSE)\n",
    "    Parameters\n",
    "    ----------\n",
    "    actual : original true ratings or interaction values.\n",
    "    y: predicted ratings or interaction values.\n",
    "    Returns:\n",
    "    -------\n",
    "        The root mean square error (RMSE)\n",
    "    \"\"\"\n",
    "    \n",
    "    rmse = np.sqrt(np.mean((pred-actual)**2))\n",
    "    \n",
    "    return rmse"
   ]
  },
  {
   "cell_type": "code",
   "execution_count": 16,
   "metadata": {},
   "outputs": [
    {
     "name": "stdout",
     "output_type": "stream",
     "text": [
      "RMSE for CF: 0.98\n"
     ]
    }
   ],
   "source": [
    "print(\"RMSE for CF: {:.2}\".format(rmse(test_data.rating, test_data.pred_rating)))"
   ]
  },
  {
   "cell_type": "code",
   "execution_count": null,
   "metadata": {},
   "outputs": [],
   "source": [
    "#Задание 2"
   ]
  },
  {
   "cell_type": "code",
   "execution_count": 17,
   "metadata": {},
   "outputs": [],
   "source": [
    "cf_recs = []"
   ]
  },
  {
   "cell_type": "code",
   "execution_count": 18,
   "metadata": {},
   "outputs": [
    {
     "name": "stdout",
     "output_type": "stream",
     "text": [
      "Wall time: 36.6 s\n"
     ]
    }
   ],
   "source": [
    "%%time\n",
    "corr_matrix = train_data_ui.corr(method='pearson', min_periods=100)"
   ]
  },
  {
   "cell_type": "code",
   "execution_count": 19,
   "metadata": {},
   "outputs": [
    {
     "name": "stderr",
     "output_type": "stream",
     "text": [
      "<timed exec>:3: DeprecationWarning: The default dtype for empty Series will be 'object' instead of 'float64' in a future version. Specify a dtype explicitly to silence this warning.\n"
     ]
    },
    {
     "name": "stdout",
     "output_type": "stream",
     "text": [
      "Wall time: 1min 7s\n"
     ]
    }
   ],
   "source": [
    "%%time\n",
    "for i in test_res.index:\n",
    "    user_ratings = train_data_ui.loc[i].dropna()\n",
    "    simCandidates = pd.Series()\n",
    "\n",
    "    for j in range(0, len(user_ratings.index)): # Идем по списку всех фильмов оцененных пользвателем\n",
    "        sims = corr_matrix[user_ratings.index[j]].dropna() # Извлекаем фильмы, похожие на оцененные данным юзером (1)\n",
    "        sims = sims.map(lambda x: x * user_ratings[j]) # Умножаем корреляцию на оценку пользователя по фильму\n",
    "        simCandidates = simCandidates.append(sims) # Добавляем индекс в список сравниваемых кандидатов\n",
    "\n",
    "    simCandidates = simCandidates.groupby(simCandidates.index).sum()\n",
    "    simCandidates.sort_values(inplace = True, ascending = False)\n",
    "\n",
    "    # выбираем фильмы, которые пользователь еще не смотрел\n",
    "    intersection_set = set.intersection(set(simCandidates.index), set(user_ratings.index))\n",
    "    not_watched = list(set(simCandidates.index) - set(user_ratings.index))\n",
    "    colab_predictions = simCandidates[not_watched].sort_values(ascending = False).head(10).index.to_list()\n",
    "    cf_recs.append(colab_predictions)"
   ]
  },
  {
   "cell_type": "code",
   "execution_count": 20,
   "metadata": {},
   "outputs": [],
   "source": [
    "test_res['colab_predictions'] = cf_recs"
   ]
  },
  {
   "cell_type": "code",
   "execution_count": 21,
   "metadata": {},
   "outputs": [
    {
     "data": {
      "text/html": [
       "<div>\n",
       "<style scoped>\n",
       "    .dataframe tbody tr th:only-of-type {\n",
       "        vertical-align: middle;\n",
       "    }\n",
       "\n",
       "    .dataframe tbody tr th {\n",
       "        vertical-align: top;\n",
       "    }\n",
       "\n",
       "    .dataframe thead th {\n",
       "        text-align: right;\n",
       "    }\n",
       "</style>\n",
       "<table border=\"1\" class=\"dataframe\">\n",
       "  <thead>\n",
       "    <tr style=\"text-align: right;\">\n",
       "      <th></th>\n",
       "      <th>actual</th>\n",
       "      <th>colab_predictions</th>\n",
       "      <th>pop_predictions</th>\n",
       "    </tr>\n",
       "    <tr>\n",
       "      <th>userId</th>\n",
       "      <th></th>\n",
       "      <th></th>\n",
       "      <th></th>\n",
       "    </tr>\n",
       "  </thead>\n",
       "  <tbody>\n",
       "    <tr>\n",
       "      <th>1</th>\n",
       "      <td>[Beetlejuice (1988), Wizard of Oz, The (1939),...</td>\n",
       "      <td>[Shawshank Redemption, The (1994), Forrest Gum...</td>\n",
       "      <td>[Shawshank Redemption, The (1994), Forrest Gum...</td>\n",
       "    </tr>\n",
       "    <tr>\n",
       "      <th>2</th>\n",
       "      <td>[Exit Through the Gift Shop (2010), Shawshank ...</td>\n",
       "      <td>[]</td>\n",
       "      <td>[Shawshank Redemption, The (1994), Forrest Gum...</td>\n",
       "    </tr>\n",
       "    <tr>\n",
       "      <th>3</th>\n",
       "      <td>[Wallace &amp; Gromit: The Best of Aardman Animati...</td>\n",
       "      <td>[]</td>\n",
       "      <td>[Shawshank Redemption, The (1994), Forrest Gum...</td>\n",
       "    </tr>\n",
       "    <tr>\n",
       "      <th>4</th>\n",
       "      <td>[Lone Star (1996), Beetlejuice (1988), Sixth S...</td>\n",
       "      <td>[Star Wars: Episode VI - Return of the Jedi (1...</td>\n",
       "      <td>[Shawshank Redemption, The (1994), Forrest Gum...</td>\n",
       "    </tr>\n",
       "    <tr>\n",
       "      <th>5</th>\n",
       "      <td>[Addams Family Values (1993), In the Name of t...</td>\n",
       "      <td>[Silence of the Lambs, The (1991), Forrest Gum...</td>\n",
       "      <td>[Shawshank Redemption, The (1994), Forrest Gum...</td>\n",
       "    </tr>\n",
       "  </tbody>\n",
       "</table>\n",
       "</div>"
      ],
      "text/plain": [
       "                                                   actual  \\\n",
       "userId                                                      \n",
       "1       [Beetlejuice (1988), Wizard of Oz, The (1939),...   \n",
       "2       [Exit Through the Gift Shop (2010), Shawshank ...   \n",
       "3       [Wallace & Gromit: The Best of Aardman Animati...   \n",
       "4       [Lone Star (1996), Beetlejuice (1988), Sixth S...   \n",
       "5       [Addams Family Values (1993), In the Name of t...   \n",
       "\n",
       "                                        colab_predictions  \\\n",
       "userId                                                      \n",
       "1       [Shawshank Redemption, The (1994), Forrest Gum...   \n",
       "2                                                      []   \n",
       "3                                                      []   \n",
       "4       [Star Wars: Episode VI - Return of the Jedi (1...   \n",
       "5       [Silence of the Lambs, The (1991), Forrest Gum...   \n",
       "\n",
       "                                          pop_predictions  \n",
       "userId                                                     \n",
       "1       [Shawshank Redemption, The (1994), Forrest Gum...  \n",
       "2       [Shawshank Redemption, The (1994), Forrest Gum...  \n",
       "3       [Shawshank Redemption, The (1994), Forrest Gum...  \n",
       "4       [Shawshank Redemption, The (1994), Forrest Gum...  \n",
       "5       [Shawshank Redemption, The (1994), Forrest Gum...  "
      ]
     },
     "execution_count": 21,
     "metadata": {},
     "output_type": "execute_result"
    }
   ],
   "source": [
    "#make recommendations for all members in the test data\n",
    "popularity_recs = train_data.title.value_counts().head(10).index.tolist()\n",
    "\n",
    "pop_recs = []\n",
    "for user in test_res.index:\n",
    "    pop_predictions = popularity_recs\n",
    "    pop_recs.append(pop_predictions)\n",
    "        \n",
    "test_res['pop_predictions'] = pop_recs\n",
    "test_res.head()"
   ]
  },
  {
   "cell_type": "code",
   "execution_count": 22,
   "metadata": {},
   "outputs": [
    {
     "data": {
      "text/html": [
       "<div>\n",
       "<style scoped>\n",
       "    .dataframe tbody tr th:only-of-type {\n",
       "        vertical-align: middle;\n",
       "    }\n",
       "\n",
       "    .dataframe tbody tr th {\n",
       "        vertical-align: top;\n",
       "    }\n",
       "\n",
       "    .dataframe thead th {\n",
       "        text-align: right;\n",
       "    }\n",
       "</style>\n",
       "<table border=\"1\" class=\"dataframe\">\n",
       "  <thead>\n",
       "    <tr style=\"text-align: right;\">\n",
       "      <th></th>\n",
       "      <th>actual</th>\n",
       "      <th>colab_predictions</th>\n",
       "      <th>pop_predictions</th>\n",
       "      <th>rand_predictions</th>\n",
       "    </tr>\n",
       "    <tr>\n",
       "      <th>userId</th>\n",
       "      <th></th>\n",
       "      <th></th>\n",
       "      <th></th>\n",
       "      <th></th>\n",
       "    </tr>\n",
       "  </thead>\n",
       "  <tbody>\n",
       "    <tr>\n",
       "      <th>1</th>\n",
       "      <td>[Beetlejuice (1988), Wizard of Oz, The (1939),...</td>\n",
       "      <td>[Shawshank Redemption, The (1994), Forrest Gum...</td>\n",
       "      <td>[Shawshank Redemption, The (1994), Forrest Gum...</td>\n",
       "      <td>[Harry Potter and the Deathly Hallows: Part 1 ...</td>\n",
       "    </tr>\n",
       "    <tr>\n",
       "      <th>2</th>\n",
       "      <td>[Exit Through the Gift Shop (2010), Shawshank ...</td>\n",
       "      <td>[]</td>\n",
       "      <td>[Shawshank Redemption, The (1994), Forrest Gum...</td>\n",
       "      <td>[Seven (a.k.a. Se7en) (1995), Sword in the Sto...</td>\n",
       "    </tr>\n",
       "    <tr>\n",
       "      <th>3</th>\n",
       "      <td>[Wallace &amp; Gromit: The Best of Aardman Animati...</td>\n",
       "      <td>[]</td>\n",
       "      <td>[Shawshank Redemption, The (1994), Forrest Gum...</td>\n",
       "      <td>[Runaway Bride (1999), Santa Clause, The (1994...</td>\n",
       "    </tr>\n",
       "    <tr>\n",
       "      <th>4</th>\n",
       "      <td>[Lone Star (1996), Beetlejuice (1988), Sixth S...</td>\n",
       "      <td>[Star Wars: Episode VI - Return of the Jedi (1...</td>\n",
       "      <td>[Shawshank Redemption, The (1994), Forrest Gum...</td>\n",
       "      <td>[Forrest Gump (1994), Voices from the List (20...</td>\n",
       "    </tr>\n",
       "    <tr>\n",
       "      <th>5</th>\n",
       "      <td>[Addams Family Values (1993), In the Name of t...</td>\n",
       "      <td>[Silence of the Lambs, The (1991), Forrest Gum...</td>\n",
       "      <td>[Shawshank Redemption, The (1994), Forrest Gum...</td>\n",
       "      <td>[Die Hard (1988), Airplane II: The Sequel (198...</td>\n",
       "    </tr>\n",
       "  </tbody>\n",
       "</table>\n",
       "</div>"
      ],
      "text/plain": [
       "                                                   actual  \\\n",
       "userId                                                      \n",
       "1       [Beetlejuice (1988), Wizard of Oz, The (1939),...   \n",
       "2       [Exit Through the Gift Shop (2010), Shawshank ...   \n",
       "3       [Wallace & Gromit: The Best of Aardman Animati...   \n",
       "4       [Lone Star (1996), Beetlejuice (1988), Sixth S...   \n",
       "5       [Addams Family Values (1993), In the Name of t...   \n",
       "\n",
       "                                        colab_predictions  \\\n",
       "userId                                                      \n",
       "1       [Shawshank Redemption, The (1994), Forrest Gum...   \n",
       "2                                                      []   \n",
       "3                                                      []   \n",
       "4       [Star Wars: Episode VI - Return of the Jedi (1...   \n",
       "5       [Silence of the Lambs, The (1991), Forrest Gum...   \n",
       "\n",
       "                                          pop_predictions  \\\n",
       "userId                                                      \n",
       "1       [Shawshank Redemption, The (1994), Forrest Gum...   \n",
       "2       [Shawshank Redemption, The (1994), Forrest Gum...   \n",
       "3       [Shawshank Redemption, The (1994), Forrest Gum...   \n",
       "4       [Shawshank Redemption, The (1994), Forrest Gum...   \n",
       "5       [Shawshank Redemption, The (1994), Forrest Gum...   \n",
       "\n",
       "                                         rand_predictions  \n",
       "userId                                                     \n",
       "1       [Harry Potter and the Deathly Hallows: Part 1 ...  \n",
       "2       [Seven (a.k.a. Se7en) (1995), Sword in the Sto...  \n",
       "3       [Runaway Bride (1999), Santa Clause, The (1994...  \n",
       "4       [Forrest Gump (1994), Voices from the List (20...  \n",
       "5       [Die Hard (1988), Airplane II: The Sequel (198...  "
      ]
     },
     "execution_count": 22,
     "metadata": {},
     "output_type": "execute_result"
    }
   ],
   "source": [
    "#make recommendations for all members in the test data\n",
    "\n",
    "ran_recs = []\n",
    "for user in test_res.index:\n",
    "    random_predictions = df_ratings.title.sample(10).values.tolist()\n",
    "    ran_recs.append(random_predictions)\n",
    "        \n",
    "test_res['rand_predictions'] = ran_recs\n",
    "test_res.head()"
   ]
  },
  {
   "cell_type": "code",
   "execution_count": 25,
   "metadata": {},
   "outputs": [],
   "source": [
    "def user_coverage(predicted) -> float:\n",
    "    \"\"\"\n",
    "    Computes the share of test users to whom we were able to provide recommendation.\n",
    "    Parameters\n",
    "    ----------\n",
    "    predicted : a list of lists\n",
    "        Ordered predictions\n",
    "        example: [['X', 'Y', 'Z'], ['X', 'Y', 'Z']]\n",
    "    Returns\n",
    "    ----------\n",
    "    user_coverage:\n",
    "        Share of test users in predicted list to whom we provided recommendation\n",
    "        rounded to 2 decimal places\n",
    "    \"\"\"\n",
    "    \n",
    "    L_predictions = sum([1 if len(i) > 0 else 0 for i in predicted])\n",
    "    user_coverage = round(L_predictions/(len(predicted)*1.0),2)\n",
    "    \n",
    "    return user_coverage"
   ]
  },
  {
   "cell_type": "code",
   "execution_count": 26,
   "metadata": {},
   "outputs": [
    {
     "name": "stdout",
     "output_type": "stream",
     "text": [
      "User coverage (cf): 0.82\n"
     ]
    }
   ],
   "source": [
    "print(\"User coverage (cf): {}\".format(user_coverage(cf_recs)))"
   ]
  },
  {
   "cell_type": "code",
   "execution_count": null,
   "metadata": {},
   "outputs": [],
   "source": [
    "#Задание 3"
   ]
  },
  {
   "cell_type": "code",
   "execution_count": 35,
   "metadata": {},
   "outputs": [],
   "source": [
    "def hitrate_k(predicted, actual, k: int) -> int:\n",
    "    \"\"\"\n",
    "    Computes the average number of correct reccommendations for a user\n",
    "    Parameters\n",
    "    ----------\n",
    "    predicted : a list of lists with recommendations\n",
    "    actual: list of lists with actual movie watches\n",
    "    k: integer\n",
    "        The maximum number of recommendations in a list\n",
    "    Returns\n",
    "    ----------\n",
    "    hitrate_k:\n",
    "        The average number of correct recommendations for a user\n",
    "    \"\"\"\n",
    "    L_intersect = 0\n",
    "    for i in predicted.index:\n",
    "        pred = predicted.loc[i][:k]\n",
    "        L_intersect += len(set.intersection(set(pred), set(actual.loc[i])))\n",
    "    hitrate_k = L_intersect/len(predicted.index)\n",
    "    return hitrate_k"
   ]
  },
  {
   "cell_type": "code",
   "execution_count": 37,
   "metadata": {},
   "outputs": [
    {
     "name": "stdout",
     "output_type": "stream",
     "text": [
      "Hitrate_k (cf): 0.7717569786535303\n"
     ]
    }
   ],
   "source": [
    "cf_hitrate_k = hitrate_k(test_res.colab_predictions, test_res.actual, 10)\n",
    "print(\"Hitrate_k (cf): {}\".format(cf_hitrate_k))"
   ]
  },
  {
   "cell_type": "code",
   "execution_count": null,
   "metadata": {},
   "outputs": [],
   "source": [
    "print(\"Hitrate_k (cf): {}\".format(cf_hitrate_k))"
   ]
  }
 ],
 "metadata": {
  "kernelspec": {
   "display_name": "Python 3",
   "language": "python",
   "name": "python3"
  },
  "language_info": {
   "codemirror_mode": {
    "name": "ipython",
    "version": 3
   },
   "file_extension": ".py",
   "mimetype": "text/x-python",
   "name": "python",
   "nbconvert_exporter": "python",
   "pygments_lexer": "ipython3",
   "version": "3.8.5"
  }
 },
 "nbformat": 4,
 "nbformat_minor": 5
}
