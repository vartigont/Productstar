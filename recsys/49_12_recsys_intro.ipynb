{
 "cells": [
  {
   "cell_type": "code",
   "execution_count": 3,
   "metadata": {},
   "outputs": [],
   "source": [
    "import pandas as pd\n",
    "import seaborn as sns\n",
    "import matplotlib.pyplot as plt"
   ]
  },
  {
   "cell_type": "code",
   "execution_count": 4,
   "metadata": {},
   "outputs": [],
   "source": [
    "df_ratings = pd.read_csv(\"ml-latest-small/ratings.csv\")\n",
    "df_movies = pd.read_csv(\"ml-latest-small/movies.csv\")"
   ]
  },
  {
   "cell_type": "code",
   "execution_count": 5,
   "metadata": {},
   "outputs": [],
   "source": [
    "df_ratings = df_ratings.merge(df_movies[['movieId', 'title']],how='left', on='movieId')"
   ]
  },
  {
   "cell_type": "code",
   "execution_count": 6,
   "metadata": {},
   "outputs": [],
   "source": [
    "df_user_item = df_ratings.pivot_table(index=['userId'], columns=['title'], values='rating')"
   ]
  },
  {
   "cell_type": "code",
   "execution_count": 7,
   "metadata": {},
   "outputs": [],
   "source": [
    "from scipy import sparse"
   ]
  },
  {
   "cell_type": "code",
   "execution_count": 9,
   "metadata": {},
   "outputs": [],
   "source": [
    "corr_matrix = df_user_item.corr(method='pearson', min_periods=100) # min_periods отвечает за количество наблюдений чтобы сделать оценку по корреляции"
   ]
  },
  {
   "cell_type": "code",
   "execution_count": 10,
   "metadata": {},
   "outputs": [
    {
     "data": {
      "text/plain": [
       "title\n",
       "2001: A Space Odyssey (1968)           4.0\n",
       "A.I. Artificial Intelligence (2001)    4.5\n",
       "Aladdin (1992)                         3.0\n",
       "American Beauty (1999)                 4.0\n",
       "Apocalypse Now (1979)                  4.0\n",
       "                                      ... \n",
       "What Women Want (2000)                 4.0\n",
       "Wild Wild West (1999)                  1.5\n",
       "X-Men (2000)                           3.5\n",
       "X-Men: The Last Stand (2006)           4.0\n",
       "X2: X-Men United (2003)                4.0\n",
       "Name: 7, Length: 152, dtype: float64"
      ]
     },
     "execution_count": 10,
     "metadata": {},
     "output_type": "execute_result"
    }
   ],
   "source": [
    "user_ratings = df_user_item.loc[7].dropna()\n",
    "user_ratings"
   ]
  },
  {
   "cell_type": "code",
   "execution_count": 11,
   "metadata": {},
   "outputs": [
    {
     "name": "stderr",
     "output_type": "stream",
     "text": [
      "<ipython-input-11-09b49e4a514b>:1: DeprecationWarning: The default dtype for empty Series will be 'object' instead of 'float64' in a future version. Specify a dtype explicitly to silence this warning.\n",
      "  simCandidates = pd.Series()\n"
     ]
    }
   ],
   "source": [
    "simCandidates = pd.Series()\n",
    "for i in range(0, len(user_ratings.index)): # Идем по списку всех фильмов оцененных пользвателем\n",
    "    sims = corr_matrix[user_ratings.index[i]].dropna() # Извлекаем фильмы, похожие на оцененные данным юзером (1)\n",
    "    sims = sims.map(lambda x: x * user_ratings[i]) # Умножаем корреляцию на оценку пользователя по фильму\n",
    "    simCandidates = simCandidates.append(sims) # Добавляем индекс в список сравниваемых кандидатов\n",
    "simCandidates.sort_values(inplace = True, ascending = False)"
   ]
  },
  {
   "cell_type": "code",
   "execution_count": 13,
   "metadata": {},
   "outputs": [],
   "source": [
    "sims = corr_matrix[user_ratings.index[5]].dropna()"
   ]
  },
  {
   "cell_type": "code",
   "execution_count": 14,
   "metadata": {},
   "outputs": [],
   "source": [
    "sims = sims.map(lambda x: x * user_ratings[5])"
   ]
  },
  {
   "cell_type": "code",
   "execution_count": 15,
   "metadata": {},
   "outputs": [],
   "source": [
    "simCandidates = simCandidates.groupby(simCandidates.index).sum()\n",
    "simCandidates.sort_values(inplace = True, ascending = False)"
   ]
  },
  {
   "cell_type": "code",
   "execution_count": 16,
   "metadata": {},
   "outputs": [],
   "source": [
    "intersection_set = set.intersection(set(simCandidates.index), set(user_ratings.index))\n",
    "not_watched = list(set(simCandidates.index) - set(user_ratings.index))"
   ]
  },
  {
   "cell_type": "code",
   "execution_count": 17,
   "metadata": {},
   "outputs": [],
   "source": [
    "filteredSims = simCandidates[not_watched].sort_values(ascending = False)"
   ]
  },
  {
   "cell_type": "code",
   "execution_count": 18,
   "metadata": {},
   "outputs": [
    {
     "data": {
      "text/plain": [
       "Matrix, The (1999)                                                                30.707095\n",
       "Raiders of the Lost Ark (Indiana Jones and the Raiders of the Lost Ark) (1981)    22.002139\n",
       "Shawshank Redemption, The (1994)                                                  18.925514\n",
       "Saving Private Ryan (1998)                                                        16.090221\n",
       "Braveheart (1995)                                                                 14.532443\n",
       "Men in Black (a.k.a. MIB) (1997)                                                  12.640371\n",
       "Fight Club (1999)                                                                 12.045625\n",
       "Lion King, The (1994)                                                             11.318720\n",
       "Schindler's List (1993)                                                           11.235903\n",
       "Speed (1994)                                                                      10.869473\n",
       "Godfather, The (1972)                                                             10.593499\n",
       "Fugitive, The (1993)                                                              10.108583\n",
       "Indiana Jones and the Last Crusade (1989)                                          9.090185\n",
       "Pulp Fiction (1994)                                                                8.878230\n",
       "Memento (2000)                                                                     7.957852\n",
       "Seven (a.k.a. Se7en) (1995)                                                        7.766258\n",
       "Dances with Wolves (1990)                                                          7.192272\n",
       "Ace Ventura: Pet Detective (1994)                                                  5.806843\n",
       "Fargo (1996)                                                                       5.691711\n",
       "Die Hard (1988)                                                                    5.291964\n",
       "Mask, The (1994)                                                                   4.919666\n",
       "Finding Nemo (2003)                                                                4.507745\n",
       "Dark Knight, The (2008)                                                            4.267543\n",
       "Princess Bride, The (1987)                                                         3.991081\n",
       "Alien (1979)                                                                       3.681264\n",
       "Twelve Monkeys (a.k.a. 12 Monkeys) (1995)                                          3.637218\n",
       "Monty Python and the Holy Grail (1975)                                             3.403627\n",
       "Stargate (1994)                                                                    3.297823\n",
       "Mrs. Doubtfire (1993)                                                              2.956894\n",
       "GoldenEye (1995)                                                                   2.790092\n",
       "Batman Forever (1995)                                                              2.461102\n",
       "Good Will Hunting (1997)                                                           2.420211\n",
       "Pretty Woman (1990)                                                                2.275435\n",
       "Aliens (1986)                                                                      1.823581\n",
       "Home Alone (1990)                                                                  1.739832\n",
       "Inception (2010)                                                                   1.665530\n",
       "Groundhog Day (1993)                                                               1.545169\n",
       "Titanic (1997)                                                                     1.449337\n",
       "Léon: The Professional (a.k.a. The Professional) (Léon) (1994)                     1.313441\n",
       "Reservoir Dogs (1992)                                                              1.239994\n",
       "Dumb & Dumber (Dumb and Dumber) (1994)                                             1.096868\n",
       "Babe (1995)                                                                        0.472172\n",
       "Eternal Sunshine of the Spotless Mind (2004)                                       0.467916\n",
       "Kill Bill: Vol. 1 (2003)                                                          -0.046993\n",
       "dtype: float64"
      ]
     },
     "execution_count": 18,
     "metadata": {},
     "output_type": "execute_result"
    }
   ],
   "source": [
    "filteredSims"
   ]
  },
  {
   "cell_type": "code",
   "execution_count": null,
   "metadata": {},
   "outputs": [],
   "source": []
  }
 ],
 "metadata": {
  "kernelspec": {
   "display_name": "Python 3",
   "language": "python",
   "name": "python3"
  },
  "language_info": {
   "codemirror_mode": {
    "name": "ipython",
    "version": 3
   },
   "file_extension": ".py",
   "mimetype": "text/x-python",
   "name": "python",
   "nbconvert_exporter": "python",
   "pygments_lexer": "ipython3",
   "version": "3.8.5"
  }
 },
 "nbformat": 4,
 "nbformat_minor": 5
}
