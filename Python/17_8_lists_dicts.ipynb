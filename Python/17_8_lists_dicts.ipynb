{
 "cells": [
  {
   "cell_type": "code",
   "execution_count": 1,
   "metadata": {},
   "outputs": [],
   "source": [
    "#Учимся работать со списками"
   ]
  },
  {
   "cell_type": "code",
   "execution_count": null,
   "metadata": {},
   "outputs": [],
   "source": [
    "my_list = list(range(5,15))"
   ]
  },
  {
   "cell_type": "code",
   "execution_count": 2,
   "metadata": {},
   "outputs": [
    {
     "name": "stdout",
     "output_type": "stream",
     "text": [
      "[5, 6, 7, 8, 9, 10, 11, 12, 13, 14]\n"
     ]
    }
   ],
   "source": [
    "print(my_list)"
   ]
  },
  {
   "cell_type": "code",
   "execution_count": 3,
   "metadata": {},
   "outputs": [
    {
     "name": "stdout",
     "output_type": "stream",
     "text": [
      "[5, 7, 9, 11, 13]\n"
     ]
    }
   ],
   "source": [
    "new_list = my_list[::2]\n",
    "print (new_list)"
   ]
  },
  {
   "cell_type": "code",
   "execution_count": 4,
   "metadata": {},
   "outputs": [
    {
     "name": "stdout",
     "output_type": "stream",
     "text": [
      "45\n"
     ]
    }
   ],
   "source": [
    "SUM = 0\n",
    "for i in new_list:\n",
    "    SUM = SUM + i\n",
    "print (SUM)\n",
    "    "
   ]
  },
  {
   "cell_type": "code",
   "execution_count": 5,
   "metadata": {},
   "outputs": [
    {
     "name": "stdout",
     "output_type": "stream",
     "text": [
      "45045\n"
     ]
    }
   ],
   "source": [
    "Prod_num = 1\n",
    "for i in new_list:\n",
    "    Prod_num = Prod_num * i\n",
    "print (Prod_num)"
   ]
  },
  {
   "cell_type": "code",
   "execution_count": 6,
   "metadata": {},
   "outputs": [
    {
     "name": "stdout",
     "output_type": "stream",
     "text": [
      "[45, 45045]\n",
      "[45, 45045, 5, 7, 9, 11, 13]\n",
      "[45045, 45, 13, 11, 9, 7, 5]\n"
     ]
    }
   ],
   "source": [
    "new_list_1 = [45, 45045]\n",
    "print (new_list_1)\n",
    "new_list_1.extend(new_list)\n",
    "print (new_list_1)\n",
    "new_list_1.sort(reverse = True)\n",
    "print (new_list_1)"
   ]
  },
  {
   "cell_type": "code",
   "execution_count": 7,
   "metadata": {},
   "outputs": [
    {
     "name": "stdout",
     "output_type": "stream",
     "text": [
      "['45045', '45', '13', '11', '9', '7', '5']\n"
     ]
    }
   ],
   "source": [
    "new_list_string = [str(i) for i in new_list_1]\n",
    "print (new_list_string)"
   ]
  },
  {
   "cell_type": "code",
   "execution_count": 8,
   "metadata": {},
   "outputs": [
    {
     "data": {
      "text/plain": [
       "'45045=45=13=11=9=7=5'"
      ]
     },
     "execution_count": 8,
     "metadata": {},
     "output_type": "execute_result"
    }
   ],
   "source": [
    "'='.join(new_list_string)\n"
   ]
  },
  {
   "cell_type": "code",
   "execution_count": 9,
   "metadata": {},
   "outputs": [],
   "source": [
    "#Учимся фильтровать списки"
   ]
  },
  {
   "cell_type": "code",
   "execution_count": 10,
   "metadata": {},
   "outputs": [
    {
     "name": "stdout",
     "output_type": "stream",
     "text": [
      "[1, 1, 2, 3, 5, 8, 13, 21, 34, 55, 89, 5, 9, -7, -10]\n"
     ]
    }
   ],
   "source": [
    "a = [1, 1, 2, 3, 5, 8, 13, 21, 34, 55, 89, 5, 9, -7, -10]\n",
    "print(a)"
   ]
  },
  {
   "cell_type": "code",
   "execution_count": 11,
   "metadata": {},
   "outputs": [
    {
     "data": {
      "text/plain": [
       "[1, 1, 2, 3, -7, -10]"
      ]
     },
     "execution_count": 11,
     "metadata": {},
     "output_type": "execute_result"
    }
   ],
   "source": [
    "[i for i in a if i < 5]"
   ]
  },
  {
   "cell_type": "code",
   "execution_count": 12,
   "metadata": {},
   "outputs": [],
   "source": [
    "#List comprehensions"
   ]
  },
  {
   "cell_type": "code",
   "execution_count": 13,
   "metadata": {},
   "outputs": [
    {
     "name": "stdout",
     "output_type": "stream",
     "text": [
      "[1, 1, 2, 3, 5, 8, 13, 21, 34, 55, 89, 11]\n",
      "[1, 2, 3, 4, 5, 6, 7, 8, 9, 10, 34, 11, 12, 13]\n"
     ]
    }
   ],
   "source": [
    "A = [1, 1, 2, 3, 5, 8, 13, 21, 34, 55, 89, 11]\n",
    "B = [1, 2, 3, 4, 5, 6, 7, 8, 9, 10, 34, 11, 12, 13]\n",
    "print (A)\n",
    "print (B)"
   ]
  },
  {
   "cell_type": "code",
   "execution_count": 14,
   "metadata": {},
   "outputs": [
    {
     "name": "stdout",
     "output_type": "stream",
     "text": [
      "[1, 2, 3, 5, 8, 34, 11, 13]\n"
     ]
    }
   ],
   "source": [
    "c = [a for a in B if a in A]\n",
    "print (c)"
   ]
  },
  {
   "cell_type": "code",
   "execution_count": 15,
   "metadata": {},
   "outputs": [
    {
     "name": "stdout",
     "output_type": "stream",
     "text": [
      "[1, 2, 3, 5, 8, 11, 13, 34]\n"
     ]
    }
   ],
   "source": [
    "c.sort()\n",
    "print (c)"
   ]
  },
  {
   "cell_type": "code",
   "execution_count": 16,
   "metadata": {},
   "outputs": [],
   "source": [
    "#Считаем слова в строке"
   ]
  },
  {
   "cell_type": "code",
   "execution_count": 17,
   "metadata": {},
   "outputs": [],
   "source": [
    "s = 'kafka python course stack flow dict list python stack course star product star product analytics flow star kafka stack flow ython list set ist fit predict dict list python ourse ython ourse star product ist fit predict analytics kafka stack flow product ist fit predict analytics star flow dict flow list python course stack flow dict list python stack course'"
   ]
  },
  {
   "cell_type": "code",
   "execution_count": 18,
   "metadata": {},
   "outputs": [
    {
     "name": "stdout",
     "output_type": "stream",
     "text": [
      "['kafka', 'python', 'course', 'stack', 'flow', 'dict', 'list', 'python', 'stack', 'course', 'star', 'product', 'star', 'product', 'analytics', 'flow', 'star', 'kafka', 'stack', 'flow', 'ython', 'list', 'set', 'ist', 'fit', 'predict', 'dict', 'list', 'python', 'ourse', 'ython', 'ourse', 'star', 'product', 'ist', 'fit', 'predict', 'analytics', 'kafka', 'stack', 'flow', 'product', 'ist', 'fit', 'predict', 'analytics', 'star', 'flow', 'dict', 'flow', 'list', 'python', 'course', 'stack', 'flow', 'dict', 'list', 'python', 'stack', 'course']\n"
     ]
    }
   ],
   "source": [
    "s_split = s.split()\n",
    "print(s_split)"
   ]
  },
  {
   "cell_type": "code",
   "execution_count": 19,
   "metadata": {},
   "outputs": [
    {
     "name": "stdout",
     "output_type": "stream",
     "text": [
      "['analytics', 'analytics', 'analytics', 'course', 'course', 'course', 'course', 'dict', 'dict', 'dict', 'dict', 'fit', 'fit', 'fit', 'flow', 'flow', 'flow', 'flow', 'flow', 'flow', 'flow', 'ist', 'ist', 'ist', 'kafka', 'kafka', 'kafka', 'list', 'list', 'list', 'list', 'list', 'ourse', 'ourse', 'predict', 'predict', 'predict', 'product', 'product', 'product', 'product', 'python', 'python', 'python', 'python', 'python', 'set', 'stack', 'stack', 'stack', 'stack', 'stack', 'stack', 'star', 'star', 'star', 'star', 'star', 'ython', 'ython']\n"
     ]
    }
   ],
   "source": [
    "s_split.sort()\n",
    "print (s_split)"
   ]
  },
  {
   "cell_type": "code",
   "execution_count": 20,
   "metadata": {},
   "outputs": [
    {
     "name": "stdout",
     "output_type": "stream",
     "text": [
      "{'analytics': 3, 'course': 4, 'dict': 4, 'fit': 3, 'flow': 7, 'ist': 3, 'kafka': 3, 'list': 5, 'ourse': 2, 'predict': 3, 'product': 4, 'python': 5, 'set': 1, 'stack': 6, 'star': 5, 'ython': 2}\n"
     ]
    }
   ],
   "source": [
    "my_dict = {i:s_split.count(i) for i in s_split}\n",
    "print(my_dict)"
   ]
  },
  {
   "cell_type": "code",
   "execution_count": 21,
   "metadata": {},
   "outputs": [
    {
     "name": "stdout",
     "output_type": "stream",
     "text": [
      "{'analytics': 3, 'course': 4, 'dict': 4, 'fit': 3, 'flow': 7, 'ist': 3, 'kafka': 3, 'list': 5, 'ourse': 2, 'predict': 3, 'product': 4, 'python': 5, 'set': 1, 'stack': 6, 'star': 5, 'ython': 2}\n"
     ]
    }
   ],
   "source": [
    "from collections import Counter\n",
    "d = dict(Counter(s_split))\n",
    "print(d)"
   ]
  },
  {
   "cell_type": "code",
   "execution_count": 24,
   "metadata": {},
   "outputs": [
    {
     "name": "stdout",
     "output_type": "stream",
     "text": [
      "{'set': 1, 'ourse': 2, 'ython': 2, 'analytics': 3, 'fit': 3, 'ist': 3, 'kafka': 3, 'predict': 3, 'course': 4, 'dict': 4, 'product': 4, 'list': 5, 'python': 5, 'star': 5, 'stack': 6, 'flow': 7}\n"
     ]
    }
   ],
   "source": [
    "sorted_dict = {}\n",
    "sorted_keys = sorted(d, key=d.get)\n",
    "\n",
    "for w in sorted_keys:\n",
    "    sorted_dict[w] = d[w]\n",
    "\n",
    "print(sorted_dict)"
   ]
  },
  {
   "cell_type": "code",
   "execution_count": 25,
   "metadata": {},
   "outputs": [],
   "source": [
    "#Словарь из двух списков "
   ]
  },
  {
   "cell_type": "code",
   "execution_count": 26,
   "metadata": {},
   "outputs": [
    {
     "name": "stdout",
     "output_type": "stream",
     "text": [
      "{'igor': 'smm', 'dasha': 'developer', 'martin': 'analyst', 'vladimir': 'president', 'rishat': 'analyst', 'maria': 'ceo', 'marat': 'customer development', 'petr': 'founder', 'dima': 'developer', 'polina': 'ml engineer', 'katya': 'product manager', 'elena': 'cmo'}\n"
     ]
    }
   ],
   "source": [
    "names = ['igor', 'dasha', 'martin', 'vladimir', 'rishat', 'maria', 'marat', 'petr', 'dima', 'polina', 'katya', 'elena']\n",
    "occupations = ['smm', 'developer', 'analyst', 'president', 'analyst', 'ceo', 'customer development', 'founder', 'developer', 'ml engineer', 'product manager', 'cmo']\n",
    "zip_iterator = zip(names,occupations)\n",
    "dictionary = dict(zip_iterator)\n",
    "print(dictionary)"
   ]
  },
  {
   "cell_type": "code",
   "execution_count": 27,
   "metadata": {},
   "outputs": [
    {
     "name": "stdout",
     "output_type": "stream",
     "text": [
      "ceo\n"
     ]
    }
   ],
   "source": [
    "print(dictionary['maria'])"
   ]
  },
  {
   "cell_type": "code",
   "execution_count": 33,
   "metadata": {},
   "outputs": [],
   "source": [
    "#Три в одном"
   ]
  },
  {
   "cell_type": "code",
   "execution_count": 28,
   "metadata": {},
   "outputs": [
    {
     "name": "stdout",
     "output_type": "stream",
     "text": [
      "{1: 10, 2: 20, 3901: 11, 384: 13, 8489: 1, 48: 10, 3: 13, 4: 40, 93: 12, 91: 41, 95: 1, 841: 11, 584: 11, 5: 50, 6: 60, 9: 90, 7: 11}\n"
     ]
    }
   ],
   "source": [
    "dict1={1:10, 2:20, 3901:11, 384:13, 8489:1, 48:10}\n",
    "dict2={3:30, 4:40, 93:12, 91:41, 95:1, 841:11, 584:11}\n",
    "dict3={5:50, 6:60, 9:90, 3:13, 7:11}\n",
    "dict_all = {**dict1, **dict2, **dict3}\n",
    "print(dict_all)"
   ]
  },
  {
   "cell_type": "code",
   "execution_count": 29,
   "metadata": {},
   "outputs": [
    {
     "name": "stdout",
     "output_type": "stream",
     "text": [
      "17\n"
     ]
    }
   ],
   "source": [
    "print(len(dict_all))"
   ]
  },
  {
   "cell_type": "code",
   "execution_count": 37,
   "metadata": {},
   "outputs": [
    {
     "name": "stdout",
     "output_type": "stream",
     "text": [
      "dict_values([10, 20, 11, 13, 1, 10, 13, 40, 12, 41, 1, 11, 11, 50, 60, 90, 11])\n"
     ]
    }
   ],
   "source": [
    "dict_values = ()\n",
    "dict_values = dict_all.values()\n",
    "print(dict_values)"
   ]
  },
  {
   "cell_type": "code",
   "execution_count": 38,
   "metadata": {},
   "outputs": [
    {
     "name": "stdout",
     "output_type": "stream",
     "text": [
      "11\n"
     ]
    }
   ],
   "source": [
    "from collections import Counter\n",
    "\n",
    "def most_frequent(List):\n",
    "    occurence_count = Counter(List)\n",
    "    return occurence_count.most_common(1)[0][0]\n",
    "\n",
    "print(most_frequent(dict_values)) "
   ]
  },
  {
   "cell_type": "code",
   "execution_count": 40,
   "metadata": {},
   "outputs": [],
   "source": [
    "#Самая непопулярная буква"
   ]
  },
  {
   "cell_type": "code",
   "execution_count": 32,
   "metadata": {},
   "outputs": [
    {
     "name": "stdout",
     "output_type": "stream",
     "text": [
      "{'P': 1, 'y': 2, 't': 8, 'h': 3, 'o': 6, 'n': 7, ' ': 15, 'S': 1, 'a': 7, 'r': 6, 'C': 1, 'u': 2, 's': 6, 'e': 8, 'f': 2, 'b': 1, 'g': 1, 'i': 5, 'd': 4, 'x': 1, 'p': 1, 'c': 4, 'l': 2, 'w': 2, 'q': 1}\n"
     ]
    }
   ],
   "source": [
    "given_string = ('Python Star Course for beginners and experts for data science and analytics without sql with code')\n",
    "string_split = list(given_string)\n",
    "my_dict = {i:string_split.count(i) for i in string_split}\n",
    "print(my_dict)"
   ]
  },
  {
   "cell_type": "code",
   "execution_count": 41,
   "metadata": {},
   "outputs": [
    {
     "data": {
      "text/plain": [
       "{'P': 1,\n",
       " 'S': 1,\n",
       " 'C': 1,\n",
       " 'b': 1,\n",
       " 'g': 1,\n",
       " 'x': 1,\n",
       " 'p': 1,\n",
       " 'q': 1,\n",
       " 'y': 2,\n",
       " 'u': 2,\n",
       " 'f': 2,\n",
       " 'l': 2,\n",
       " 'w': 2,\n",
       " 'h': 3,\n",
       " 'd': 4,\n",
       " 'c': 4,\n",
       " 'i': 5,\n",
       " 'o': 6,\n",
       " 'r': 6,\n",
       " 's': 6,\n",
       " 'n': 7,\n",
       " 'a': 7,\n",
       " 't': 8,\n",
       " 'e': 8,\n",
       " ' ': 15}"
      ]
     },
     "execution_count": 41,
     "metadata": {},
     "output_type": "execute_result"
    }
   ],
   "source": [
    "{k: v for k, v in sorted(my_dict.items(), key=lambda item: item[1])}"
   ]
  },
  {
   "cell_type": "code",
   "execution_count": null,
   "metadata": {},
   "outputs": [],
   "source": []
  }
 ],
 "metadata": {
  "kernelspec": {
   "display_name": "Python 3",
   "language": "python",
   "name": "python3"
  },
  "language_info": {
   "codemirror_mode": {
    "name": "ipython",
    "version": 3
   },
   "file_extension": ".py",
   "mimetype": "text/x-python",
   "name": "python",
   "nbconvert_exporter": "python",
   "pygments_lexer": "ipython3",
   "version": "3.8.5"
  }
 },
 "nbformat": 4,
 "nbformat_minor": 4
}
