{
 "cells": [
  {
   "cell_type": "code",
   "execution_count": 5,
   "metadata": {},
   "outputs": [
    {
     "name": "stdout",
     "output_type": "stream",
     "text": [
      "\n",
      "import gzip\n",
      "import base64 \n",
      "print(gzip.decompress(base64.b85decode(b'ABzY8(a;260{;Oa0N(%5q0qI^y3v5pwb6pmz0r%%xggNG(7w>LIv_SSG&DCivpw$*ApigX')).decode())\n",
      "\n"
     ]
    }
   ],
   "source": [
    "import gzip\n",
    "import base64\n",
    "\n",
    "bytes_to_decode = b'ABzY8@X`cd0{<P2%MHRn3`Fl+g;M}E&>92@A?1MJ9%_h0OtK-nH9U93EC*YfkLD%DxbUG+O>ZJc&uVeT+2VvtmKey!MrA%GUX+$AjUjsD&5R$^t0wC%RoT15)8sk3X4kml#=>M`IbYq<nA-hAZt+mL5ptJ)x+58YlmGw#'\n",
    "\n",
    "bytes_to_decode = b'ABzY8&(Q>50{`R6%q_?-Dp5$U$}Hf5vXc^vQ_V~ixC)9g^GY;8GI}Yg$@#ejMXANb8W35%BnwlJU`nb+lDeZ)RiuSRqP3BkLAAAiqJf`=s%fD?p=VsBahYjBd6HQ{Zk0iis%k}gx}Up-dAXgBXIXr3u)CUzb7omVxr&x!L1ub{x~8Tc)JRQDE&xQ&eb|`*000'\n",
    "\n",
    "bytes_to_gzip = base64.b85decode(bytes_to_decode)\n",
    "text_to_decode = gzip.decompress(bytes_to_gzip)\n",
    "text_to_print = text_to_decode.decode()\n",
    "print(text_to_print)"
   ]
  },
  {
   "cell_type": "code",
   "execution_count": 6,
   "metadata": {},
   "outputs": [
    {
     "name": "stdout",
     "output_type": "stream",
     "text": [
      "Секретный код: 664477\n"
     ]
    }
   ],
   "source": [
    "import gzip\n",
    "import base64 \n",
    "print(gzip.decompress(base64.b85decode(b'ABzY8(a;260{;Oa0N(%5q0qI^y3v5pwb6pmz0r%%xggNG(7w>LIv_SSG&DCivpw$*ApigX')).decode())"
   ]
  },
  {
   "cell_type": "code",
   "execution_count": null,
   "metadata": {},
   "outputs": [],
   "source": []
  }
 ],
 "metadata": {
  "kernelspec": {
   "display_name": "Python 3",
   "language": "python",
   "name": "python3"
  },
  "language_info": {
   "codemirror_mode": {
    "name": "ipython",
    "version": 3
   },
   "file_extension": ".py",
   "mimetype": "text/x-python",
   "name": "python",
   "nbconvert_exporter": "python",
   "pygments_lexer": "ipython3",
   "version": "3.8.5"
  }
 },
 "nbformat": 4,
 "nbformat_minor": 4
}
