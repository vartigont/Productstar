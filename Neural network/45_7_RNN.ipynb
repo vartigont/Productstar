{
 "cells": [
  {
   "cell_type": "code",
   "execution_count": 1,
   "metadata": {},
   "outputs": [],
   "source": [
    "import pandas as pd\n",
    "import numpy as np\n",
    "import tensorflow as tf\n",
    "import pickle\n",
    "\n",
    "np.random.seed(17)\n",
    "tf.random.set_seed(17)"
   ]
  },
  {
   "cell_type": "code",
   "execution_count": 2,
   "metadata": {},
   "outputs": [],
   "source": [
    "df = pd.read_pickle('offensive_comments.df')\n",
    "df = df.sample(frac=1)"
   ]
  },
  {
   "cell_type": "code",
   "execution_count": 3,
   "metadata": {},
   "outputs": [],
   "source": [
    "from nltk.corpus import stopwords\n",
    "from nltk.tokenize import word_tokenize\n",
    "from nltk.stem.snowball import RussianStemmer"
   ]
  },
  {
   "cell_type": "code",
   "execution_count": 4,
   "metadata": {},
   "outputs": [],
   "source": [
    "stop_words = set(stopwords.words('russian'))\n",
    "stemmer = RussianStemmer()\n",
    "\n",
    "\n",
    "def preprocess(comment):\n",
    "    # сначала комментарий преобразуем к нижнему регистру\n",
    "    # заглавные буквы нам ни к чему\n",
    "    comment = comment.lower()\n",
    "\n",
    "    # токенизируем текст, получив список токенов\n",
    "    tokens = word_tokenize(comment)\n",
    "\n",
    "    # в списке оставим только те токены, что являются словами (выкинув, например, знаки препинания)\n",
    "    # также выкинем стоп-слова\n",
    "    # всё, что осталось, подвергнем стеммизации\n",
    "    tokens = [stemmer.stem(t) for t in tokens if t.isalpha() and t not in stop_words]\n",
    "\n",
    "    return tokens"
   ]
  },
  {
   "cell_type": "code",
   "execution_count": 5,
   "metadata": {},
   "outputs": [],
   "source": [
    "df['comment'] = df['comment'].apply(preprocess)"
   ]
  },
  {
   "cell_type": "code",
   "execution_count": 6,
   "metadata": {},
   "outputs": [],
   "source": [
    "with open('vectors.w2v', 'rb') as file:\n",
    "    wv = pickle.load(file)"
   ]
  },
  {
   "cell_type": "code",
   "execution_count": 7,
   "metadata": {},
   "outputs": [],
   "source": [
    "df['comment'] = df['comment'].apply(lambda x: [wv.vocab[word].index for word in x if word in wv.vocab])"
   ]
  },
  {
   "cell_type": "code",
   "execution_count": 8,
   "metadata": {},
   "outputs": [],
   "source": [
    "df = df.loc[df['comment'].map(len) > 0]"
   ]
  },
  {
   "cell_type": "code",
   "execution_count": 9,
   "metadata": {},
   "outputs": [],
   "source": [
    "comments_lengths = df['comment'].map(len)"
   ]
  },
  {
   "cell_type": "code",
   "execution_count": 10,
   "metadata": {},
   "outputs": [],
   "source": [
    "max_length = int(comments_lengths.quantile(0.95))"
   ]
  },
  {
   "cell_type": "code",
   "execution_count": 11,
   "metadata": {},
   "outputs": [],
   "source": [
    "padding_code = len(wv.vocab)  # код для нулевого вектора-заполнителя"
   ]
  },
  {
   "cell_type": "code",
   "execution_count": 12,
   "metadata": {},
   "outputs": [],
   "source": [
    "x = tf.keras.preprocessing.sequence.pad_sequences(df['comment'],\n",
    "                                                  maxlen=max_length,  # максимальная длина последовательности\n",
    "                                                  value=padding_code,  # код для заполнения отсутствующих ячеек\n",
    "                                                  padding='post',  # добавлять заполнитель в конце последовательности\n",
    "                                                  truncating='post')  # если последовательность длинная, отрезать конец"
   ]
  },
  {
   "cell_type": "code",
   "execution_count": 13,
   "metadata": {},
   "outputs": [],
   "source": [
    "y = np.array(df['is_offensive'])"
   ]
  },
  {
   "cell_type": "code",
   "execution_count": 14,
   "metadata": {},
   "outputs": [],
   "source": [
    "def train_val_test_split(x, val_frac=0.15, test_frac=0.15):\n",
    "    x_train = x[:round((1 - val_frac - test_frac) * len(x))]\n",
    "    x_val = x[round((1 - val_frac - test_frac) * len(x)):round((1 - test_frac) * len(x))]\n",
    "    x_test = x[round((1 - test_frac) * len(x)):]\n",
    "    return x_train, x_val, x_test\n",
    "\n",
    "\n",
    "x_train, x_val, x_test = train_val_test_split(x)\n",
    "y_train, y_val, y_test = train_val_test_split(y)"
   ]
  },
  {
   "cell_type": "code",
   "execution_count": 15,
   "metadata": {},
   "outputs": [],
   "source": [
    "# размерность эмбеддинга - длина вектора в нашем word2vec\n",
    "embedding_dim = len(wv.get_vector('привет'))\n",
    "\n",
    "# количество слов в словаре - количество строк в матрице\n",
    "n_words = len(wv.vocab)\n",
    "\n",
    "# инициализируем матрицу нулями\n",
    "# сделаем в ней на 1 строку больше, чтобы в последней строке\n",
    "# остался нулевой ембеддинг для вектора-заполнителя\n",
    "embedding_matrix = np.zeros((n_words + 1, embedding_dim))\n",
    "\n",
    "# далее просто каждой строке матрицы присваиваем вектор для слова с соответствующим номером\n",
    "for word in wv.vocab:\n",
    "    embedding_matrix[wv.vocab[word].index] = wv.get_vector(word)"
   ]
  },
  {
   "cell_type": "code",
   "execution_count": 16,
   "metadata": {},
   "outputs": [
    {
     "data": {
      "text/plain": [
       "-5004.540545012491"
      ]
     },
     "execution_count": 16,
     "metadata": {},
     "output_type": "execute_result"
    }
   ],
   "source": [
    "embedding_matrix[:, 0].sum()"
   ]
  },
  {
   "cell_type": "code",
   "execution_count": 17,
   "metadata": {},
   "outputs": [],
   "source": [
    "model = tf.keras.models.Sequential([\n",
    "    # создаём эмбеддинг-слой соответствущей размерности\n",
    "    tf.keras.layers.Embedding(n_words + 1,\n",
    "                              embedding_dim,\n",
    "                              weights=[embedding_matrix],  # сразу инициализируем веса построенной матрицей\n",
    "                              trainable=False),  # больше тренировать этот слой не нужно\n",
    "    \n",
    "    # внутри \"обёртки\" Bidirectional уставляем LSTM с нужными настройками\n",
    "    tf.keras.layers.Bidirectional(tf.keras.layers.LSTM(64, return_sequences=True)),\n",
    "    tf.keras.layers.Bidirectional(tf.keras.layers.LSTM(64, return_sequences=True)),\n",
    "    tf.keras.layers.Bidirectional(tf.keras.layers.LSTM(64, return_sequences=True)),\n",
    "    \n",
    "    tf.keras.layers.Dense(10, activation=tf.keras.activations.softmax)\n",
    "])"
   ]
  },
  {
   "cell_type": "code",
   "execution_count": 19,
   "metadata": {},
   "outputs": [
    {
     "name": "stdout",
     "output_type": "stream",
     "text": [
      "Model: \"sequential\"\n",
      "_________________________________________________________________\n",
      "Layer (type)                 Output Shape              Param #   \n",
      "=================================================================\n",
      "embedding (Embedding)        (None, None, 300)         59927700  \n",
      "_________________________________________________________________\n",
      "bidirectional (Bidirectional (None, None, 128)         186880    \n",
      "_________________________________________________________________\n",
      "bidirectional_1 (Bidirection (None, None, 128)         98816     \n",
      "_________________________________________________________________\n",
      "bidirectional_2 (Bidirection (None, None, 128)         98816     \n",
      "_________________________________________________________________\n",
      "dense (Dense)                (None, None, 10)          1290      \n",
      "=================================================================\n",
      "Total params: 60,313,502\n",
      "Trainable params: 385,802\n",
      "Non-trainable params: 59,927,700\n",
      "_________________________________________________________________\n"
     ]
    }
   ],
   "source": [
    "model.summary()"
   ]
  },
  {
   "cell_type": "code",
   "execution_count": null,
   "metadata": {},
   "outputs": [],
   "source": []
  }
 ],
 "metadata": {
  "kernelspec": {
   "display_name": "Python 3",
   "language": "python",
   "name": "python3"
  },
  "language_info": {
   "codemirror_mode": {
    "name": "ipython",
    "version": 3
   },
   "file_extension": ".py",
   "mimetype": "text/x-python",
   "name": "python",
   "nbconvert_exporter": "python",
   "pygments_lexer": "ipython3",
   "version": "3.8.5"
  }
 },
 "nbformat": 4,
 "nbformat_minor": 5
}
