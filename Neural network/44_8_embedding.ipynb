{
 "cells": [
  {
   "cell_type": "code",
   "execution_count": 1,
   "metadata": {},
   "outputs": [],
   "source": [
    "import pickle"
   ]
  },
  {
   "cell_type": "code",
   "execution_count": 3,
   "metadata": {},
   "outputs": [],
   "source": [
    "# в файле - список комментариев, давайте прочитаем его\n",
    "\n",
    "with open('comments.list', 'rb') as file:\n",
    "    comments = pickle.load(file)"
   ]
  },
  {
   "cell_type": "code",
   "execution_count": 4,
   "metadata": {},
   "outputs": [],
   "source": [
    "# в NLTK уже имеются списки стоп-слов для разных языков\n",
    "# давайте им воспользуемся\n",
    "from nltk.corpus import stopwords\n",
    "\n",
    "# токенизацию будем выполнять при помощи функции word_tokenize\n",
    "from nltk.tokenize import word_tokenize\n",
    "\n",
    "# будем осуществлять стеммизацию слов при помощи RussianStemmer\n",
    "from nltk.stem.snowball import RussianStemmer"
   ]
  },
  {
   "cell_type": "code",
   "execution_count": 7,
   "metadata": {},
   "outputs": [],
   "source": [
    "stop_words = set(stopwords.words('russian'))"
   ]
  },
  {
   "cell_type": "code",
   "execution_count": 8,
   "metadata": {},
   "outputs": [],
   "source": [
    "stemmer = RussianStemmer()"
   ]
  },
  {
   "cell_type": "code",
   "execution_count": 9,
   "metadata": {},
   "outputs": [],
   "source": [
    "def preprocess(comment):\n",
    "    # сначала комментарий преобразуем к нижнему регистру\n",
    "    # заглавные буквы нам ни к чему\n",
    "    comment = comment.lower()\n",
    "\n",
    "    # токенизируем текст, получив список токенов\n",
    "    tokens = word_tokenize(comment)\n",
    "\n",
    "    # в списке оставим только те токены, что являются словами (выкинув, например, знаки препинания)\n",
    "    # также выкинем стоп-слова\n",
    "    # всё, что осталось, подвергнем стеммизации\n",
    "    tokens = [stemmer.stem(t) for t in tokens if t.isalpha() and t not in stop_words]\n",
    "\n",
    "    return tokens"
   ]
  },
  {
   "cell_type": "code",
   "execution_count": 12,
   "metadata": {},
   "outputs": [],
   "source": [
    "comments = [preprocess(comm) for comm in comments]"
   ]
  },
  {
   "cell_type": "code",
   "execution_count": 14,
   "metadata": {},
   "outputs": [],
   "source": [
    "import gensim"
   ]
  },
  {
   "cell_type": "code",
   "execution_count": 15,
   "metadata": {},
   "outputs": [],
   "source": [
    "model = gensim.models.Word2Vec(comments,  # на вход подаём список \"предложений\"\n",
    "                               size=50,  # размерность эмбеддинга\n",
    "                               window=5,  # размер окна в word2vec\n",
    "                               min_count=5,  # минимальное количество раз, которое должно встретиться слово\n",
    "                               sg=1,  # в качестве алгоритма выбираем skip-gram, т.к. датасет небольшой\n",
    "                               iter=50,  # количество эпох обучения\n",
    "                               workers=4)  # количество потоков (укажите, исходя из количества ядер вашего процессора)"
   ]
  },
  {
   "cell_type": "code",
   "execution_count": 16,
   "metadata": {},
   "outputs": [],
   "source": [
    "model.save('comments_model.w2v')"
   ]
  },
  {
   "cell_type": "code",
   "execution_count": null,
   "metadata": {},
   "outputs": [],
   "source": [
    "#Задание 1"
   ]
  },
  {
   "cell_type": "code",
   "execution_count": 17,
   "metadata": {},
   "outputs": [
    {
     "data": {
      "text/plain": [
       "[('политолог', 0.7192782163619995),\n",
       " ('программист', 0.6743959188461304),\n",
       " ('программирован', 0.6600313186645508),\n",
       " ('фактик', 0.6451061367988586),\n",
       " ('эксперт', 0.6367471218109131)]"
      ]
     },
     "execution_count": 17,
     "metadata": {},
     "output_type": "execute_result"
    }
   ],
   "source": [
    "model.wv.most_similar(positive=stemmer.stem('аналитик'), topn=5)"
   ]
  },
  {
   "cell_type": "code",
   "execution_count": null,
   "metadata": {},
   "outputs": [],
   "source": [
    "#Задание 2"
   ]
  },
  {
   "cell_type": "code",
   "execution_count": 18,
   "metadata": {},
   "outputs": [
    {
     "data": {
      "text/plain": [
       "[('supportcommunity', 0.712459146976471)]"
      ]
     },
     "execution_count": 18,
     "metadata": {},
     "output_type": "execute_result"
    }
   ],
   "source": [
    "# в аргументе negative указываем слово, которое будем вычитать\n",
    "\n",
    "model.wv.most_similar(positive=[stemmer.stem('модератор'), stemmer.stem('добро')], negative=[stemmer.stem('зло')], topn=1)"
   ]
  },
  {
   "cell_type": "code",
   "execution_count": null,
   "metadata": {},
   "outputs": [],
   "source": [
    "#Задание 3"
   ]
  },
  {
   "cell_type": "code",
   "execution_count": 19,
   "metadata": {},
   "outputs": [
    {
     "name": "stderr",
     "output_type": "stream",
     "text": [
      "c:\\users\\julia\\appdata\\local\\programs\\python\\python38\\lib\\site-packages\\gensim\\models\\keyedvectors.py:877: FutureWarning: arrays to stack must be passed as a \"sequence\" type such as list or tuple. Support for non-sequence iterables such as generators is deprecated as of NumPy 1.16 and will raise an error in the future.\n",
      "  vectors = vstack(self.word_vec(word, use_norm=True) for word in used_words).astype(REAL)\n"
     ]
    },
    {
     "data": {
      "text/plain": [
       "'человек'"
      ]
     },
     "execution_count": 19,
     "metadata": {},
     "output_type": "execute_result"
    }
   ],
   "source": [
    "model.wv.doesnt_match([stemmer.stem('пользователь'), \n",
    "                       stemmer.stem('модератор'), \n",
    "                       stemmer.stem('админ'), \n",
    "                       stemmer.stem('человек'), \n",
    "                       stemmer.stem('пикабушник')])"
   ]
  },
  {
   "cell_type": "code",
   "execution_count": null,
   "metadata": {},
   "outputs": [],
   "source": [
    "#Задание 4"
   ]
  },
  {
   "cell_type": "code",
   "execution_count": 21,
   "metadata": {},
   "outputs": [
    {
     "data": {
      "text/plain": [
       "'добр'"
      ]
     },
     "execution_count": 21,
     "metadata": {},
     "output_type": "execute_result"
    }
   ],
   "source": [
    "model.wv.most_similar_to_given(stemmer.stem('пикабушник'), [stemmer.stem('добрый'), \n",
    "                                                      stemmer.stem('грустный'), \n",
    "                                                      stemmer.stem('злой'), \n",
    "                                                      stemmer.stem('скандальный'), \n",
    "                                                      stemmer.stem('весёлый')])"
   ]
  },
  {
   "cell_type": "code",
   "execution_count": null,
   "metadata": {},
   "outputs": [],
   "source": []
  }
 ],
 "metadata": {
  "kernelspec": {
   "display_name": "Python 3",
   "language": "python",
   "name": "python3"
  },
  "language_info": {
   "codemirror_mode": {
    "name": "ipython",
    "version": 3
   },
   "file_extension": ".py",
   "mimetype": "text/x-python",
   "name": "python",
   "nbconvert_exporter": "python",
   "pygments_lexer": "ipython3",
   "version": "3.8.5"
  }
 },
 "nbformat": 4,
 "nbformat_minor": 5
}
