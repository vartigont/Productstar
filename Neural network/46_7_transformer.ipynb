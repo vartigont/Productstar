{
 "cells": [
  {
   "cell_type": "code",
   "execution_count": 2,
   "metadata": {},
   "outputs": [
    {
     "name": "stdout",
     "output_type": "stream",
     "text": [
      "Collecting deeppavlov\n",
      "  Using cached deeppavlov-0.14.1-py3-none-any.whl (988 kB)\n",
      "Collecting ruamel.yaml\n",
      "  Downloading ruamel.yaml-0.17.2-py3-none-any.whl (101 kB)\n",
      "\u001b[K     |████████████████████████████████| 101 kB 859 kB/s ta 0:00:011\n",
      "\u001b[?25hProcessing /home/julia/.cache/pip/wheels/06/86/1d/a5a0eec2da47544847c30c147d852ef18551d4f500df18fd20/pyTelegramBotAPI-3.6.7-py3-none-any.whl\n",
      "Processing /home/julia/.cache/pip/wheels/c4/df/30/3d6c623db99d503dcdbae1f686953b7c1a0754d8a658dc0845/sacremoses-0.0.35-py3-none-any.whl\n",
      "Collecting aio-pika==6.4.1\n",
      "  Using cached aio_pika-6.4.1-py3-none-any.whl (40 kB)\n",
      "Collecting rusenttokenize==0.0.5\n",
      "  Using cached rusenttokenize-0.0.5-py3-none-any.whl (10 kB)\n",
      "Collecting fastapi==0.47.1\n",
      "  Using cached fastapi-0.47.1-py3-none-any.whl (43 kB)\n",
      "Collecting scipy==1.4.1\n",
      "  Using cached scipy-1.4.1-cp38-cp38-manylinux1_x86_64.whl (26.0 MB)\n",
      "Collecting uvicorn==0.11.7\n",
      "  Using cached uvicorn-0.11.7-py3-none-any.whl (43 kB)\n",
      "Collecting numpy==1.18.0\n",
      "  Using cached numpy-1.18.0-cp38-cp38-manylinux1_x86_64.whl (20.6 MB)\n",
      "Collecting click==7.1.2\n",
      "  Downloading click-7.1.2-py2.py3-none-any.whl (82 kB)\n",
      "\u001b[K     |████████████████████████████████| 82 kB 123 kB/s eta 0:00:011\n",
      "\u001b[?25hProcessing /home/julia/.cache/pip/wheels/a7/f7/eb/1abd6e61e5a9ecbc7d05a2a84c045b99cb30a0d3e760dab497/prometheus_client-0.7.1-py3-none-any.whl\n",
      "Collecting pydantic==1.3\n",
      "  Using cached pydantic-1.3-cp38-cp38-manylinux2010_x86_64.whl (9.4 MB)\n",
      "Collecting pymorphy2==0.8\n",
      "  Using cached pymorphy2-0.8-py2.py3-none-any.whl (46 kB)\n",
      "Processing /home/julia/.cache/pip/wheels/ed/eb/2c/78b16373a55a26e8e24511c7e61b212184c46cdd69abe8a9a1/overrides-2.7.0-py3-none-any.whl\n",
      "Collecting tqdm==4.41.1\n",
      "  Using cached tqdm-4.41.1-py2.py3-none-any.whl (56 kB)\n",
      "Collecting pytz==2019.1\n",
      "  Using cached pytz-2019.1-py2.py3-none-any.whl (510 kB)\n",
      "Collecting h5py==2.10.0\n",
      "  Downloading h5py-2.10.0-cp38-cp38-manylinux1_x86_64.whl (2.9 MB)\n",
      "\u001b[K     |████████████████████████████████| 2.9 MB 6.9 MB/s eta 0:00:01\n",
      "\u001b[?25hProcessing /home/julia/.cache/pip/wheels/74/11/b6/c7a521de4f5756beb18d8a02a784ed4c2c330353fdf361dbdc/scikit_learn-0.21.2-cp38-cp38-linux_x86_64.whl\n",
      "Collecting uvloop==0.14.0\n",
      "  Using cached uvloop-0.14.0-cp38-cp38-manylinux2010_x86_64.whl (4.7 MB)\n",
      "Collecting Cython==0.29.14\n",
      "  Using cached Cython-0.29.14-cp38-cp38-manylinux1_x86_64.whl (2.0 MB)\n",
      "Collecting pymorphy2-dicts-ru\n",
      "  Using cached pymorphy2_dicts_ru-2.4.417127.4579844-py2.py3-none-any.whl (8.2 MB)\n",
      "Collecting filelock==3.0.12\n",
      "  Downloading filelock-3.0.12-py3-none-any.whl (7.6 kB)\n",
      "Collecting pyopenssl==19.1.0\n",
      "  Downloading pyOpenSSL-19.1.0-py2.py3-none-any.whl (53 kB)\n",
      "\u001b[K     |████████████████████████████████| 53 kB 285 kB/s eta 0:00:011\n",
      "\u001b[?25hCollecting pandas==0.25.3\n",
      "  Using cached pandas-0.25.3-cp38-cp38-manylinux1_x86_64.whl (10.4 MB)\n",
      "Collecting requests==2.22.0\n",
      "  Using cached requests-2.22.0-py2.py3-none-any.whl (57 kB)\n",
      "Processing /home/julia/.cache/pip/wheels/23/18/48/8fd6ec11da38406b309470566d6f099c04805d2ec61d7829e7/nltk-3.4.5-py3-none-any.whl\n",
      "Collecting ruamel.yaml.clib>=0.1.2; platform_python_implementation == \"CPython\" and python_version < \"3.10\"\n",
      "  Downloading ruamel.yaml.clib-0.2.2-cp38-cp38-manylinux1_x86_64.whl (578 kB)\n",
      "\u001b[K     |████████████████████████████████| 578 kB 7.6 MB/s eta 0:00:01\n",
      "\u001b[?25hCollecting six\n",
      "  Downloading six-1.15.0-py2.py3-none-any.whl (10 kB)\n",
      "Collecting joblib\n",
      "  Downloading joblib-1.0.1-py3-none-any.whl (303 kB)\n",
      "\u001b[K     |████████████████████████████████| 303 kB 7.6 MB/s eta 0:00:01\n",
      "\u001b[?25hCollecting yarl\n",
      "  Using cached yarl-1.6.3-cp38-cp38-manylinux2014_x86_64.whl (324 kB)\n",
      "Collecting aiormq<4,>=3.2.0\n",
      "  Using cached aiormq-3.3.1-py3-none-any.whl (28 kB)\n",
      "Processing /home/julia/.cache/pip/wheels/8b/55/68/b64af029c0a3ace9f1ed8b1ae0834560584579f8963b15dbab/starlette-0.12.9-py3-none-any.whl\n",
      "Collecting websockets==8.*\n",
      "  Using cached websockets-8.1-cp38-cp38-manylinux2010_x86_64.whl (78 kB)\n",
      "Collecting h11<0.10,>=0.8\n",
      "  Using cached h11-0.9.0-py2.py3-none-any.whl (53 kB)\n",
      "Collecting httptools==0.1.*; sys_platform != \"win32\" and sys_platform != \"cygwin\" and platform_python_implementation != \"PyPy\"\n",
      "  Using cached httptools-0.1.1-cp38-cp38-manylinux1_x86_64.whl (227 kB)\n",
      "Collecting pymorphy2-dicts<3.0,>=2.4\n",
      "  Using cached pymorphy2_dicts-2.4.393442.3710985-py2.py3-none-any.whl (7.1 MB)\n",
      "Collecting dawg-python>=0.7\n",
      "  Using cached DAWG_Python-0.7.2-py2.py3-none-any.whl (11 kB)\n",
      "Processing /home/julia/.cache/pip/wheels/56/ea/58/ead137b087d9e326852a851351d1debf4ada529b6ac0ec4e8c/docopt-0.6.2-py2.py3-none-any.whl\n",
      "Collecting cryptography>=2.8\n",
      "  Downloading cryptography-3.4.7-cp36-abi3-manylinux2014_x86_64.whl (3.2 MB)\n",
      "\u001b[K     |████████████████████████████████| 3.2 MB 7.5 MB/s eta 0:00:01\n",
      "\u001b[?25hCollecting python-dateutil>=2.6.1\n",
      "  Downloading python_dateutil-2.8.1-py2.py3-none-any.whl (227 kB)\n",
      "\u001b[K     |████████████████████████████████| 227 kB 4.8 MB/s eta 0:00:01\n",
      "\u001b[?25hCollecting urllib3!=1.25.0,!=1.25.1,<1.26,>=1.21.1\n",
      "  Downloading urllib3-1.25.11-py2.py3-none-any.whl (127 kB)\n",
      "\u001b[K     |████████████████████████████████| 127 kB 7.4 MB/s eta 0:00:01\n",
      "\u001b[?25hCollecting idna<2.9,>=2.5\n",
      "  Using cached idna-2.8-py2.py3-none-any.whl (58 kB)\n",
      "Collecting certifi>=2017.4.17\n",
      "  Downloading certifi-2020.12.5-py2.py3-none-any.whl (147 kB)\n",
      "\u001b[K     |████████████████████████████████| 147 kB 6.0 MB/s eta 0:00:01\n",
      "\u001b[?25hCollecting chardet<3.1.0,>=3.0.2\n",
      "  Downloading chardet-3.0.4-py2.py3-none-any.whl (133 kB)\n",
      "\u001b[K     |████████████████████████████████| 133 kB 9.5 MB/s eta 0:00:01\n",
      "\u001b[?25hCollecting multidict>=4.0\n",
      "  Using cached multidict-5.1.0-cp38-cp38-manylinux2014_x86_64.whl (159 kB)\n",
      "Collecting pamqp==2.3.0\n",
      "  Using cached pamqp-2.3.0-py2.py3-none-any.whl (28 kB)\n",
      "Collecting cffi>=1.12\n",
      "  Downloading cffi-1.14.5-cp38-cp38-manylinux1_x86_64.whl (411 kB)\n",
      "\u001b[K     |████████████████████████████████| 411 kB 5.9 MB/s eta 0:00:01\n",
      "\u001b[?25hCollecting pycparser\n",
      "  Downloading pycparser-2.20-py2.py3-none-any.whl (112 kB)\n",
      "\u001b[K     |████████████████████████████████| 112 kB 7.3 MB/s eta 0:00:01\n",
      "\u001b[?25hInstalling collected packages: urllib3, idna, certifi, chardet, requests, six, pytelegrambotapi, joblib, click, tqdm, sacremoses, multidict, yarl, pamqp, aiormq, aio-pika, rusenttokenize, starlette, pydantic, fastapi, numpy, scipy, websockets, uvloop, h11, httptools, uvicorn, prometheus-client, ruamel.yaml.clib, ruamel.yaml, pymorphy2-dicts, dawg-python, docopt, pymorphy2, overrides, pytz, h5py, scikit-learn, Cython, pymorphy2-dicts-ru, filelock, pycparser, cffi, cryptography, pyopenssl, python-dateutil, pandas, nltk, deeppavlov\n",
      "\u001b[31mERROR: After October 2020 you may experience errors when installing or updating packages. This is because pip will change the way that it resolves dependency conflicts.\n",
      "\n",
      "We recommend you use --use-feature=2020-resolver to test your packages with the new resolver before it becomes the default.\n",
      "\n",
      "spyder 4.1.5 requires pyqt5<5.13; python_version >= \"3\", which is not installed.\n",
      "spyder 4.1.5 requires pyqtwebengine<5.13; python_version >= \"3\", which is not installed.\n",
      "tensorflow 2.4.1 requires numpy~=1.19.2, but you'll have numpy 1.18.0 which is incompatible.\n",
      "umap-learn 0.5.1 requires scikit-learn>=0.22, but you'll have scikit-learn 0.21.2 which is incompatible.\n",
      "deeppavlov 0.14.1 requires ruamel.yaml==0.15.100, but you'll have ruamel-yaml 0.17.2 which is incompatible.\u001b[0m\n",
      "Successfully installed Cython-0.29.14 aio-pika-6.4.1 aiormq-3.3.1 certifi-2020.12.5 cffi-1.14.5 chardet-3.0.4 click-7.1.2 cryptography-3.4.7 dawg-python-0.7.2 deeppavlov-0.14.1 docopt-0.6.2 fastapi-0.47.1 filelock-3.0.12 h11-0.9.0 h5py-2.10.0 httptools-0.1.1 idna-2.8 joblib-1.0.1 multidict-5.1.0 nltk-3.4.5 numpy-1.18.0 overrides-2.7.0 pamqp-2.3.0 pandas-0.25.3 prometheus-client-0.7.1 pycparser-2.20 pydantic-1.3 pymorphy2-0.8 pymorphy2-dicts-2.4.393442.3710985 pymorphy2-dicts-ru-2.4.417127.4579844 pyopenssl-19.1.0 pytelegrambotapi-3.6.7 python-dateutil-2.8.1 pytz-2019.1 requests-2.22.0 ruamel.yaml-0.17.2 ruamel.yaml.clib-0.2.2 rusenttokenize-0.0.5 sacremoses-0.0.35 scikit-learn-0.21.2 scipy-1.4.1 six-1.15.0 starlette-0.12.9 tqdm-4.41.1 urllib3-1.25.11 uvicorn-0.11.7 uvloop-0.14.0 websockets-8.1 yarl-1.6.3\n"
     ]
    }
   ],
   "source": [
    "!pip install deeppavlov --ignore-installed ruamel.yaml"
   ]
  },
  {
   "cell_type": "code",
   "execution_count": 3,
   "metadata": {},
   "outputs": [],
   "source": [
    "import deeppavlov as dp"
   ]
  },
  {
   "cell_type": "code",
   "execution_count": 4,
   "metadata": {},
   "outputs": [
    {
     "data": {
      "text/plain": [
       "frozenset({'classifiers',\n",
       "           'cv',\n",
       "           'doc_retrieval',\n",
       "           'ecommerce_skill',\n",
       "           'elmo',\n",
       "           'embedder',\n",
       "           'evolution',\n",
       "           'faq',\n",
       "           'go_bot',\n",
       "           'intent_catcher',\n",
       "           'kbqa',\n",
       "           'morpho_tagger',\n",
       "           'nemo',\n",
       "           'ner',\n",
       "           'odqa',\n",
       "           'paramsearch',\n",
       "           'ranking',\n",
       "           'sentence_segmentation',\n",
       "           'seq2seq_go_bot',\n",
       "           'skills',\n",
       "           'spelling_correction',\n",
       "           'squad',\n",
       "           'summarization',\n",
       "           'syntax',\n",
       "           'tutorials'})"
      ]
     },
     "execution_count": 4,
     "metadata": {},
     "output_type": "execute_result"
    }
   ],
   "source": [
    "dp.configs.keys()"
   ]
  },
  {
   "cell_type": "code",
   "execution_count": 5,
   "metadata": {},
   "outputs": [
    {
     "data": {
      "text/plain": [
       "Struct({'bert_as_summarizer': PosixPath('/home/julia/anaconda3/lib/python3.8/site-packages/deeppavlov/configs/summarization/bert_as_summarizer.json'),\n",
       "        'bert_as_summarizer_with_init': PosixPath('/home/julia/anaconda3/lib/python3.8/site-packages/deeppavlov/configs/summarization/bert_as_summarizer_with_init.json'),\n",
       "        'torch_bert_as_en_summarizer': PosixPath('/home/julia/anaconda3/lib/python3.8/site-packages/deeppavlov/configs/summarization/torch_bert_as_en_summarizer.json')})"
      ]
     },
     "execution_count": 5,
     "metadata": {},
     "output_type": "execute_result"
    }
   ],
   "source": [
    "dp.configs.summarization"
   ]
  },
  {
   "cell_type": "code",
   "execution_count": 6,
   "metadata": {},
   "outputs": [
    {
     "name": "stdout",
     "output_type": "stream",
     "text": [
      "{\n",
      "    \"chainer\": {\n",
      "      \"in\": [\"texts\", \"init_sentences\"],\n",
      "      \"pipe\": [\n",
      "        {\n",
      "          \"class_name\": \"bert_as_summarizer\",\n",
      "          \"bert_config_file\": \"{DOWNLOADS_PATH}/bert_models/rubert_cased_L-12_H-768_A-12_v2/bert_config.json\",\n",
      "          \"pretrained_bert\": \"{DOWNLOADS_PATH}/bert_models/rubert_cased_L-12_H-768_A-12_v2/bert_model.ckpt\",\n",
      "          \"vocab_file\": \"{DOWNLOADS_PATH}/bert_models/rubert_cased_L-12_H-768_A-12_v2/vocab.txt\",\n",
      "          \"max_summary_length\": 100,\n",
      "          \"max_summary_length_in_tokens\": true,\n",
      "          \"lang\": \"ru\",\n",
      "          \"do_lower_case\": false,\n",
      "          \"max_seq_length\": 512,\n",
      "          \"in\": [\"texts\", \"init_sentences\"],\n",
      "          \"out\": [\"summarized_text\"]\n",
      "        }\n",
      "      ],\n",
      "      \"out\": [\"summarized_text\"]\n",
      "    },\n",
      "    \"metadata\": {\n",
      "      \"variables\": {\n",
      "        \"ROOT_PATH\": \"~/.deeppavlov\",\n",
      "        \"DOWNLOADS_PATH\": \"{ROOT_PATH}/downloads\",\n",
      "        \"MODELS_PATH\": \"{ROOT_PATH}/models\",\n",
      "        \"CONFIGS_PATH\": \"{DEEPPAVLOV_PATH}/configs\"\n",
      "      },\n",
      "      \"requirements\": [\n",
      "        \"{DEEPPAVLOV_PATH}/requirements/tf.txt\",\n",
      "        \"{DEEPPAVLOV_PATH}/requirements/bert_dp.txt\"\n",
      "      ],\n",
      "      \"download\": [\n",
      "        {\n",
      "          \"url\": \"http://files.deeppavlov.ai/deeppavlov_data/bert/rubert_cased_L-12_H-768_A-12_v2.tar.gz\",\n",
      "          \"subdir\": \"{DOWNLOADS_PATH}/bert_models\"\n",
      "        }\n",
      "      ]\n",
      "    }\n",
      "  }\n",
      "  \n",
      "  \n"
     ]
    }
   ],
   "source": [
    "with open(dp.configs.summarization.bert_as_summarizer_with_init, 'r') as file:\n",
    "    print(file.read())"
   ]
  },
  {
   "cell_type": "code",
   "execution_count": 7,
   "metadata": {},
   "outputs": [
    {
     "name": "stdout",
     "output_type": "stream",
     "text": [
      "/home/julia/anaconda3/lib/python3.8/site-packages/secretstorage/dhcrypto.py:16: CryptographyDeprecationWarning: int_from_bytes is deprecated, use int.from_bytes instead\n",
      "  from cryptography.utils import int_from_bytes\n",
      "/home/julia/anaconda3/lib/python3.8/site-packages/secretstorage/util.py:25: CryptographyDeprecationWarning: int_from_bytes is deprecated, use int.from_bytes instead\n",
      "  from cryptography.utils import int_from_bytes\n",
      "\u001b[31mERROR: Could not find a version that satisfies the requirement tensorflow==1.15.2 (from versions: 2.2.0rc1, 2.2.0rc2, 2.2.0rc3, 2.2.0rc4, 2.2.0, 2.2.1, 2.2.2, 2.3.0rc0, 2.3.0rc1, 2.3.0rc2, 2.3.0, 2.3.1, 2.3.2, 2.4.0rc0, 2.4.0rc1, 2.4.0rc2, 2.4.0rc3, 2.4.0rc4, 2.4.0, 2.4.1, 2.5.0rc0)\u001b[0m\n",
      "\u001b[31mERROR: No matching distribution found for tensorflow==1.15.2\u001b[0m\n",
      "Traceback (most recent call last):\n",
      "  File \"/home/julia/anaconda3/lib/python3.8/runpy.py\", line 194, in _run_module_as_main\n",
      "    return _run_code(code, main_globals, None,\n",
      "  File \"/home/julia/anaconda3/lib/python3.8/runpy.py\", line 87, in _run_code\n",
      "    exec(code, run_globals)\n",
      "  File \"/home/julia/anaconda3/lib/python3.8/site-packages/deeppavlov/__main__.py\", line 4, in <module>\n",
      "    main()\n",
      "  File \"/home/julia/anaconda3/lib/python3.8/site-packages/deeppavlov/deep.py\", line 130, in main\n",
      "    install_from_config(pipeline_config_path)\n",
      "  File \"/home/julia/anaconda3/lib/python3.8/site-packages/deeppavlov/utils/pip_wrapper/pip_wrapper.py\", line 71, in install_from_config\n",
      "    install(r)\n",
      "  File \"/home/julia/anaconda3/lib/python3.8/site-packages/deeppavlov/utils/pip_wrapper/pip_wrapper.py\", line 36, in install\n",
      "    result = subprocess.check_call([sys.executable, '-m', 'pip', 'install',\n",
      "  File \"/home/julia/anaconda3/lib/python3.8/subprocess.py\", line 364, in check_call\n",
      "    raise CalledProcessError(retcode, cmd)\n",
      "subprocess.CalledProcessError: Command '['/home/julia/anaconda3/bin/python', '-m', 'pip', 'install', 'tensorflow==1.15.2']' returned non-zero exit status 1.\n"
     ]
    }
   ],
   "source": [
    "!python -m deeppavlov install bert_as_summarizer_with_init.json"
   ]
  },
  {
   "cell_type": "code",
   "execution_count": 8,
   "metadata": {},
   "outputs": [
    {
     "name": "stderr",
     "output_type": "stream",
     "text": [
      "2021-04-05 21:37:07.734 INFO in 'deeppavlov.core.data.utils'['utils'] at line 94: Downloading from http://files.deeppavlov.ai/deeppavlov_data/bert/rubert_cased_L-12_H-768_A-12_v2.tar.gz to /home/julia/My JupyterLab/deeppavlov/downloads/rubert_cased_L-12_H-768_A-12_v2.tar.gz\n",
      "100%|██████████| 662M/662M [01:46<00:00, 6.23MB/s] \n",
      "2021-04-05 21:38:54.240 INFO in 'deeppavlov.core.data.utils'['utils'] at line 268: Extracting /home/julia/My JupyterLab/deeppavlov/downloads/rubert_cased_L-12_H-768_A-12_v2.tar.gz archive into /home/julia/My JupyterLab/deeppavlov/downloads/bert_models\n",
      "[nltk_data] Downloading package punkt to /home/julia/nltk_data...\n",
      "[nltk_data]   Unzipping tokenizers/punkt.zip.\n",
      "[nltk_data] Downloading package stopwords to /home/julia/nltk_data...\n",
      "[nltk_data]   Unzipping corpora/stopwords.zip.\n",
      "[nltk_data] Downloading package perluniprops to\n",
      "[nltk_data]     /home/julia/nltk_data...\n",
      "[nltk_data]   Unzipping misc/perluniprops.zip.\n",
      "[nltk_data] Downloading package nonbreaking_prefixes to\n",
      "[nltk_data]     /home/julia/nltk_data...\n",
      "[nltk_data]   Unzipping corpora/nonbreaking_prefixes.zip.\n"
     ]
    },
    {
     "ename": "ModuleNotFoundError",
     "evalue": "No module named 'bert_dp'",
     "output_type": "error",
     "traceback": [
      "\u001b[0;31m---------------------------------------------------------------------------\u001b[0m",
      "\u001b[0;31mModuleNotFoundError\u001b[0m                       Traceback (most recent call last)",
      "\u001b[0;32m<ipython-input-8-974629243acf>\u001b[0m in \u001b[0;36m<module>\u001b[0;34m\u001b[0m\n\u001b[0;32m----> 1\u001b[0;31m \u001b[0mmodel\u001b[0m \u001b[0;34m=\u001b[0m \u001b[0mdp\u001b[0m\u001b[0;34m.\u001b[0m\u001b[0mbuild_model\u001b[0m\u001b[0;34m(\u001b[0m\u001b[0;34m'bert_as_summarizer_with_init.json'\u001b[0m\u001b[0;34m,\u001b[0m \u001b[0mdownload\u001b[0m\u001b[0;34m=\u001b[0m\u001b[0;32mTrue\u001b[0m\u001b[0;34m)\u001b[0m\u001b[0;34m\u001b[0m\u001b[0;34m\u001b[0m\u001b[0m\n\u001b[0m",
      "\u001b[0;32m~/anaconda3/lib/python3.8/site-packages/deeppavlov/core/commands/infer.py\u001b[0m in \u001b[0;36mbuild_model\u001b[0;34m(config, mode, load_trained, download, serialized)\u001b[0m\n\u001b[1;32m     60\u001b[0m             \u001b[0mcomponent_serialized\u001b[0m \u001b[0;34m=\u001b[0m \u001b[0;32mNone\u001b[0m\u001b[0;34m\u001b[0m\u001b[0;34m\u001b[0m\u001b[0m\n\u001b[1;32m     61\u001b[0m \u001b[0;34m\u001b[0m\u001b[0m\n\u001b[0;32m---> 62\u001b[0;31m         \u001b[0mcomponent\u001b[0m \u001b[0;34m=\u001b[0m \u001b[0mfrom_params\u001b[0m\u001b[0;34m(\u001b[0m\u001b[0mcomponent_config\u001b[0m\u001b[0;34m,\u001b[0m \u001b[0mmode\u001b[0m\u001b[0;34m=\u001b[0m\u001b[0mmode\u001b[0m\u001b[0;34m,\u001b[0m \u001b[0mserialized\u001b[0m\u001b[0;34m=\u001b[0m\u001b[0mcomponent_serialized\u001b[0m\u001b[0;34m)\u001b[0m\u001b[0;34m\u001b[0m\u001b[0;34m\u001b[0m\u001b[0m\n\u001b[0m\u001b[1;32m     63\u001b[0m \u001b[0;34m\u001b[0m\u001b[0m\n\u001b[1;32m     64\u001b[0m         \u001b[0;32mif\u001b[0m \u001b[0;34m'id'\u001b[0m \u001b[0;32min\u001b[0m \u001b[0mcomponent_config\u001b[0m\u001b[0;34m:\u001b[0m\u001b[0;34m\u001b[0m\u001b[0;34m\u001b[0m\u001b[0m\n",
      "\u001b[0;32m~/anaconda3/lib/python3.8/site-packages/deeppavlov/core/common/params.py\u001b[0m in \u001b[0;36mfrom_params\u001b[0;34m(params, mode, serialized, **kwargs)\u001b[0m\n\u001b[1;32m     93\u001b[0m         \u001b[0mlog\u001b[0m\u001b[0;34m.\u001b[0m\u001b[0mexception\u001b[0m\u001b[0;34m(\u001b[0m\u001b[0me\u001b[0m\u001b[0;34m)\u001b[0m\u001b[0;34m\u001b[0m\u001b[0;34m\u001b[0m\u001b[0m\n\u001b[1;32m     94\u001b[0m         \u001b[0;32mraise\u001b[0m \u001b[0me\u001b[0m\u001b[0;34m\u001b[0m\u001b[0;34m\u001b[0m\u001b[0m\n\u001b[0;32m---> 95\u001b[0;31m     \u001b[0mobj\u001b[0m \u001b[0;34m=\u001b[0m \u001b[0mget_model\u001b[0m\u001b[0;34m(\u001b[0m\u001b[0mcls_name\u001b[0m\u001b[0;34m)\u001b[0m\u001b[0;34m\u001b[0m\u001b[0;34m\u001b[0m\u001b[0m\n\u001b[0m\u001b[1;32m     96\u001b[0m \u001b[0;34m\u001b[0m\u001b[0m\n\u001b[1;32m     97\u001b[0m     \u001b[0;32mif\u001b[0m \u001b[0minspect\u001b[0m\u001b[0;34m.\u001b[0m\u001b[0misclass\u001b[0m\u001b[0;34m(\u001b[0m\u001b[0mobj\u001b[0m\u001b[0;34m)\u001b[0m\u001b[0;34m:\u001b[0m\u001b[0;34m\u001b[0m\u001b[0;34m\u001b[0m\u001b[0m\n",
      "\u001b[0;32m~/anaconda3/lib/python3.8/site-packages/deeppavlov/core/common/registry.py\u001b[0m in \u001b[0;36mget_model\u001b[0;34m(name)\u001b[0m\n\u001b[1;32m     70\u001b[0m             \u001b[0;32mraise\u001b[0m \u001b[0mConfigError\u001b[0m\u001b[0;34m(\u001b[0m\u001b[0;34m\"Model {} is not registered.\"\u001b[0m\u001b[0;34m.\u001b[0m\u001b[0mformat\u001b[0m\u001b[0;34m(\u001b[0m\u001b[0mname\u001b[0m\u001b[0;34m)\u001b[0m\u001b[0;34m)\u001b[0m\u001b[0;34m\u001b[0m\u001b[0;34m\u001b[0m\u001b[0m\n\u001b[1;32m     71\u001b[0m         \u001b[0;32mreturn\u001b[0m \u001b[0mcls_from_str\u001b[0m\u001b[0;34m(\u001b[0m\u001b[0mname\u001b[0m\u001b[0;34m)\u001b[0m\u001b[0;34m\u001b[0m\u001b[0;34m\u001b[0m\u001b[0m\n\u001b[0;32m---> 72\u001b[0;31m     \u001b[0;32mreturn\u001b[0m \u001b[0mcls_from_str\u001b[0m\u001b[0;34m(\u001b[0m\u001b[0m_REGISTRY\u001b[0m\u001b[0;34m[\u001b[0m\u001b[0mname\u001b[0m\u001b[0;34m]\u001b[0m\u001b[0;34m)\u001b[0m\u001b[0;34m\u001b[0m\u001b[0;34m\u001b[0m\u001b[0m\n\u001b[0m\u001b[1;32m     73\u001b[0m \u001b[0;34m\u001b[0m\u001b[0m\n\u001b[1;32m     74\u001b[0m \u001b[0;34m\u001b[0m\u001b[0m\n",
      "\u001b[0;32m~/anaconda3/lib/python3.8/site-packages/deeppavlov/core/common/registry.py\u001b[0m in \u001b[0;36mcls_from_str\u001b[0;34m(name)\u001b[0m\n\u001b[1;32m     38\u001b[0m                           .format(name))\n\u001b[1;32m     39\u001b[0m \u001b[0;34m\u001b[0m\u001b[0m\n\u001b[0;32m---> 40\u001b[0;31m     \u001b[0;32mreturn\u001b[0m \u001b[0mgetattr\u001b[0m\u001b[0;34m(\u001b[0m\u001b[0mimportlib\u001b[0m\u001b[0;34m.\u001b[0m\u001b[0mimport_module\u001b[0m\u001b[0;34m(\u001b[0m\u001b[0mmodule_name\u001b[0m\u001b[0;34m)\u001b[0m\u001b[0;34m,\u001b[0m \u001b[0mcls_name\u001b[0m\u001b[0;34m)\u001b[0m\u001b[0;34m\u001b[0m\u001b[0;34m\u001b[0m\u001b[0m\n\u001b[0m\u001b[1;32m     41\u001b[0m \u001b[0;34m\u001b[0m\u001b[0m\n\u001b[1;32m     42\u001b[0m \u001b[0;34m\u001b[0m\u001b[0m\n",
      "\u001b[0;32m~/anaconda3/lib/python3.8/importlib/__init__.py\u001b[0m in \u001b[0;36mimport_module\u001b[0;34m(name, package)\u001b[0m\n\u001b[1;32m    125\u001b[0m                 \u001b[0;32mbreak\u001b[0m\u001b[0;34m\u001b[0m\u001b[0;34m\u001b[0m\u001b[0m\n\u001b[1;32m    126\u001b[0m             \u001b[0mlevel\u001b[0m \u001b[0;34m+=\u001b[0m \u001b[0;36m1\u001b[0m\u001b[0;34m\u001b[0m\u001b[0;34m\u001b[0m\u001b[0m\n\u001b[0;32m--> 127\u001b[0;31m     \u001b[0;32mreturn\u001b[0m \u001b[0m_bootstrap\u001b[0m\u001b[0;34m.\u001b[0m\u001b[0m_gcd_import\u001b[0m\u001b[0;34m(\u001b[0m\u001b[0mname\u001b[0m\u001b[0;34m[\u001b[0m\u001b[0mlevel\u001b[0m\u001b[0;34m:\u001b[0m\u001b[0;34m]\u001b[0m\u001b[0;34m,\u001b[0m \u001b[0mpackage\u001b[0m\u001b[0;34m,\u001b[0m \u001b[0mlevel\u001b[0m\u001b[0;34m)\u001b[0m\u001b[0;34m\u001b[0m\u001b[0;34m\u001b[0m\u001b[0m\n\u001b[0m\u001b[1;32m    128\u001b[0m \u001b[0;34m\u001b[0m\u001b[0m\n\u001b[1;32m    129\u001b[0m \u001b[0;34m\u001b[0m\u001b[0m\n",
      "\u001b[0;32m~/anaconda3/lib/python3.8/importlib/_bootstrap.py\u001b[0m in \u001b[0;36m_gcd_import\u001b[0;34m(name, package, level)\u001b[0m\n",
      "\u001b[0;32m~/anaconda3/lib/python3.8/importlib/_bootstrap.py\u001b[0m in \u001b[0;36m_find_and_load\u001b[0;34m(name, import_)\u001b[0m\n",
      "\u001b[0;32m~/anaconda3/lib/python3.8/importlib/_bootstrap.py\u001b[0m in \u001b[0;36m_find_and_load_unlocked\u001b[0;34m(name, import_)\u001b[0m\n",
      "\u001b[0;32m~/anaconda3/lib/python3.8/importlib/_bootstrap.py\u001b[0m in \u001b[0;36m_load_unlocked\u001b[0;34m(spec)\u001b[0m\n",
      "\u001b[0;32m~/anaconda3/lib/python3.8/importlib/_bootstrap_external.py\u001b[0m in \u001b[0;36mexec_module\u001b[0;34m(self, module)\u001b[0m\n",
      "\u001b[0;32m~/anaconda3/lib/python3.8/importlib/_bootstrap.py\u001b[0m in \u001b[0;36m_call_with_frames_removed\u001b[0;34m(f, *args, **kwds)\u001b[0m\n",
      "\u001b[0;32m~/anaconda3/lib/python3.8/site-packages/deeppavlov/models/bert/bert_as_summarizer.py\u001b[0m in \u001b[0;36m<module>\u001b[0;34m\u001b[0m\n\u001b[1;32m     20\u001b[0m \u001b[0;32mimport\u001b[0m \u001b[0mtensorflow\u001b[0m\u001b[0;34m.\u001b[0m\u001b[0mcompat\u001b[0m\u001b[0;34m.\u001b[0m\u001b[0mv1\u001b[0m \u001b[0;32mas\u001b[0m \u001b[0mtf\u001b[0m\u001b[0;34m\u001b[0m\u001b[0;34m\u001b[0m\u001b[0m\n\u001b[1;32m     21\u001b[0m \u001b[0;34m\u001b[0m\u001b[0m\n\u001b[0;32m---> 22\u001b[0;31m \u001b[0;32mfrom\u001b[0m \u001b[0mbert_dp\u001b[0m\u001b[0;34m.\u001b[0m\u001b[0mmodeling\u001b[0m \u001b[0;32mimport\u001b[0m \u001b[0mBertConfig\u001b[0m\u001b[0;34m,\u001b[0m \u001b[0mBertModel\u001b[0m\u001b[0;34m,\u001b[0m \u001b[0mcreate_initializer\u001b[0m\u001b[0;34m,\u001b[0m \u001b[0mget_assignment_map_from_checkpoint\u001b[0m\u001b[0;34m\u001b[0m\u001b[0;34m\u001b[0m\u001b[0m\n\u001b[0m\u001b[1;32m     23\u001b[0m \u001b[0;32mfrom\u001b[0m \u001b[0mdeeppavlov\u001b[0m\u001b[0;34m.\u001b[0m\u001b[0mcore\u001b[0m\u001b[0;34m.\u001b[0m\u001b[0mcommands\u001b[0m\u001b[0;34m.\u001b[0m\u001b[0mutils\u001b[0m \u001b[0;32mimport\u001b[0m \u001b[0mexpand_path\u001b[0m\u001b[0;34m\u001b[0m\u001b[0;34m\u001b[0m\u001b[0m\n\u001b[1;32m     24\u001b[0m \u001b[0;32mfrom\u001b[0m \u001b[0mdeeppavlov\u001b[0m\u001b[0;34m.\u001b[0m\u001b[0mcore\u001b[0m\u001b[0;34m.\u001b[0m\u001b[0mcommon\u001b[0m\u001b[0;34m.\u001b[0m\u001b[0mregistry\u001b[0m \u001b[0;32mimport\u001b[0m \u001b[0mregister\u001b[0m\u001b[0;34m\u001b[0m\u001b[0;34m\u001b[0m\u001b[0m\n",
      "\u001b[0;31mModuleNotFoundError\u001b[0m: No module named 'bert_dp'"
     ]
    }
   ],
   "source": [
    "model = dp.build_model('bert_as_summarizer_with_init.json', download=True)"
   ]
  },
  {
   "cell_type": "code",
   "execution_count": null,
   "metadata": {},
   "outputs": [],
   "source": []
  }
 ],
 "metadata": {
  "kernelspec": {
   "display_name": "Python 3",
   "language": "python",
   "name": "python3"
  },
  "language_info": {
   "codemirror_mode": {
    "name": "ipython",
    "version": 3
   },
   "file_extension": ".py",
   "mimetype": "text/x-python",
   "name": "python",
   "nbconvert_exporter": "python",
   "pygments_lexer": "ipython3",
   "version": "3.8.5"
  }
 },
 "nbformat": 4,
 "nbformat_minor": 4
}
