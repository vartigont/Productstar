{
 "cells": [
  {
   "cell_type": "markdown",
   "metadata": {},
   "source": [
    "# Логистическая регрессия"
   ]
  },
  {
   "cell_type": "markdown",
   "metadata": {},
   "source": [
    "Сегодня мы поработаем с задачей логистической регрессии на примере конкурса каггл https://www.kaggle.com/c/home-credit-default-risk/overview\n",
    "    \n",
    "    \n",
    "В нем необходимо было\n",
    "\n",
    "\n",
    "Для тех, кто хочет погрузиться глубже, очень рекомендую для начала такой ноутбук с вводной к этому конкурсу.\n",
    "https://www.kaggle.com/willkoehrsen/start-here-a-gentle-introduction"
   ]
  },
  {
   "cell_type": "markdown",
   "metadata": {},
   "source": [
    "Мы  рассмотрим соревнование по машинному обучению  Home Credit bank который проводился на сайте Kaggle. Цель этого конкурса - использовать исторические данные о заявках на получение кредита, чтобы предсказать, сможет ли заявитель погасить ссуду. Это стандартная задача  **обучения с учителем - бинарная классификация**:\n",
    "\n",
    "1) Метки калассов есть в обучающих данных и цель состоит в том, чтобы обучить модель научиться предсказывать метки на основе этих данных.\n",
    "2) Бинарная классификация: метка класса представляет собой двоичную переменную, **0 (выплатит кредит вовремя)**, **1 (возникнут трудности с погашением кредита)**"
   ]
  },
  {
   "cell_type": "markdown",
   "metadata": {},
   "source": [
    "В этом соревновании дается много дополнительной информации и множество датасетов довольно объемных и обширных. Чтобы сосредаточиться на методах машинного обучения, но не на обработке данных мы будем использовать только один из датасетов - в котором находится основная информация\n",
    "разбирать мы все признаки не будем, "
   ]
  },
  {
   "cell_type": "markdown",
   "metadata": {
    "jupyter": {
     "source_hidden": true
    }
   },
   "source": [
    "Чтобы не терять нить, давайте как и в прошлый раз напишем **check-list** и пойдем по нему:\n",
    "\n",
    "    1. Работа с данными\n",
    "        1.1. Простейшая обработка\n",
    "        1.2. Сформируем отложенную выборку\n",
    "        1.3. Обработка категориальных признаков\n",
    "            1.3.1. Обработка пропущенных значений\n",
    "            1.3.2. Перевод в числовое значение (encoding)\n",
    "        1.4. Обработка числовых признаков\n",
    "            1.4.1 Обработка пропущенных значений\n",
    "                1.4.1.1. У числовых фичей только с двумя значениями\n",
    "                1.4.1.2. У всех остальных фичей\n",
    "    2. Моделирование\n",
    "        2.1. Определим метрику, на которую будем смотреть\n",
    "        2.2. Построим наивный алгоритм и замерим его качество\n",
    "        2.3. Построим логистическую регрессию\n",
    "        2.4. Замерим ее качество\n",
    "        2.5. Построим ROC-AUC\n",
    "        2.6. Выберем порог и замерим precision, recall, f-score"
   ]
  },
  {
   "cell_type": "markdown",
   "metadata": {},
   "source": [
    "# 1. Данные - посмотрим на них"
   ]
  },
  {
   "cell_type": "code",
   "execution_count": 1,
   "metadata": {},
   "outputs": [
    {
     "name": "stdout",
     "output_type": "stream",
     "text": [
      "CPU times: user 3.32 s, sys: 477 ms, total: 3.8 s\n",
      "Wall time: 4.6 s\n"
     ]
    }
   ],
   "source": [
    "%%time\n",
    "import numpy as np\n",
    "import pandas as pd\n",
    "\n",
    "df = pd.read_csv('application_train.csv')"
   ]
  },
  {
   "cell_type": "markdown",
   "metadata": {},
   "source": [
    "Датасет довольно большой и наши методы могут долго работать, поэтому мы возьмем случайной подмножество например в размере 50 000 и будем работать с ним."
   ]
  },
  {
   "cell_type": "code",
   "execution_count": 2,
   "metadata": {},
   "outputs": [],
   "source": [
    "df = df.sample(n=50000, random_state=0).reset_index(drop=True)"
   ]
  },
  {
   "cell_type": "code",
   "execution_count": 4,
   "metadata": {},
   "outputs": [
    {
     "data": {
      "text/html": [
       "<div>\n",
       "<style scoped>\n",
       "    .dataframe tbody tr th:only-of-type {\n",
       "        vertical-align: middle;\n",
       "    }\n",
       "\n",
       "    .dataframe tbody tr th {\n",
       "        vertical-align: top;\n",
       "    }\n",
       "\n",
       "    .dataframe thead th {\n",
       "        text-align: right;\n",
       "    }\n",
       "</style>\n",
       "<table border=\"1\" class=\"dataframe\">\n",
       "  <thead>\n",
       "    <tr style=\"text-align: right;\">\n",
       "      <th></th>\n",
       "      <th>SK_ID_CURR</th>\n",
       "      <th>TARGET</th>\n",
       "      <th>NAME_CONTRACT_TYPE</th>\n",
       "      <th>CODE_GENDER</th>\n",
       "      <th>FLAG_OWN_CAR</th>\n",
       "      <th>FLAG_OWN_REALTY</th>\n",
       "      <th>CNT_CHILDREN</th>\n",
       "      <th>AMT_INCOME_TOTAL</th>\n",
       "      <th>AMT_CREDIT</th>\n",
       "      <th>AMT_ANNUITY</th>\n",
       "      <th>...</th>\n",
       "      <th>FLAG_DOCUMENT_18</th>\n",
       "      <th>FLAG_DOCUMENT_19</th>\n",
       "      <th>FLAG_DOCUMENT_20</th>\n",
       "      <th>FLAG_DOCUMENT_21</th>\n",
       "      <th>AMT_REQ_CREDIT_BUREAU_HOUR</th>\n",
       "      <th>AMT_REQ_CREDIT_BUREAU_DAY</th>\n",
       "      <th>AMT_REQ_CREDIT_BUREAU_WEEK</th>\n",
       "      <th>AMT_REQ_CREDIT_BUREAU_MON</th>\n",
       "      <th>AMT_REQ_CREDIT_BUREAU_QRT</th>\n",
       "      <th>AMT_REQ_CREDIT_BUREAU_YEAR</th>\n",
       "    </tr>\n",
       "  </thead>\n",
       "  <tbody>\n",
       "    <tr>\n",
       "      <th>0</th>\n",
       "      <td>149741</td>\n",
       "      <td>1</td>\n",
       "      <td>Cash loans</td>\n",
       "      <td>F</td>\n",
       "      <td>N</td>\n",
       "      <td>N</td>\n",
       "      <td>0</td>\n",
       "      <td>117000.0</td>\n",
       "      <td>417024.0</td>\n",
       "      <td>20191.5</td>\n",
       "      <td>...</td>\n",
       "      <td>0</td>\n",
       "      <td>0</td>\n",
       "      <td>0</td>\n",
       "      <td>0</td>\n",
       "      <td>0.0</td>\n",
       "      <td>0.0</td>\n",
       "      <td>0.0</td>\n",
       "      <td>0.0</td>\n",
       "      <td>0.0</td>\n",
       "      <td>3.0</td>\n",
       "    </tr>\n",
       "    <tr>\n",
       "      <th>1</th>\n",
       "      <td>363290</td>\n",
       "      <td>0</td>\n",
       "      <td>Cash loans</td>\n",
       "      <td>M</td>\n",
       "      <td>N</td>\n",
       "      <td>Y</td>\n",
       "      <td>0</td>\n",
       "      <td>450000.0</td>\n",
       "      <td>640080.0</td>\n",
       "      <td>31261.5</td>\n",
       "      <td>...</td>\n",
       "      <td>0</td>\n",
       "      <td>0</td>\n",
       "      <td>0</td>\n",
       "      <td>0</td>\n",
       "      <td>0.0</td>\n",
       "      <td>0.0</td>\n",
       "      <td>0.0</td>\n",
       "      <td>0.0</td>\n",
       "      <td>0.0</td>\n",
       "      <td>1.0</td>\n",
       "    </tr>\n",
       "    <tr>\n",
       "      <th>2</th>\n",
       "      <td>436006</td>\n",
       "      <td>0</td>\n",
       "      <td>Revolving loans</td>\n",
       "      <td>M</td>\n",
       "      <td>Y</td>\n",
       "      <td>Y</td>\n",
       "      <td>0</td>\n",
       "      <td>450000.0</td>\n",
       "      <td>900000.0</td>\n",
       "      <td>45000.0</td>\n",
       "      <td>...</td>\n",
       "      <td>0</td>\n",
       "      <td>0</td>\n",
       "      <td>0</td>\n",
       "      <td>0</td>\n",
       "      <td>0.0</td>\n",
       "      <td>0.0</td>\n",
       "      <td>0.0</td>\n",
       "      <td>0.0</td>\n",
       "      <td>2.0</td>\n",
       "      <td>0.0</td>\n",
       "    </tr>\n",
       "    <tr>\n",
       "      <th>3</th>\n",
       "      <td>377703</td>\n",
       "      <td>0</td>\n",
       "      <td>Cash loans</td>\n",
       "      <td>M</td>\n",
       "      <td>Y</td>\n",
       "      <td>N</td>\n",
       "      <td>1</td>\n",
       "      <td>360000.0</td>\n",
       "      <td>1125000.0</td>\n",
       "      <td>33025.5</td>\n",
       "      <td>...</td>\n",
       "      <td>0</td>\n",
       "      <td>0</td>\n",
       "      <td>0</td>\n",
       "      <td>0</td>\n",
       "      <td>0.0</td>\n",
       "      <td>0.0</td>\n",
       "      <td>0.0</td>\n",
       "      <td>0.0</td>\n",
       "      <td>0.0</td>\n",
       "      <td>1.0</td>\n",
       "    </tr>\n",
       "    <tr>\n",
       "      <th>4</th>\n",
       "      <td>188624</td>\n",
       "      <td>0</td>\n",
       "      <td>Cash loans</td>\n",
       "      <td>M</td>\n",
       "      <td>Y</td>\n",
       "      <td>Y</td>\n",
       "      <td>0</td>\n",
       "      <td>675000.0</td>\n",
       "      <td>835380.0</td>\n",
       "      <td>42840.0</td>\n",
       "      <td>...</td>\n",
       "      <td>0</td>\n",
       "      <td>0</td>\n",
       "      <td>0</td>\n",
       "      <td>0</td>\n",
       "      <td>0.0</td>\n",
       "      <td>0.0</td>\n",
       "      <td>0.0</td>\n",
       "      <td>0.0</td>\n",
       "      <td>0.0</td>\n",
       "      <td>2.0</td>\n",
       "    </tr>\n",
       "  </tbody>\n",
       "</table>\n",
       "<p>5 rows × 122 columns</p>\n",
       "</div>"
      ],
      "text/plain": [
       "   SK_ID_CURR  TARGET NAME_CONTRACT_TYPE CODE_GENDER FLAG_OWN_CAR  \\\n",
       "0      149741       1         Cash loans           F            N   \n",
       "1      363290       0         Cash loans           M            N   \n",
       "2      436006       0    Revolving loans           M            Y   \n",
       "3      377703       0         Cash loans           M            Y   \n",
       "4      188624       0         Cash loans           M            Y   \n",
       "\n",
       "  FLAG_OWN_REALTY  CNT_CHILDREN  AMT_INCOME_TOTAL  AMT_CREDIT  AMT_ANNUITY  \\\n",
       "0               N             0          117000.0    417024.0      20191.5   \n",
       "1               Y             0          450000.0    640080.0      31261.5   \n",
       "2               Y             0          450000.0    900000.0      45000.0   \n",
       "3               N             1          360000.0   1125000.0      33025.5   \n",
       "4               Y             0          675000.0    835380.0      42840.0   \n",
       "\n",
       "   ...  FLAG_DOCUMENT_18 FLAG_DOCUMENT_19 FLAG_DOCUMENT_20 FLAG_DOCUMENT_21  \\\n",
       "0  ...                 0                0                0                0   \n",
       "1  ...                 0                0                0                0   \n",
       "2  ...                 0                0                0                0   \n",
       "3  ...                 0                0                0                0   \n",
       "4  ...                 0                0                0                0   \n",
       "\n",
       "  AMT_REQ_CREDIT_BUREAU_HOUR AMT_REQ_CREDIT_BUREAU_DAY  \\\n",
       "0                        0.0                       0.0   \n",
       "1                        0.0                       0.0   \n",
       "2                        0.0                       0.0   \n",
       "3                        0.0                       0.0   \n",
       "4                        0.0                       0.0   \n",
       "\n",
       "   AMT_REQ_CREDIT_BUREAU_WEEK  AMT_REQ_CREDIT_BUREAU_MON  \\\n",
       "0                         0.0                        0.0   \n",
       "1                         0.0                        0.0   \n",
       "2                         0.0                        0.0   \n",
       "3                         0.0                        0.0   \n",
       "4                         0.0                        0.0   \n",
       "\n",
       "   AMT_REQ_CREDIT_BUREAU_QRT  AMT_REQ_CREDIT_BUREAU_YEAR  \n",
       "0                        0.0                         3.0  \n",
       "1                        0.0                         1.0  \n",
       "2                        2.0                         0.0  \n",
       "3                        0.0                         1.0  \n",
       "4                        0.0                         2.0  \n",
       "\n",
       "[5 rows x 122 columns]"
      ]
     },
     "execution_count": 4,
     "metadata": {},
     "output_type": "execute_result"
    }
   ],
   "source": [
    "df.head()"
   ]
  },
  {
   "cell_type": "code",
   "execution_count": 3,
   "metadata": {},
   "outputs": [],
   "source": [
    "# Сразу удалим уникальный айди\n",
    "df.drop(columns=['SK_ID_CURR'], inplace=True)"
   ]
  },
  {
   "cell_type": "markdown",
   "metadata": {},
   "source": [
    "Видим, что у нас есть очень разнородные признаки 122 признака - среди них мы видим как числовые, так и бинарные, также видим категорилаьные, где классов больше, чем 2."
   ]
  },
  {
   "cell_type": "markdown",
   "metadata": {},
   "source": [
    "Давайте посмотрим на категориальные фичи, убедимся, что среди них нет тех, с которыми мы умеем работать и оставим только числовые и бинарные."
   ]
  },
  {
   "cell_type": "code",
   "execution_count": 4,
   "metadata": {
    "collapsed": true,
    "jupyter": {
     "outputs_hidden": true
    },
    "tags": []
   },
   "outputs": [
    {
     "name": "stdout",
     "output_type": "stream",
     "text": [
      "---- NAME_CONTRACT_TYPE ---\n",
      "Cash loans         45188\n",
      "Revolving loans     4812\n",
      "Name: NAME_CONTRACT_TYPE, dtype: int64\n",
      "---- CODE_GENDER ---\n",
      "F      33029\n",
      "M      16970\n",
      "XNA        1\n",
      "Name: CODE_GENDER, dtype: int64\n",
      "---- FLAG_OWN_CAR ---\n",
      "N    32981\n",
      "Y    17019\n",
      "Name: FLAG_OWN_CAR, dtype: int64\n",
      "---- FLAG_OWN_REALTY ---\n",
      "Y    34758\n",
      "N    15242\n",
      "Name: FLAG_OWN_REALTY, dtype: int64\n",
      "---- NAME_TYPE_SUITE ---\n",
      "Unaccompanied      40492\n",
      "Family              6490\n",
      "Spouse, partner     1838\n",
      "Children             523\n",
      "Other_B              260\n",
      "Other_A              154\n",
      "Group of people       41\n",
      "Name: NAME_TYPE_SUITE, dtype: int64\n",
      "---- NAME_INCOME_TYPE ---\n",
      "Working                 25905\n",
      "Commercial associate    11653\n",
      "Pensioner                8910\n",
      "State servant            3520\n",
      "Student                     6\n",
      "Unemployed                  4\n",
      "Maternity leave             2\n",
      "Name: NAME_INCOME_TYPE, dtype: int64\n",
      "---- NAME_EDUCATION_TYPE ---\n",
      "Secondary / secondary special    35397\n",
      "Higher education                 12231\n",
      "Incomplete higher                 1709\n",
      "Lower secondary                    637\n",
      "Academic degree                     26\n",
      "Name: NAME_EDUCATION_TYPE, dtype: int64\n",
      "---- NAME_FAMILY_STATUS ---\n",
      "Married                 31958\n",
      "Single / not married     7372\n",
      "Civil marriage           4858\n",
      "Separated                3173\n",
      "Widow                    2638\n",
      "Unknown                     1\n",
      "Name: NAME_FAMILY_STATUS, dtype: int64\n",
      "---- NAME_HOUSING_TYPE ---\n",
      "House / apartment      44390\n",
      "With parents            2376\n",
      "Municipal apartment     1852\n",
      "Rented apartment         803\n",
      "Office apartment         414\n",
      "Co-op apartment          165\n",
      "Name: NAME_HOUSING_TYPE, dtype: int64\n",
      "---- OCCUPATION_TYPE ---\n",
      "Laborers                 8968\n",
      "Sales staff              5208\n",
      "Core staff               4645\n",
      "Managers                 3556\n",
      "Drivers                  2961\n",
      "High skill tech staff    1835\n",
      "Accountants              1569\n",
      "Medicine staff           1393\n",
      "Security staff           1110\n",
      "Cooking staff             992\n",
      "Cleaning staff            776\n",
      "Private service staff     454\n",
      "Low-skill Laborers        316\n",
      "Waiters/barmen staff      207\n",
      "Secretaries               201\n",
      "Realty agents             119\n",
      "HR staff                   93\n",
      "IT staff                   73\n",
      "Name: OCCUPATION_TYPE, dtype: int64\n",
      "---- WEEKDAY_APPR_PROCESS_START ---\n",
      "TUESDAY      8808\n",
      "WEDNESDAY    8584\n",
      "FRIDAY       8258\n",
      "THURSDAY     8190\n",
      "MONDAY       8106\n",
      "SATURDAY     5456\n",
      "SUNDAY       2598\n",
      "Name: WEEKDAY_APPR_PROCESS_START, dtype: int64\n",
      "---- ORGANIZATION_TYPE ---\n",
      "Business Entity Type 3    10992\n",
      "XNA                        8911\n",
      "Self-employed              6306\n",
      "Other                      2691\n",
      "Medicine                   1802\n",
      "Business Entity Type 2     1710\n",
      "Government                 1642\n",
      "School                     1469\n",
      "Trade: type 7              1269\n",
      "Kindergarten               1166\n",
      "Construction               1096\n",
      "Transport: type 4           918\n",
      "Business Entity Type 1      917\n",
      "Trade: type 3               597\n",
      "Industry: type 9            535\n",
      "Security                    532\n",
      "Industry: type 3            521\n",
      "Housing                     478\n",
      "Industry: type 11           467\n",
      "Bank                        436\n",
      "Military                    421\n",
      "Agriculture                 407\n",
      "Police                      383\n",
      "Transport: type 2           376\n",
      "Postal                      361\n",
      "Security Ministries         338\n",
      "Trade: type 2               321\n",
      "Services                    266\n",
      "Restaurant                  255\n",
      "Industry: type 7            232\n",
      "University                  223\n",
      "Transport: type 3           211\n",
      "Industry: type 1            172\n",
      "Electricity                 161\n",
      "Hotel                       157\n",
      "Industry: type 4            133\n",
      "Insurance                   107\n",
      "Trade: type 6               101\n",
      "Emergency                    91\n",
      "Telecom                      83\n",
      "Industry: type 5             81\n",
      "Advertising                  78\n",
      "Industry: type 12            75\n",
      "Industry: type 2             71\n",
      "Culture                      64\n",
      "Trade: type 1                61\n",
      "Legal Services               55\n",
      "Realtor                      51\n",
      "Cleaning                     44\n",
      "Mobile                       40\n",
      "Transport: type 1            35\n",
      "Industry: type 6             22\n",
      "Industry: type 10            18\n",
      "Industry: type 13            17\n",
      "Religion                     15\n",
      "Trade: type 5                 8\n",
      "Trade: type 4                 7\n",
      "Industry: type 8              4\n",
      "Name: ORGANIZATION_TYPE, dtype: int64\n",
      "---- FONDKAPREMONT_MODE ---\n",
      "reg oper account         12093\n",
      "reg oper spec account     1983\n",
      "org spec account           964\n",
      "not specified              946\n",
      "Name: FONDKAPREMONT_MODE, dtype: int64\n",
      "---- HOUSETYPE_MODE ---\n",
      "block of flats      24692\n",
      "specific housing      227\n",
      "terraced house        194\n",
      "Name: HOUSETYPE_MODE, dtype: int64\n",
      "---- WALLSMATERIAL_MODE ---\n",
      "Panel           10804\n",
      "Stone, brick    10610\n",
      "Block            1539\n",
      "Wooden            887\n",
      "Mixed             363\n",
      "Monolithic        293\n",
      "Others            269\n",
      "Name: WALLSMATERIAL_MODE, dtype: int64\n",
      "---- EMERGENCYSTATE_MODE ---\n",
      "No     26179\n",
      "Yes      372\n",
      "Name: EMERGENCYSTATE_MODE, dtype: int64\n",
      "CPU times: user 101 ms, sys: 6.49 ms, total: 108 ms\n",
      "Wall time: 125 ms\n"
     ]
    }
   ],
   "source": [
    "%%time\n",
    "for c in df.dtypes[df.dtypes == object].keys():\n",
    "    print (\"---- %s ---\" % c)\n",
    "    print (df[c].value_counts())"
   ]
  },
  {
   "cell_type": "markdown",
   "metadata": {},
   "source": [
    "Мы видим некоторые интересные колонки например \n",
    "'NAME_CONTRACT_TYPE'\n",
    "'CODE_GENDER'\n",
    "'FLAG_OWN_CAR'\n",
    "'FLAG_OWN_REALTY'\n",
    "'EMERGENCYSTATE_MODE'\n",
    "\n",
    "Мы видим, что это все на самом деле бинарные признаки, но либо есть пропуски либо имеют текстовые названия.\n",
    "\n"
   ]
  },
  {
   "cell_type": "markdown",
   "metadata": {},
   "source": [
    "## 1.1. Перейдем к простейшей обработке, которая нам дальше очень поможет"
   ]
  },
  {
   "cell_type": "markdown",
   "metadata": {},
   "source": [
    "Также мы видим, что в признаке пол - есть пропущенные значения необычного вида - XNA, дачайте заменим их на обычные пропуски."
   ]
  },
  {
   "cell_type": "code",
   "execution_count": 5,
   "metadata": {},
   "outputs": [],
   "source": [
    "df.replace('XNA', np.nan, inplace=True)"
   ]
  },
  {
   "cell_type": "code",
   "execution_count": 6,
   "metadata": {},
   "outputs": [],
   "source": [
    "#это все колонки, которые имеют количественные значения или числовые (например бинарные 0,1)\n",
    "numeric_features = df.dtypes[(df.dtypes == np.float64) | (df.dtypes == np.int64)].keys().tolist()\n",
    "#также выберем заинетерсовавшие нас категориальные признаки \n",
    "cat_features = ['NAME_CONTRACT_TYPE', 'CODE_GENDER', 'FLAG_OWN_CAR', 'FLAG_OWN_REALTY','EMERGENCYSTATE_MODE']"
   ]
  },
  {
   "cell_type": "markdown",
   "metadata": {},
   "source": [
    "Ограничимся набором таких колонок, остальные пока отложим."
   ]
  },
  {
   "cell_type": "code",
   "execution_count": 7,
   "metadata": {},
   "outputs": [],
   "source": [
    "df = df[numeric_features + cat_features]"
   ]
  },
  {
   "cell_type": "markdown",
   "metadata": {},
   "source": [
    "Отлично теперь можно переходить к обработке пропущенных значений."
   ]
  },
  {
   "cell_type": "markdown",
   "metadata": {},
   "source": [
    "## 1.2. Сформируем отложенную выборку"
   ]
  },
  {
   "cell_type": "code",
   "execution_count": 8,
   "metadata": {},
   "outputs": [],
   "source": [
    "#Отложим часть выборки, чтобы убедиться в дальнейшем, что наша модель не переобучилась.\n",
    "df_test = df.sample(n=10000, random_state=0)\n",
    "df_train = df.drop(index=df_test.index)\n",
    "\n",
    "df_test = df_test.reset_index(drop=True)\n",
    "df_train = df_train.reset_index(drop=True)"
   ]
  },
  {
   "cell_type": "markdown",
   "metadata": {},
   "source": [
    "Теперь мы можем начать заполнять пропущенные значения и обрабатывать признаки."
   ]
  },
  {
   "cell_type": "markdown",
   "metadata": {},
   "source": [
    "## 1.3. Обработка категориальных признаков"
   ]
  },
  {
   "cell_type": "markdown",
   "metadata": {},
   "source": [
    "### 1.3.1. Обработка пропущенных значений"
   ]
  },
  {
   "cell_type": "markdown",
   "metadata": {},
   "source": [
    "Начнем с обработки пропущенных значений, как мы помним есть несколько вариантов, мы выберем **заполнение средним** и **заполнение самым частым значением**"
   ]
  },
  {
   "cell_type": "markdown",
   "metadata": {},
   "source": [
    "В sklearn сть отдельный класс, который очень помогает в таких ситуациях.\n",
    "\n",
    "Ссылка на его документацию: https://scikit-learn.org/stable/modules/generated/sklearn.impute.SimpleImputer.html"
   ]
  },
  {
   "cell_type": "code",
   "execution_count": 9,
   "metadata": {},
   "outputs": [],
   "source": [
    "from sklearn.impute import SimpleImputer"
   ]
  },
  {
   "cell_type": "code",
   "execution_count": 10,
   "metadata": {},
   "outputs": [],
   "source": [
    "# Создадим класс обработчика пропущенных значений\n",
    "# Будем заполнять самым частым значением\n",
    "imp_cat = SimpleImputer(strategy=\"most_frequent\")"
   ]
  },
  {
   "cell_type": "code",
   "execution_count": 11,
   "metadata": {},
   "outputs": [
    {
     "name": "stdout",
     "output_type": "stream",
     "text": [
      "CPU times: user 662 ms, sys: 2.77 ms, total: 664 ms\n",
      "Wall time: 664 ms\n"
     ]
    }
   ],
   "source": [
    "%%time\n",
    "df_train[cat_features] = imp_cat.fit_transform(df_train[cat_features])\n",
    "df_test[cat_features] = imp_cat.transform(df_test[cat_features])"
   ]
  },
  {
   "cell_type": "code",
   "execution_count": 14,
   "metadata": {
    "scrolled": true
   },
   "outputs": [
    {
     "data": {
      "text/html": [
       "<div>\n",
       "<style scoped>\n",
       "    .dataframe tbody tr th:only-of-type {\n",
       "        vertical-align: middle;\n",
       "    }\n",
       "\n",
       "    .dataframe tbody tr th {\n",
       "        vertical-align: top;\n",
       "    }\n",
       "\n",
       "    .dataframe thead th {\n",
       "        text-align: right;\n",
       "    }\n",
       "</style>\n",
       "<table border=\"1\" class=\"dataframe\">\n",
       "  <thead>\n",
       "    <tr style=\"text-align: right;\">\n",
       "      <th></th>\n",
       "      <th>NAME_CONTRACT_TYPE</th>\n",
       "      <th>CODE_GENDER</th>\n",
       "      <th>FLAG_OWN_CAR</th>\n",
       "      <th>FLAG_OWN_REALTY</th>\n",
       "      <th>EMERGENCYSTATE_MODE</th>\n",
       "    </tr>\n",
       "  </thead>\n",
       "  <tbody>\n",
       "    <tr>\n",
       "      <th>0</th>\n",
       "      <td>Cash loans</td>\n",
       "      <td>F</td>\n",
       "      <td>N</td>\n",
       "      <td>N</td>\n",
       "      <td>No</td>\n",
       "    </tr>\n",
       "    <tr>\n",
       "      <th>1</th>\n",
       "      <td>Revolving loans</td>\n",
       "      <td>M</td>\n",
       "      <td>Y</td>\n",
       "      <td>Y</td>\n",
       "      <td>No</td>\n",
       "    </tr>\n",
       "    <tr>\n",
       "      <th>2</th>\n",
       "      <td>Cash loans</td>\n",
       "      <td>M</td>\n",
       "      <td>Y</td>\n",
       "      <td>Y</td>\n",
       "      <td>No</td>\n",
       "    </tr>\n",
       "    <tr>\n",
       "      <th>3</th>\n",
       "      <td>Cash loans</td>\n",
       "      <td>M</td>\n",
       "      <td>Y</td>\n",
       "      <td>Y</td>\n",
       "      <td>No</td>\n",
       "    </tr>\n",
       "    <tr>\n",
       "      <th>4</th>\n",
       "      <td>Cash loans</td>\n",
       "      <td>F</td>\n",
       "      <td>N</td>\n",
       "      <td>Y</td>\n",
       "      <td>No</td>\n",
       "    </tr>\n",
       "  </tbody>\n",
       "</table>\n",
       "</div>"
      ],
      "text/plain": [
       "  NAME_CONTRACT_TYPE CODE_GENDER FLAG_OWN_CAR FLAG_OWN_REALTY  \\\n",
       "0         Cash loans           F            N               N   \n",
       "1    Revolving loans           M            Y               Y   \n",
       "2         Cash loans           M            Y               Y   \n",
       "3         Cash loans           M            Y               Y   \n",
       "4         Cash loans           F            N               Y   \n",
       "\n",
       "  EMERGENCYSTATE_MODE  \n",
       "0                  No  \n",
       "1                  No  \n",
       "2                  No  \n",
       "3                  No  \n",
       "4                  No  "
      ]
     },
     "execution_count": 14,
     "metadata": {},
     "output_type": "execute_result"
    }
   ],
   "source": [
    "df_train[cat_features].head()"
   ]
  },
  {
   "cell_type": "markdown",
   "metadata": {},
   "source": [
    "<!-- ### 1.3.1. Перевод в числовое значение (encoding) -->"
   ]
  },
  {
   "cell_type": "markdown",
   "metadata": {},
   "source": [
    "Теперь нам нужно перевести их в числовой тип. То есть одному типу присвоить значение 1 - другому 0."
   ]
  },
  {
   "cell_type": "markdown",
   "metadata": {},
   "source": [
    "###  1.3.2. Перевод в числовое значение (encoding)"
   ]
  },
  {
   "cell_type": "markdown",
   "metadata": {},
   "source": [
    "Переведем их в бинарный вид для этого в sklearn есть специальный класс\n",
    "\n",
    "Ссылка на его документацию: https://scikit-learn.org/stable/modules/generated/sklearn.preprocessing.OrdinalEncoder.html"
   ]
  },
  {
   "cell_type": "code",
   "execution_count": 12,
   "metadata": {},
   "outputs": [],
   "source": [
    "from sklearn.preprocessing import OrdinalEncoder"
   ]
  },
  {
   "cell_type": "code",
   "execution_count": 13,
   "metadata": {},
   "outputs": [],
   "source": [
    "# Создадим класс категориального обработчика\n",
    "enc = OrdinalEncoder()"
   ]
  },
  {
   "cell_type": "code",
   "execution_count": 14,
   "metadata": {},
   "outputs": [],
   "source": [
    "# Всем категориальным значениям присвоим либо 1 либо 0, в зависимости от того, какое значение они принимают.\n",
    "df_train[cat_features] = enc.fit_transform(df_train[cat_features])\n",
    "df_test[cat_features] = enc.transform(df_test[cat_features])"
   ]
  },
  {
   "cell_type": "code",
   "execution_count": 15,
   "metadata": {},
   "outputs": [
    {
     "data": {
      "text/html": [
       "<div>\n",
       "<style scoped>\n",
       "    .dataframe tbody tr th:only-of-type {\n",
       "        vertical-align: middle;\n",
       "    }\n",
       "\n",
       "    .dataframe tbody tr th {\n",
       "        vertical-align: top;\n",
       "    }\n",
       "\n",
       "    .dataframe thead th {\n",
       "        text-align: right;\n",
       "    }\n",
       "</style>\n",
       "<table border=\"1\" class=\"dataframe\">\n",
       "  <thead>\n",
       "    <tr style=\"text-align: right;\">\n",
       "      <th></th>\n",
       "      <th>NAME_CONTRACT_TYPE</th>\n",
       "      <th>CODE_GENDER</th>\n",
       "      <th>FLAG_OWN_CAR</th>\n",
       "      <th>FLAG_OWN_REALTY</th>\n",
       "      <th>EMERGENCYSTATE_MODE</th>\n",
       "    </tr>\n",
       "  </thead>\n",
       "  <tbody>\n",
       "    <tr>\n",
       "      <th>0</th>\n",
       "      <td>0.0</td>\n",
       "      <td>0.0</td>\n",
       "      <td>0.0</td>\n",
       "      <td>0.0</td>\n",
       "      <td>0.0</td>\n",
       "    </tr>\n",
       "    <tr>\n",
       "      <th>1</th>\n",
       "      <td>1.0</td>\n",
       "      <td>1.0</td>\n",
       "      <td>1.0</td>\n",
       "      <td>1.0</td>\n",
       "      <td>0.0</td>\n",
       "    </tr>\n",
       "    <tr>\n",
       "      <th>2</th>\n",
       "      <td>0.0</td>\n",
       "      <td>1.0</td>\n",
       "      <td>1.0</td>\n",
       "      <td>1.0</td>\n",
       "      <td>0.0</td>\n",
       "    </tr>\n",
       "    <tr>\n",
       "      <th>3</th>\n",
       "      <td>0.0</td>\n",
       "      <td>1.0</td>\n",
       "      <td>1.0</td>\n",
       "      <td>1.0</td>\n",
       "      <td>0.0</td>\n",
       "    </tr>\n",
       "    <tr>\n",
       "      <th>4</th>\n",
       "      <td>0.0</td>\n",
       "      <td>0.0</td>\n",
       "      <td>0.0</td>\n",
       "      <td>1.0</td>\n",
       "      <td>0.0</td>\n",
       "    </tr>\n",
       "  </tbody>\n",
       "</table>\n",
       "</div>"
      ],
      "text/plain": [
       "   NAME_CONTRACT_TYPE  CODE_GENDER  FLAG_OWN_CAR  FLAG_OWN_REALTY  \\\n",
       "0                 0.0          0.0           0.0              0.0   \n",
       "1                 1.0          1.0           1.0              1.0   \n",
       "2                 0.0          1.0           1.0              1.0   \n",
       "3                 0.0          1.0           1.0              1.0   \n",
       "4                 0.0          0.0           0.0              1.0   \n",
       "\n",
       "   EMERGENCYSTATE_MODE  \n",
       "0                  0.0  \n",
       "1                  0.0  \n",
       "2                  0.0  \n",
       "3                  0.0  \n",
       "4                  0.0  "
      ]
     },
     "execution_count": 15,
     "metadata": {},
     "output_type": "execute_result"
    }
   ],
   "source": [
    "df_train[cat_features].head()"
   ]
  },
  {
   "cell_type": "markdown",
   "metadata": {},
   "source": [
    "Отлично категориальные фичи мы обработали, теперь перейдем к числовым."
   ]
  },
  {
   "cell_type": "markdown",
   "metadata": {},
   "source": [
    "## 1.4. Обработка числовых признаков"
   ]
  },
  {
   "cell_type": "markdown",
   "metadata": {},
   "source": [
    "### 1.4.1 Обработка пропущенных значений"
   ]
  },
  {
   "cell_type": "markdown",
   "metadata": {},
   "source": [
    "#### 1.4.1.1. У числовых фичей только с двумя значениями"
   ]
  },
  {
   "cell_type": "markdown",
   "metadata": {},
   "source": [
    "В числовых фичах можно заметить, что есть такие признаки как флаги  - они по другому являются бинарными, то есть принимают значение либо 0 либо 1. Значит при обработке их пропущенных значений нужно будет использовать стратегию заполнения самым частым значением. Для всех остальных признаков бедум использовать заполнение средним значением. Повторим то что делали для категориальных признаков здесь."
   ]
  },
  {
   "cell_type": "code",
   "execution_count": 19,
   "metadata": {},
   "outputs": [
    {
     "data": {
      "text/html": [
       "<div>\n",
       "<style scoped>\n",
       "    .dataframe tbody tr th:only-of-type {\n",
       "        vertical-align: middle;\n",
       "    }\n",
       "\n",
       "    .dataframe tbody tr th {\n",
       "        vertical-align: top;\n",
       "    }\n",
       "\n",
       "    .dataframe thead th {\n",
       "        text-align: right;\n",
       "    }\n",
       "</style>\n",
       "<table border=\"1\" class=\"dataframe\">\n",
       "  <thead>\n",
       "    <tr style=\"text-align: right;\">\n",
       "      <th></th>\n",
       "      <th>TARGET</th>\n",
       "      <th>CNT_CHILDREN</th>\n",
       "      <th>AMT_INCOME_TOTAL</th>\n",
       "      <th>AMT_CREDIT</th>\n",
       "      <th>AMT_ANNUITY</th>\n",
       "      <th>AMT_GOODS_PRICE</th>\n",
       "      <th>REGION_POPULATION_RELATIVE</th>\n",
       "      <th>DAYS_BIRTH</th>\n",
       "      <th>DAYS_EMPLOYED</th>\n",
       "      <th>DAYS_REGISTRATION</th>\n",
       "      <th>...</th>\n",
       "      <th>FLAG_DOCUMENT_18</th>\n",
       "      <th>FLAG_DOCUMENT_19</th>\n",
       "      <th>FLAG_DOCUMENT_20</th>\n",
       "      <th>FLAG_DOCUMENT_21</th>\n",
       "      <th>AMT_REQ_CREDIT_BUREAU_HOUR</th>\n",
       "      <th>AMT_REQ_CREDIT_BUREAU_DAY</th>\n",
       "      <th>AMT_REQ_CREDIT_BUREAU_WEEK</th>\n",
       "      <th>AMT_REQ_CREDIT_BUREAU_MON</th>\n",
       "      <th>AMT_REQ_CREDIT_BUREAU_QRT</th>\n",
       "      <th>AMT_REQ_CREDIT_BUREAU_YEAR</th>\n",
       "    </tr>\n",
       "  </thead>\n",
       "  <tbody>\n",
       "    <tr>\n",
       "      <th>0</th>\n",
       "      <td>1</td>\n",
       "      <td>0</td>\n",
       "      <td>117000.0</td>\n",
       "      <td>417024.0</td>\n",
       "      <td>20191.5</td>\n",
       "      <td>360000.0</td>\n",
       "      <td>0.020246</td>\n",
       "      <td>-21774</td>\n",
       "      <td>-2125</td>\n",
       "      <td>-4611.0</td>\n",
       "      <td>...</td>\n",
       "      <td>0</td>\n",
       "      <td>0</td>\n",
       "      <td>0</td>\n",
       "      <td>0</td>\n",
       "      <td>0.0</td>\n",
       "      <td>0.0</td>\n",
       "      <td>0.0</td>\n",
       "      <td>0.0</td>\n",
       "      <td>0.0</td>\n",
       "      <td>3.0</td>\n",
       "    </tr>\n",
       "    <tr>\n",
       "      <th>1</th>\n",
       "      <td>0</td>\n",
       "      <td>0</td>\n",
       "      <td>450000.0</td>\n",
       "      <td>640080.0</td>\n",
       "      <td>31261.5</td>\n",
       "      <td>450000.0</td>\n",
       "      <td>0.046220</td>\n",
       "      <td>-18499</td>\n",
       "      <td>-2055</td>\n",
       "      <td>-3052.0</td>\n",
       "      <td>...</td>\n",
       "      <td>0</td>\n",
       "      <td>0</td>\n",
       "      <td>0</td>\n",
       "      <td>0</td>\n",
       "      <td>0.0</td>\n",
       "      <td>0.0</td>\n",
       "      <td>0.0</td>\n",
       "      <td>0.0</td>\n",
       "      <td>0.0</td>\n",
       "      <td>1.0</td>\n",
       "    </tr>\n",
       "    <tr>\n",
       "      <th>2</th>\n",
       "      <td>0</td>\n",
       "      <td>0</td>\n",
       "      <td>450000.0</td>\n",
       "      <td>900000.0</td>\n",
       "      <td>45000.0</td>\n",
       "      <td>900000.0</td>\n",
       "      <td>0.010643</td>\n",
       "      <td>-18084</td>\n",
       "      <td>-4159</td>\n",
       "      <td>-8525.0</td>\n",
       "      <td>...</td>\n",
       "      <td>0</td>\n",
       "      <td>0</td>\n",
       "      <td>0</td>\n",
       "      <td>0</td>\n",
       "      <td>0.0</td>\n",
       "      <td>0.0</td>\n",
       "      <td>0.0</td>\n",
       "      <td>0.0</td>\n",
       "      <td>2.0</td>\n",
       "      <td>0.0</td>\n",
       "    </tr>\n",
       "    <tr>\n",
       "      <th>3</th>\n",
       "      <td>0</td>\n",
       "      <td>1</td>\n",
       "      <td>360000.0</td>\n",
       "      <td>1125000.0</td>\n",
       "      <td>33025.5</td>\n",
       "      <td>1125000.0</td>\n",
       "      <td>0.018634</td>\n",
       "      <td>-12319</td>\n",
       "      <td>-2532</td>\n",
       "      <td>-12304.0</td>\n",
       "      <td>...</td>\n",
       "      <td>0</td>\n",
       "      <td>0</td>\n",
       "      <td>0</td>\n",
       "      <td>0</td>\n",
       "      <td>0.0</td>\n",
       "      <td>0.0</td>\n",
       "      <td>0.0</td>\n",
       "      <td>0.0</td>\n",
       "      <td>0.0</td>\n",
       "      <td>1.0</td>\n",
       "    </tr>\n",
       "    <tr>\n",
       "      <th>4</th>\n",
       "      <td>0</td>\n",
       "      <td>0</td>\n",
       "      <td>675000.0</td>\n",
       "      <td>835380.0</td>\n",
       "      <td>42840.0</td>\n",
       "      <td>675000.0</td>\n",
       "      <td>0.020713</td>\n",
       "      <td>-10151</td>\n",
       "      <td>-2516</td>\n",
       "      <td>-2789.0</td>\n",
       "      <td>...</td>\n",
       "      <td>0</td>\n",
       "      <td>0</td>\n",
       "      <td>0</td>\n",
       "      <td>0</td>\n",
       "      <td>0.0</td>\n",
       "      <td>0.0</td>\n",
       "      <td>0.0</td>\n",
       "      <td>0.0</td>\n",
       "      <td>0.0</td>\n",
       "      <td>2.0</td>\n",
       "    </tr>\n",
       "  </tbody>\n",
       "</table>\n",
       "<p>5 rows × 105 columns</p>\n",
       "</div>"
      ],
      "text/plain": [
       "   TARGET  CNT_CHILDREN  AMT_INCOME_TOTAL  AMT_CREDIT  AMT_ANNUITY  \\\n",
       "0       1             0          117000.0    417024.0      20191.5   \n",
       "1       0             0          450000.0    640080.0      31261.5   \n",
       "2       0             0          450000.0    900000.0      45000.0   \n",
       "3       0             1          360000.0   1125000.0      33025.5   \n",
       "4       0             0          675000.0    835380.0      42840.0   \n",
       "\n",
       "   AMT_GOODS_PRICE  REGION_POPULATION_RELATIVE  DAYS_BIRTH  DAYS_EMPLOYED  \\\n",
       "0         360000.0                    0.020246      -21774          -2125   \n",
       "1         450000.0                    0.046220      -18499          -2055   \n",
       "2         900000.0                    0.010643      -18084          -4159   \n",
       "3        1125000.0                    0.018634      -12319          -2532   \n",
       "4         675000.0                    0.020713      -10151          -2516   \n",
       "\n",
       "   DAYS_REGISTRATION  ...  FLAG_DOCUMENT_18  FLAG_DOCUMENT_19  \\\n",
       "0            -4611.0  ...                 0                 0   \n",
       "1            -3052.0  ...                 0                 0   \n",
       "2            -8525.0  ...                 0                 0   \n",
       "3           -12304.0  ...                 0                 0   \n",
       "4            -2789.0  ...                 0                 0   \n",
       "\n",
       "   FLAG_DOCUMENT_20  FLAG_DOCUMENT_21  AMT_REQ_CREDIT_BUREAU_HOUR  \\\n",
       "0                 0                 0                         0.0   \n",
       "1                 0                 0                         0.0   \n",
       "2                 0                 0                         0.0   \n",
       "3                 0                 0                         0.0   \n",
       "4                 0                 0                         0.0   \n",
       "\n",
       "   AMT_REQ_CREDIT_BUREAU_DAY  AMT_REQ_CREDIT_BUREAU_WEEK  \\\n",
       "0                        0.0                         0.0   \n",
       "1                        0.0                         0.0   \n",
       "2                        0.0                         0.0   \n",
       "3                        0.0                         0.0   \n",
       "4                        0.0                         0.0   \n",
       "\n",
       "   AMT_REQ_CREDIT_BUREAU_MON  AMT_REQ_CREDIT_BUREAU_QRT  \\\n",
       "0                        0.0                        0.0   \n",
       "1                        0.0                        0.0   \n",
       "2                        0.0                        2.0   \n",
       "3                        0.0                        0.0   \n",
       "4                        0.0                        0.0   \n",
       "\n",
       "   AMT_REQ_CREDIT_BUREAU_YEAR  \n",
       "0                         3.0  \n",
       "1                         1.0  \n",
       "2                         0.0  \n",
       "3                         1.0  \n",
       "4                         2.0  \n",
       "\n",
       "[5 rows x 105 columns]"
      ]
     },
     "execution_count": 19,
     "metadata": {},
     "output_type": "execute_result"
    }
   ],
   "source": [
    "df[numeric_features].head()"
   ]
  },
  {
   "cell_type": "markdown",
   "metadata": {},
   "source": [
    "Для начала найдем все такие признаки, которые принимают только два значения и запомним их, чтобы обработать отдельно."
   ]
  },
  {
   "cell_type": "code",
   "execution_count": 16,
   "metadata": {},
   "outputs": [],
   "source": [
    "cat_bin_features = []\n",
    "for i in numeric_features:\n",
    "    if len(df[i].value_counts().keys().tolist()) == 2:\n",
    "        cat_bin_features.append(i)"
   ]
  },
  {
   "cell_type": "markdown",
   "metadata": {},
   "source": [
    "Давайте посмотрим на них."
   ]
  },
  {
   "cell_type": "code",
   "execution_count": 21,
   "metadata": {},
   "outputs": [
    {
     "data": {
      "text/plain": [
       "['TARGET',\n",
       " 'FLAG_EMP_PHONE',\n",
       " 'FLAG_WORK_PHONE',\n",
       " 'FLAG_CONT_MOBILE',\n",
       " 'FLAG_PHONE',\n",
       " 'FLAG_EMAIL',\n",
       " 'REG_REGION_NOT_LIVE_REGION',\n",
       " 'REG_REGION_NOT_WORK_REGION',\n",
       " 'LIVE_REGION_NOT_WORK_REGION',\n",
       " 'REG_CITY_NOT_LIVE_CITY',\n",
       " 'REG_CITY_NOT_WORK_CITY',\n",
       " 'LIVE_CITY_NOT_WORK_CITY',\n",
       " 'FLAG_DOCUMENT_2',\n",
       " 'FLAG_DOCUMENT_3',\n",
       " 'FLAG_DOCUMENT_4',\n",
       " 'FLAG_DOCUMENT_5',\n",
       " 'FLAG_DOCUMENT_6',\n",
       " 'FLAG_DOCUMENT_7',\n",
       " 'FLAG_DOCUMENT_8',\n",
       " 'FLAG_DOCUMENT_9',\n",
       " 'FLAG_DOCUMENT_10',\n",
       " 'FLAG_DOCUMENT_11',\n",
       " 'FLAG_DOCUMENT_13',\n",
       " 'FLAG_DOCUMENT_14',\n",
       " 'FLAG_DOCUMENT_15',\n",
       " 'FLAG_DOCUMENT_16',\n",
       " 'FLAG_DOCUMENT_17',\n",
       " 'FLAG_DOCUMENT_18',\n",
       " 'FLAG_DOCUMENT_19',\n",
       " 'FLAG_DOCUMENT_20',\n",
       " 'FLAG_DOCUMENT_21']"
      ]
     },
     "execution_count": 21,
     "metadata": {},
     "output_type": "execute_result"
    }
   ],
   "source": [
    "cat_bin_features"
   ]
  },
  {
   "cell_type": "markdown",
   "metadata": {},
   "source": [
    "Мы уже так обрабатывали другие категориальные признаки, поэтому здесь просто повторим."
   ]
  },
  {
   "cell_type": "code",
   "execution_count": 17,
   "metadata": {},
   "outputs": [],
   "source": [
    "# Создадим класс обработчика пропущенных значений\n",
    "# Будем заполнять самым частым значением\n",
    "imp_bin_cat = SimpleImputer(strategy=\"most_frequent\")"
   ]
  },
  {
   "cell_type": "code",
   "execution_count": 18,
   "metadata": {},
   "outputs": [
    {
     "name": "stdout",
     "output_type": "stream",
     "text": [
      "CPU times: user 433 ms, sys: 0 ns, total: 433 ms\n",
      "Wall time: 431 ms\n"
     ]
    }
   ],
   "source": [
    "%%time\n",
    "df_train[cat_bin_features] = imp_cat.fit_transform(df_train[cat_bin_features])\n",
    "df_test[cat_bin_features] = imp_cat.transform(df_test[cat_bin_features])"
   ]
  },
  {
   "cell_type": "markdown",
   "metadata": {},
   "source": [
    "#### 1.4.1.2. У всех остальных числовых фичей"
   ]
  },
  {
   "cell_type": "code",
   "execution_count": 19,
   "metadata": {},
   "outputs": [],
   "source": [
    "# Создадим класс обработчика пропущенных значений\n",
    "# Будем заполнять медианным\n",
    "imp_numeric = SimpleImputer(missing_values=np.nan, strategy='mean')"
   ]
  },
  {
   "cell_type": "code",
   "execution_count": 20,
   "metadata": {},
   "outputs": [
    {
     "name": "stdout",
     "output_type": "stream",
     "text": [
      "CPU times: user 1 s, sys: 51.7 ms, total: 1.05 s\n",
      "Wall time: 1.05 s\n"
     ]
    }
   ],
   "source": [
    "%%time\n",
    "df_train[numeric_features] = imp_cat.fit_transform(df_train[numeric_features])\n",
    "df_test[numeric_features] = imp_cat.transform(df_test[numeric_features])"
   ]
  },
  {
   "cell_type": "markdown",
   "metadata": {},
   "source": [
    "Отлично, мы обработали данные.\n",
    "Заполнили все пропуски. Перевели категориальные фичи в удобный для нас вид. Собрали итоговый обучающий датасет и итоговый тестовый датасет."
   ]
  },
  {
   "cell_type": "markdown",
   "metadata": {},
   "source": [
    "Теперь разделить пространство объектов от пространсва ответов в обучающей и тестовой выборках"
   ]
  },
  {
   "cell_type": "code",
   "execution_count": 23,
   "metadata": {},
   "outputs": [],
   "source": [
    "#### Задание 2 ####\n",
    "X_train = df_train[df_train.columns[1:][:10]]\n",
    "X_test = df_test[df_train.columns[1:][:10]]\n",
    "\n",
    "y_train = df_train['TARGET']\n",
    "y_test = df_test['TARGET']"
   ]
  },
  {
   "cell_type": "code",
   "execution_count": 27,
   "metadata": {},
   "outputs": [],
   "source": [
    "#X_train = df_train.drop(columns='TARGET')\n",
    "#X_test = df_test.drop(columns='TARGET')\n",
    "\n",
    "#y_train = df_train['TARGET']\n",
    "#y_test = df_test['TARGET']"
   ]
  },
  {
   "cell_type": "markdown",
   "metadata": {},
   "source": [
    "## 1.5. Скалирование данных"
   ]
  },
  {
   "cell_type": "markdown",
   "metadata": {},
   "source": [
    "https://scikit-learn.org/stable/modules/generated/sklearn.preprocessing.StandardScaler.html"
   ]
  },
  {
   "cell_type": "markdown",
   "metadata": {},
   "source": [
    "Используем стандартное преобразование данных как в прошлом уроке."
   ]
  },
  {
   "cell_type": "code",
   "execution_count": 21,
   "metadata": {},
   "outputs": [],
   "source": [
    "from sklearn.preprocessing import StandardScaler"
   ]
  },
  {
   "cell_type": "markdown",
   "metadata": {},
   "source": [
    "$$x_i^j = \\frac{x_i^j - \\mu_j}{\\sigma_j}$$"
   ]
  },
  {
   "cell_type": "code",
   "execution_count": 24,
   "metadata": {},
   "outputs": [],
   "source": [
    "# зададим объекты - трансформеры, \n",
    "# которые преобразуют наши данные и запомнят средние\n",
    "\n",
    "standard = StandardScaler()\n",
    "\n",
    "# метод фит вычисляет все вспомогательные значения по каждому признаку\n",
    "standard.fit(X_train)\n",
    "\n",
    "#нам нужно преобразовать как тестовую, так и тренировочную выборку,\n",
    "#хорошим тоном считается вычислять вспомогательные значения по обучающей выборке\n",
    "X_train_standard = standard.transform(X_train)\n",
    "X_test_standard = standard.transform(X_test)"
   ]
  },
  {
   "cell_type": "markdown",
   "metadata": {},
   "source": [
    "Теперь можно переходить к части моделирования."
   ]
  },
  {
   "cell_type": "markdown",
   "metadata": {},
   "source": [
    "# 2. Моделирование"
   ]
  },
  {
   "cell_type": "markdown",
   "metadata": {},
   "source": [
    "## 2.1 Посмотрим на метрику"
   ]
  },
  {
   "cell_type": "markdown",
   "metadata": {},
   "source": [
    "Организаторы конкурса как основную мерику выбрали ROC-AUC, но мы уже с ней знакомы, поэтому мы знаем как она строится и знаем, что схитрить также как с accuracy  с ней не получится, потому что она не чувствительна к дисбалансу классов."
   ]
  },
  {
   "cell_type": "markdown",
   "metadata": {},
   "source": [
    "Для ее подсчета в sklearn есть нужная функция.\n",
    "\n",
    "Ссылка на ее документацию: https://scikit-learn.org/stable/modules/generated/sklearn.metrics.roc_auc_score.html"
   ]
  },
  {
   "cell_type": "code",
   "execution_count": 25,
   "metadata": {},
   "outputs": [],
   "source": [
    "from sklearn.metrics import roc_auc_score"
   ]
  },
  {
   "cell_type": "markdown",
   "metadata": {},
   "source": [
    "## 2.2 Построим наивный алгоритм и посмотрим какое качество он дает"
   ]
  },
  {
   "cell_type": "code",
   "execution_count": 30,
   "metadata": {},
   "outputs": [
    {
     "data": {
      "text/plain": [
       "0.5"
      ]
     },
     "execution_count": 30,
     "metadata": {},
     "output_type": "execute_result"
    }
   ],
   "source": [
    "roc_auc_score(y_train, [0]*len(y_train))"
   ]
  },
  {
   "cell_type": "code",
   "execution_count": 31,
   "metadata": {},
   "outputs": [
    {
     "data": {
      "text/plain": [
       "0.5"
      ]
     },
     "execution_count": 31,
     "metadata": {},
     "output_type": "execute_result"
    }
   ],
   "source": [
    "roc_auc_score(y_train, [1]*len(y_train))"
   ]
  },
  {
   "cell_type": "markdown",
   "metadata": {},
   "source": [
    "Мы видим, что не удалось обмануть ROC-AUC  - он правильно понял, что наша модель плохая. Качество 0.5 говорит о том, что наша модель не лучше чем \"подбрасывать монетку\"."
   ]
  },
  {
   "cell_type": "markdown",
   "metadata": {},
   "source": [
    "## 2.3 Построим логистическую регрессию"
   ]
  },
  {
   "cell_type": "markdown",
   "metadata": {},
   "source": [
    "Логистическая регрессия уже реализована в sklearn\n",
    "\n",
    "Ссылка на ее документацию: https://scikit-learn.org/stable/modules/generated/sklearn.linear_model.LogisticRegression.html"
   ]
  },
  {
   "cell_type": "code",
   "execution_count": 26,
   "metadata": {},
   "outputs": [],
   "source": [
    "from sklearn.linear_model import LogisticRegression"
   ]
  },
  {
   "cell_type": "code",
   "execution_count": 27,
   "metadata": {},
   "outputs": [],
   "source": [
    "#Нужно ответить на вопрос - посмотрев докуметацию\n",
    "#Какая регуляризация используется здесь в дефолтных параметрах\n",
    "#L1, L2 или никакой\n",
    "logreg = LogisticRegression(max_iter=1000)"
   ]
  },
  {
   "cell_type": "code",
   "execution_count": 28,
   "metadata": {},
   "outputs": [
    {
     "data": {
      "text/plain": [
       "LogisticRegression(max_iter=1000)"
      ]
     },
     "execution_count": 28,
     "metadata": {},
     "output_type": "execute_result"
    }
   ],
   "source": [
    "#Обучим логистическую регрессию\n",
    "logreg.fit(X_train_standard, y_train)"
   ]
  },
  {
   "cell_type": "markdown",
   "metadata": {},
   "source": [
    "## 2.4 Замерим качество"
   ]
  },
  {
   "cell_type": "code",
   "execution_count": 30,
   "metadata": {},
   "outputs": [],
   "source": [
    "#Чтобы вернуть предсказание вероятностей принадлежности, \n",
    "#нужно использовать метод predict_proba он возвращает \n",
    "#в первой колонке вероятность принадлежности к классу 0, а во второй к классу 1.\n",
    "proba = logreg.predict_proba(X_test_standard)"
   ]
  },
  {
   "cell_type": "code",
   "execution_count": 31,
   "metadata": {},
   "outputs": [],
   "source": [
    "roc_auc = roc_auc_score(y_test, proba[:,1])"
   ]
  },
  {
   "cell_type": "code",
   "execution_count": 32,
   "metadata": {},
   "outputs": [
    {
     "data": {
      "text/plain": [
       "0.6294854207567679"
      ]
     },
     "execution_count": 32,
     "metadata": {},
     "output_type": "execute_result"
    }
   ],
   "source": [
    "roc_auc"
   ]
  },
  {
   "cell_type": "markdown",
   "metadata": {},
   "source": [
    "## 2.5 Построим ROC"
   ]
  },
  {
   "cell_type": "markdown",
   "metadata": {},
   "source": [
    "Класс! Мы так улучшили нашу модель, но еще есть куда расти.\n",
    "Давайте также нарисуем ROC кривую. Функция для нее также есть в пакете sklearn.\n",
    "\n",
    "Ссылка на ее документацию: https://scikit-learn.org/stable/modules/generated/sklearn.metrics.roc_curve.html"
   ]
  },
  {
   "cell_type": "code",
   "execution_count": 38,
   "metadata": {},
   "outputs": [],
   "source": [
    "from sklearn.metrics import roc_curve"
   ]
  },
  {
   "cell_type": "code",
   "execution_count": 39,
   "metadata": {},
   "outputs": [],
   "source": [
    "fpr, tpr, thresholds = roc_curve(y_test, logreg.predict_proba(X_test_standard)[:,1])"
   ]
  },
  {
   "cell_type": "code",
   "execution_count": 40,
   "metadata": {},
   "outputs": [
    {
     "data": {
      "image/png": "[encoded data removed]",
      "text/plain": [
       "<Figure size 432x288 with 1 Axes>"
      ]
     },
     "metadata": {
      "needs_background": "light"
     },
     "output_type": "display_data"
    }
   ],
   "source": [
    "import matplotlib.pyplot as plt\n",
    "\n",
    "plt.figure()\n",
    "lw = 2\n",
    "plt.plot(fpr, tpr, color='darkorange',\n",
    "         lw=lw, label='ROC curve (area = %0.2f)' % roc_auc)\n",
    "plt.plot([0, 1], [0, 1], color='navy', lw=lw, linestyle='--')\n",
    "plt.xlim([0.0, 1.0])\n",
    "plt.ylim([0.0, 1.05])\n",
    "plt.xlabel('False Positive Rate')\n",
    "plt.ylabel('True Positive Rate')\n",
    "plt.title('Receiver operating characteristic example')\n",
    "plt.legend(loc=\"lower right\")\n",
    "plt.show()"
   ]
  },
  {
   "cell_type": "markdown",
   "metadata": {},
   "source": [
    "# 2.6. Выберем порог и замерим precision, recall, f-score"
   ]
  },
  {
   "cell_type": "markdown",
   "metadata": {},
   "source": [
    "Ссылка на их документации:\n",
    "\n",
    "\n",
    "https://scikit-learn.org/stable/modules/generated/sklearn.metrics.recall_score.html#sklearn.metrics.recall_score \\\n",
    "https://scikit-learn.org/stable/modules/generated/sklearn.metrics.f1_score.html#sklearn.metrics.f1_score \\\n",
    "https://scikit-learn.org/stable/modules/generated/sklearn.metrics.precision_score.html#sklearn.metrics.precision_score"
   ]
  },
  {
   "cell_type": "code",
   "execution_count": 41,
   "metadata": {},
   "outputs": [],
   "source": [
    "from sklearn.metrics import f1_score, precision_score, recall_score"
   ]
  },
  {
   "cell_type": "code",
   "execution_count": 42,
   "metadata": {},
   "outputs": [
    {
     "name": "stdout",
     "output_type": "stream",
     "text": [
      " Полнота при предсказании 1: 1.0 \n",
      " Точность при предсказании 1: 0.0837 \n",
      " F-мера при предсказании 1: 0.15447079450032297\n"
     ]
    }
   ],
   "source": [
    "print(f\" Полнота при предсказании 1: {recall_score(y_test, [1]*len(y_test))} \\n \\\n",
    "Точность при предсказании 1: {precision_score(y_test, [1]*len(y_test))} \\n \\\n",
    "F-мера при предсказании 1: {f1_score(y_test, [1]*len(y_test))}\")"
   ]
  },
  {
   "cell_type": "code",
   "execution_count": 43,
   "metadata": {},
   "outputs": [
    {
     "name": "stdout",
     "output_type": "stream",
     "text": [
      " Полнота при предсказании 0: 0.0 \n",
      " Точность при предсказании 0: 0.0 \n",
      " F-мера при предсказании 0: 0.0\n"
     ]
    },
    {
     "name": "stderr",
     "output_type": "stream",
     "text": [
      "/home/kseniia/miniconda3/lib/python3.7/site-packages/sklearn/metrics/_classification.py:1221: UndefinedMetricWarning: Precision is ill-defined and being set to 0.0 due to no predicted samples. Use `zero_division` parameter to control this behavior.\n",
      "  _warn_prf(average, modifier, msg_start, len(result))\n"
     ]
    }
   ],
   "source": [
    "print(f\" Полнота при предсказании 0: {recall_score(y_test, [0]*len(y_test))} \\n \\\n",
    "Точность при предсказании 0: {precision_score(y_test, [0]*len(y_test))} \\n \\\n",
    "F-мера при предсказании 0: {f1_score(y_test, [0]*len(y_test))}\")"
   ]
  },
  {
   "cell_type": "code",
   "execution_count": 44,
   "metadata": {},
   "outputs": [],
   "source": [
    "predictions = proba[:, 1].copy()\n",
    "predictions[np.where(predictions > 0.1)] = 1\n",
    "predictions[np.where(predictions <= 0.1)] = 0"
   ]
  },
  {
   "cell_type": "code",
   "execution_count": 45,
   "metadata": {},
   "outputs": [
    {
     "name": "stdout",
     "output_type": "stream",
     "text": [
      " Полнота при предсказании с порогом 0.1: 0.5483870967741935 \n",
      " Точность при предсказании с порогом 0.1: 0.18673718470301057 \n",
      " F-мера при предсказании с порогом 0.1: 0.2786039453717754\n"
     ]
    }
   ],
   "source": [
    "print(f\" Полнота при предсказании с порогом 0.1: {recall_score(y_test, predictions)} \\n \\\n",
    "Точность при предсказании с порогом 0.1: {precision_score(y_test, predictions)} \\n \\\n",
    "F-мера при предсказании с порогом 0.1: {f1_score(y_test, predictions)}\")"
   ]
  },
  {
   "cell_type": "code",
   "execution_count": null,
   "metadata": {},
   "outputs": [],
   "source": []
  }
 ],
 "metadata": {
  "kernelspec": {
   "display_name": "Python 3",
   "language": "python",
   "name": "python3"
  },
  "language_info": {
   "codemirror_mode": {
    "name": "ipython",
    "version": 3
   },
   "file_extension": ".py",
   "mimetype": "text/x-python",
   "name": "python",
   "nbconvert_exporter": "python",
   "pygments_lexer": "ipython3",
   "version": "3.8.5"
  }
 },
 "nbformat": 4,
 "nbformat_minor": 4
}
