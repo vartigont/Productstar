{
 "cells": [
  {
   "cell_type": "markdown",
   "metadata": {},
   "source": [
    "# 1. Введение"
   ]
  },
  {
   "cell_type": "markdown",
   "metadata": {},
   "source": [
    "## Вспомним как выглядит цикл решения мл-задачи"
   ]
  },
  {
   "cell_type": "markdown",
   "metadata": {
    "jupyter": {
     "source_hidden": true
    },
    "tags": []
   },
   "source": [
    "![crisp-dm](./images/crisp-dm.png)"
   ]
  },
  {
   "cell_type": "markdown",
   "metadata": {},
   "source": [
    "### Предсказание оттока клиентов"
   ]
  },
  {
   "cell_type": "markdown",
   "metadata": {
    "tags": []
   },
   "source": [
    "Чтобы потренироваться решать задачу **оттока**, сначала поймем зачем может понадобиться такая задача.\n",
    "\n",
    "Представим, что у нас есть банк, и клиенты хранят у нас свои деньги, понятно, что мы можем использовать их средства для операций компании. И чем больше у нас запасы, тем больший потенциал у нас есть. Хорошо, получается, нам важен каждый клиент.\n",
    "\n",
    "Предположим, что всего у нас 100 000 клиентов и каждый хранит на своем счете **1 миллион рублей**. Получается у нас есть **10 миллиардов**. \\\n",
    "**Ого! И это только средств, а сколько мы можем заработать на каждом миллионе!**\n"
   ]
  },
  {
   "cell_type": "markdown",
   "metadata": {
    "jupyter": {
     "source_hidden": true
    },
    "tags": []
   },
   "source": [
    "![churn2](./images/churn2.png)"
   ]
  },
  {
   "cell_type": "markdown",
   "metadata": {
    "jupyter": {
     "source_hidden": true
    },
    "tags": []
   },
   "source": [
    "А что, если вдруг 10% клиентов от нас уйдет?\n",
    "\n",
    "**Мы потеряем миллиард рублей средств, да еще и нашу прибыль сократим. \\\n",
    "Нужно стараться удержать наших клиентов, каждый очень ценен!**\n",
    "\n",
    "Хорошо, мы поняли нашу задачу - это бинарная классификация на два класса **уйдет** клиент из банка или **не уйдет**.\n",
    "Будем предсказывать вероятность того, что клиент оттечет, то есть число в диапазоне от 0 до 1.\n",
    "\n",
    "\n",
    "Бизнес выгода ясна, также представим, что данные мы тоже придумали откуда достать.\n",
    "\n",
    "Теперь нам нужно понять **как же уменьшить наши потери** в миллион до какого-то небольшого числа?"
   ]
  },
  {
   "cell_type": "markdown",
   "metadata": {
    "jupyter": {
     "source_hidden": true
    },
    "tags": []
   },
   "source": [
    "![churn4](./images/churn4.png)"
   ]
  },
  {
   "cell_type": "markdown",
   "metadata": {
    "tags": []
   },
   "source": [
    "### Составим план действий:"
   ]
  },
  {
   "cell_type": "markdown",
   "metadata": {
    "jupyter": {
     "source_hidden": true
    },
    "tags": []
   },
   "source": [
    "#### 1) Подготовка данных\n",
    "    * Выборка данных\n",
    "    * Разведочный анализ данных\n",
    "    * Очистка данных на основе анализа\n",
    "    * Генерация вспомогательных данных\n",
    "    \n",
    "#### 2) Моделирование\n",
    "    * Выбор алгоритма\t\n",
    "    * Выбор мета-метрики\t\n",
    "    * План тестирования алгоритма\n",
    "    * Обучение моделей\n",
    "    * Оценка качества модели"
   ]
  },
  {
   "cell_type": "markdown",
   "metadata": {},
   "source": [
    "# 2. Подготовка данных\n"
   ]
  },
  {
   "cell_type": "markdown",
   "metadata": {
    "jupyter": {
     "source_hidden": true
    },
    "tags": []
   },
   "source": [
    "![churn5](./images/churn5.png)"
   ]
  },
  {
   "cell_type": "markdown",
   "metadata": {
    "jupyter": {
     "source_hidden": true
    },
    "tags": []
   },
   "source": [
    "   - [x] Выборка данных\n",
    "   - [ ] Разведочный анализ данных\n",
    "   - [ ] Очистка данных на основе анализа\n",
    "   - [ ] Генерация вспомогательных данных\n",
    "   - [ ] Построение бейзлайна"
   ]
  },
  {
   "cell_type": "markdown",
   "metadata": {},
   "source": [
    "Выборка данных у нас уже есть - мы будем использовать данные с сайта kaggle для такой же задачи. \\\n",
    "**Ссылка на соревнование:** https://www.kaggle.com/adammaus/predicting-churn-for-bank-customers"
   ]
  },
  {
   "cell_type": "markdown",
   "metadata": {},
   "source": [
    "**Разведочный анализ данных:**\n",
    "В рамках разведочного анализа данных, его также называют **EDA(Exploratory Data Analysis)**, мы стремимся определить и визуализировать, какие факторы способствуют оттоку клиентов."
   ]
  },
  {
   "cell_type": "code",
   "execution_count": 1,
   "metadata": {},
   "outputs": [],
   "source": [
    "#Наши стандартные библиотеки\n",
    "import numpy as np\n",
    "import pandas as pd\n",
    "\n",
    "# Для визуализации\n",
    "import matplotlib.pyplot as plt\n",
    "%matplotlib inline\n",
    "import seaborn as sns\n",
    "pd.options.display.max_rows = None\n",
    "pd.options.display.max_columns = None"
   ]
  },
  {
   "cell_type": "code",
   "execution_count": 8,
   "metadata": {},
   "outputs": [],
   "source": [
    "train = pd.read_csv('./data_/train.csv')\n",
    "test = pd.read_csv('./data_/test.csv')"
   ]
  },
  {
   "cell_type": "code",
   "execution_count": 3,
   "metadata": {
    "collapsed": true,
    "jupyter": {
     "outputs_hidden": true
    },
    "scrolled": true
   },
   "outputs": [
    {
     "data": {
      "text/html": [
       "<div>\n",
       "<style scoped>\n",
       "    .dataframe tbody tr th:only-of-type {\n",
       "        vertical-align: middle;\n",
       "    }\n",
       "\n",
       "    .dataframe tbody tr th {\n",
       "        vertical-align: top;\n",
       "    }\n",
       "\n",
       "    .dataframe thead th {\n",
       "        text-align: right;\n",
       "    }\n",
       "</style>\n",
       "<table border=\"1\" class=\"dataframe\">\n",
       "  <thead>\n",
       "    <tr style=\"text-align: right;\">\n",
       "      <th></th>\n",
       "      <th>RowNumber</th>\n",
       "      <th>CustomerId</th>\n",
       "      <th>Surname</th>\n",
       "      <th>CreditScore</th>\n",
       "      <th>Geography</th>\n",
       "      <th>Gender</th>\n",
       "      <th>Age</th>\n",
       "      <th>Tenure</th>\n",
       "      <th>Balance</th>\n",
       "      <th>NumOfProducts</th>\n",
       "      <th>HasCrCard</th>\n",
       "      <th>IsActiveMember</th>\n",
       "      <th>EstimatedSalary</th>\n",
       "      <th>Exited</th>\n",
       "    </tr>\n",
       "  </thead>\n",
       "  <tbody>\n",
       "    <tr>\n",
       "      <th>0</th>\n",
       "      <td>8160</td>\n",
       "      <td>15637427</td>\n",
       "      <td>Lu</td>\n",
       "      <td>461</td>\n",
       "      <td>Spain</td>\n",
       "      <td>Female</td>\n",
       "      <td>25</td>\n",
       "      <td>6</td>\n",
       "      <td>0.00</td>\n",
       "      <td>2</td>\n",
       "      <td>1</td>\n",
       "      <td>1</td>\n",
       "      <td>15306.29</td>\n",
       "      <td>0</td>\n",
       "    </tr>\n",
       "    <tr>\n",
       "      <th>1</th>\n",
       "      <td>6333</td>\n",
       "      <td>15793046</td>\n",
       "      <td>Holden</td>\n",
       "      <td>619</td>\n",
       "      <td>France</td>\n",
       "      <td>Female</td>\n",
       "      <td>35</td>\n",
       "      <td>4</td>\n",
       "      <td>90413.12</td>\n",
       "      <td>1</td>\n",
       "      <td>1</td>\n",
       "      <td>1</td>\n",
       "      <td>20555.21</td>\n",
       "      <td>0</td>\n",
       "    </tr>\n",
       "    <tr>\n",
       "      <th>2</th>\n",
       "      <td>8896</td>\n",
       "      <td>15658972</td>\n",
       "      <td>Foster</td>\n",
       "      <td>699</td>\n",
       "      <td>France</td>\n",
       "      <td>Female</td>\n",
       "      <td>40</td>\n",
       "      <td>8</td>\n",
       "      <td>122038.34</td>\n",
       "      <td>1</td>\n",
       "      <td>1</td>\n",
       "      <td>0</td>\n",
       "      <td>102085.35</td>\n",
       "      <td>0</td>\n",
       "    </tr>\n",
       "    <tr>\n",
       "      <th>3</th>\n",
       "      <td>5352</td>\n",
       "      <td>15679048</td>\n",
       "      <td>Koger</td>\n",
       "      <td>558</td>\n",
       "      <td>Germany</td>\n",
       "      <td>Male</td>\n",
       "      <td>41</td>\n",
       "      <td>2</td>\n",
       "      <td>124227.14</td>\n",
       "      <td>1</td>\n",
       "      <td>1</td>\n",
       "      <td>1</td>\n",
       "      <td>111184.67</td>\n",
       "      <td>0</td>\n",
       "    </tr>\n",
       "    <tr>\n",
       "      <th>4</th>\n",
       "      <td>4315</td>\n",
       "      <td>15582276</td>\n",
       "      <td>Greco</td>\n",
       "      <td>638</td>\n",
       "      <td>France</td>\n",
       "      <td>Male</td>\n",
       "      <td>34</td>\n",
       "      <td>5</td>\n",
       "      <td>133501.36</td>\n",
       "      <td>1</td>\n",
       "      <td>0</td>\n",
       "      <td>1</td>\n",
       "      <td>155643.04</td>\n",
       "      <td>0</td>\n",
       "    </tr>\n",
       "  </tbody>\n",
       "</table>\n",
       "</div>"
      ],
      "text/plain": [
       "   RowNumber  CustomerId Surname  CreditScore Geography  Gender  Age  Tenure  \\\n",
       "0       8160    15637427      Lu          461     Spain  Female   25       6   \n",
       "1       6333    15793046  Holden          619    France  Female   35       4   \n",
       "2       8896    15658972  Foster          699    France  Female   40       8   \n",
       "3       5352    15679048   Koger          558   Germany    Male   41       2   \n",
       "4       4315    15582276   Greco          638    France    Male   34       5   \n",
       "\n",
       "     Balance  NumOfProducts  HasCrCard  IsActiveMember  EstimatedSalary  \\\n",
       "0       0.00              2          1               1         15306.29   \n",
       "1   90413.12              1          1               1         20555.21   \n",
       "2  122038.34              1          1               0        102085.35   \n",
       "3  124227.14              1          1               1        111184.67   \n",
       "4  133501.36              1          0               1        155643.04   \n",
       "\n",
       "   Exited  \n",
       "0       0  \n",
       "1       0  \n",
       "2       0  \n",
       "3       0  \n",
       "4       0  "
      ]
     },
     "execution_count": 3,
     "metadata": {},
     "output_type": "execute_result"
    }
   ],
   "source": [
    "train.head()"
   ]
  },
  {
   "cell_type": "code",
   "execution_count": 4,
   "metadata": {
    "collapsed": true,
    "jupyter": {
     "outputs_hidden": true
    }
   },
   "outputs": [
    {
     "data": {
      "text/html": [
       "<div>\n",
       "<style scoped>\n",
       "    .dataframe tbody tr th:only-of-type {\n",
       "        vertical-align: middle;\n",
       "    }\n",
       "\n",
       "    .dataframe tbody tr th {\n",
       "        vertical-align: top;\n",
       "    }\n",
       "\n",
       "    .dataframe thead th {\n",
       "        text-align: right;\n",
       "    }\n",
       "</style>\n",
       "<table border=\"1\" class=\"dataframe\">\n",
       "  <thead>\n",
       "    <tr style=\"text-align: right;\">\n",
       "      <th></th>\n",
       "      <th>RowNumber</th>\n",
       "      <th>CustomerId</th>\n",
       "      <th>Surname</th>\n",
       "      <th>CreditScore</th>\n",
       "      <th>Geography</th>\n",
       "      <th>Gender</th>\n",
       "      <th>Age</th>\n",
       "      <th>Tenure</th>\n",
       "      <th>Balance</th>\n",
       "      <th>NumOfProducts</th>\n",
       "      <th>HasCrCard</th>\n",
       "      <th>IsActiveMember</th>\n",
       "      <th>EstimatedSalary</th>\n",
       "    </tr>\n",
       "  </thead>\n",
       "  <tbody>\n",
       "    <tr>\n",
       "      <th>0</th>\n",
       "      <td>4801</td>\n",
       "      <td>15679810</td>\n",
       "      <td>Chapman</td>\n",
       "      <td>690</td>\n",
       "      <td>France</td>\n",
       "      <td>Male</td>\n",
       "      <td>39</td>\n",
       "      <td>6</td>\n",
       "      <td>0.00</td>\n",
       "      <td>2</td>\n",
       "      <td>1</td>\n",
       "      <td>0</td>\n",
       "      <td>160532.88</td>\n",
       "    </tr>\n",
       "    <tr>\n",
       "      <th>1</th>\n",
       "      <td>2102</td>\n",
       "      <td>15778934</td>\n",
       "      <td>Napolitani</td>\n",
       "      <td>678</td>\n",
       "      <td>Spain</td>\n",
       "      <td>Female</td>\n",
       "      <td>49</td>\n",
       "      <td>8</td>\n",
       "      <td>0.00</td>\n",
       "      <td>2</td>\n",
       "      <td>0</td>\n",
       "      <td>1</td>\n",
       "      <td>98090.69</td>\n",
       "    </tr>\n",
       "    <tr>\n",
       "      <th>2</th>\n",
       "      <td>4487</td>\n",
       "      <td>15660646</td>\n",
       "      <td>Fanucci</td>\n",
       "      <td>528</td>\n",
       "      <td>France</td>\n",
       "      <td>Male</td>\n",
       "      <td>35</td>\n",
       "      <td>3</td>\n",
       "      <td>156687.10</td>\n",
       "      <td>1</td>\n",
       "      <td>1</td>\n",
       "      <td>0</td>\n",
       "      <td>199320.77</td>\n",
       "    </tr>\n",
       "    <tr>\n",
       "      <th>3</th>\n",
       "      <td>1127</td>\n",
       "      <td>15593973</td>\n",
       "      <td>Wilkie</td>\n",
       "      <td>663</td>\n",
       "      <td>Spain</td>\n",
       "      <td>Female</td>\n",
       "      <td>33</td>\n",
       "      <td>8</td>\n",
       "      <td>122528.18</td>\n",
       "      <td>1</td>\n",
       "      <td>1</td>\n",
       "      <td>0</td>\n",
       "      <td>196260.30</td>\n",
       "    </tr>\n",
       "    <tr>\n",
       "      <th>4</th>\n",
       "      <td>383</td>\n",
       "      <td>15568240</td>\n",
       "      <td>Ting</td>\n",
       "      <td>492</td>\n",
       "      <td>Germany</td>\n",
       "      <td>Female</td>\n",
       "      <td>30</td>\n",
       "      <td>10</td>\n",
       "      <td>77168.87</td>\n",
       "      <td>2</td>\n",
       "      <td>0</td>\n",
       "      <td>1</td>\n",
       "      <td>146700.22</td>\n",
       "    </tr>\n",
       "  </tbody>\n",
       "</table>\n",
       "</div>"
      ],
      "text/plain": [
       "   RowNumber  CustomerId     Surname  CreditScore Geography  Gender  Age  \\\n",
       "0       4801    15679810     Chapman          690    France    Male   39   \n",
       "1       2102    15778934  Napolitani          678     Spain  Female   49   \n",
       "2       4487    15660646     Fanucci          528    France    Male   35   \n",
       "3       1127    15593973      Wilkie          663     Spain  Female   33   \n",
       "4        383    15568240        Ting          492   Germany  Female   30   \n",
       "\n",
       "   Tenure    Balance  NumOfProducts  HasCrCard  IsActiveMember  \\\n",
       "0       6       0.00              2          1               0   \n",
       "1       8       0.00              2          0               1   \n",
       "2       3  156687.10              1          1               0   \n",
       "3       8  122528.18              1          1               0   \n",
       "4      10   77168.87              2          0               1   \n",
       "\n",
       "   EstimatedSalary  \n",
       "0        160532.88  \n",
       "1         98090.69  \n",
       "2        199320.77  \n",
       "3        196260.30  \n",
       "4        146700.22  "
      ]
     },
     "execution_count": 4,
     "metadata": {},
     "output_type": "execute_result"
    }
   ],
   "source": [
    "test.head()"
   ]
  },
  {
   "cell_type": "markdown",
   "metadata": {
    "jupyter": {
     "source_hidden": true
    },
    "tags": []
   },
   "source": [
    "![churn8](./images/churn10.png)"
   ]
  },
  {
   "cell_type": "code",
   "execution_count": 3,
   "metadata": {},
   "outputs": [],
   "source": [
    "from teacher_bot.churn_prediction import ChurnPrediction"
   ]
  },
  {
   "cell_type": "markdown",
   "metadata": {},
   "source": [
    "Это Бот ProductStar он будет проверять твои задания"
   ]
  },
  {
   "cell_type": "code",
   "execution_count": 4,
   "metadata": {},
   "outputs": [
    {
     "name": "stdout",
     "output_type": "stream",
     "text": [
      "Привет! Приятно познакомиться!\n"
     ]
    }
   ],
   "source": [
    "BotProductStar = ChurnPrediction()"
   ]
  },
  {
   "cell_type": "code",
   "execution_count": 5,
   "metadata": {},
   "outputs": [
    {
     "name": "stdout",
     "output_type": "stream",
     "text": [
      "Думаю...\n",
      "Ого! Датасет, сейчас мы будем его исследовать, интересно, что в нем.\n",
      "Сам я не справляюсь - нужна твоя помощь\n"
     ]
    }
   ],
   "source": [
    "BotProductStar.test_task(df = train)"
   ]
  },
  {
   "cell_type": "markdown",
   "metadata": {},
   "source": [
    "### Задание 1. Бот тебе его расскажет - запусти ячейку ниже."
   ]
  },
  {
   "cell_type": "code",
   "execution_count": 11,
   "metadata": {},
   "outputs": [
    {
     "name": "stdout",
     "output_type": "stream",
     "text": [
      "Думаю...\n",
      "Ой-ой. Я тебя не понимаю, мне нужен pd.DataFrame без колонок, в которых слишком много уникальных значений\n"
     ]
    }
   ],
   "source": [
    "BotProductStar.drop_task(df1)"
   ]
  },
  {
   "cell_type": "code",
   "execution_count": 9,
   "metadata": {},
   "outputs": [
    {
     "data": {
      "text/plain": [
       "RowNumber          7200\n",
       "CustomerId         7200\n",
       "Surname            2459\n",
       "CreditScore         455\n",
       "Geography             3\n",
       "Gender                2\n",
       "Age                  68\n",
       "Tenure               11\n",
       "Balance            4566\n",
       "NumOfProducts         4\n",
       "HasCrCard             2\n",
       "IsActiveMember        2\n",
       "EstimatedSalary    7200\n",
       "Exited                2\n",
       "dtype: int64"
      ]
     },
     "execution_count": 9,
     "metadata": {},
     "output_type": "execute_result"
    }
   ],
   "source": [
    "train.nunique()"
   ]
  },
  {
   "cell_type": "code",
   "execution_count": 10,
   "metadata": {},
   "outputs": [
    {
     "data": {
      "text/plain": [
       "(7200, 14)"
      ]
     },
     "execution_count": 10,
     "metadata": {},
     "output_type": "execute_result"
    }
   ],
   "source": [
    "train.shape"
   ]
  },
  {
   "cell_type": "code",
   "execution_count": 10,
   "metadata": {},
   "outputs": [],
   "source": [
    "df1 = train.drop([\"CustomerId\", \"RowNumber\", \"Surname\"], axis = 1)"
   ]
  },
  {
   "cell_type": "code",
   "execution_count": 31,
   "metadata": {},
   "outputs": [],
   "source": [
    "test = test.drop([\"CustomerId\", \"Surname\"], axis = 1)"
   ]
  },
  {
   "cell_type": "code",
   "execution_count": 40,
   "metadata": {},
   "outputs": [
    {
     "data": {
      "text/html": [
       "<div>\n",
       "<style scoped>\n",
       "    .dataframe tbody tr th:only-of-type {\n",
       "        vertical-align: middle;\n",
       "    }\n",
       "\n",
       "    .dataframe tbody tr th {\n",
       "        vertical-align: top;\n",
       "    }\n",
       "\n",
       "    .dataframe thead th {\n",
       "        text-align: right;\n",
       "    }\n",
       "</style>\n",
       "<table border=\"1\" class=\"dataframe\">\n",
       "  <thead>\n",
       "    <tr style=\"text-align: right;\">\n",
       "      <th></th>\n",
       "      <th>CreditScore</th>\n",
       "      <th>Geography</th>\n",
       "      <th>Gender</th>\n",
       "      <th>Age</th>\n",
       "      <th>Tenure</th>\n",
       "      <th>Balance</th>\n",
       "      <th>NumOfProducts</th>\n",
       "      <th>HasCrCard</th>\n",
       "      <th>IsActiveMember</th>\n",
       "      <th>EstimatedSalary</th>\n",
       "      <th>Exited</th>\n",
       "    </tr>\n",
       "  </thead>\n",
       "  <tbody>\n",
       "    <tr>\n",
       "      <th>0</th>\n",
       "      <td>461</td>\n",
       "      <td>Spain</td>\n",
       "      <td>Female</td>\n",
       "      <td>25</td>\n",
       "      <td>6</td>\n",
       "      <td>0.00</td>\n",
       "      <td>2</td>\n",
       "      <td>1</td>\n",
       "      <td>1</td>\n",
       "      <td>15306.29</td>\n",
       "      <td>0</td>\n",
       "    </tr>\n",
       "    <tr>\n",
       "      <th>1</th>\n",
       "      <td>619</td>\n",
       "      <td>France</td>\n",
       "      <td>Female</td>\n",
       "      <td>35</td>\n",
       "      <td>4</td>\n",
       "      <td>90413.12</td>\n",
       "      <td>1</td>\n",
       "      <td>1</td>\n",
       "      <td>1</td>\n",
       "      <td>20555.21</td>\n",
       "      <td>0</td>\n",
       "    </tr>\n",
       "    <tr>\n",
       "      <th>2</th>\n",
       "      <td>699</td>\n",
       "      <td>France</td>\n",
       "      <td>Female</td>\n",
       "      <td>40</td>\n",
       "      <td>8</td>\n",
       "      <td>122038.34</td>\n",
       "      <td>1</td>\n",
       "      <td>1</td>\n",
       "      <td>0</td>\n",
       "      <td>102085.35</td>\n",
       "      <td>0</td>\n",
       "    </tr>\n",
       "    <tr>\n",
       "      <th>3</th>\n",
       "      <td>558</td>\n",
       "      <td>Germany</td>\n",
       "      <td>Male</td>\n",
       "      <td>41</td>\n",
       "      <td>2</td>\n",
       "      <td>124227.14</td>\n",
       "      <td>1</td>\n",
       "      <td>1</td>\n",
       "      <td>1</td>\n",
       "      <td>111184.67</td>\n",
       "      <td>0</td>\n",
       "    </tr>\n",
       "    <tr>\n",
       "      <th>4</th>\n",
       "      <td>638</td>\n",
       "      <td>France</td>\n",
       "      <td>Male</td>\n",
       "      <td>34</td>\n",
       "      <td>5</td>\n",
       "      <td>133501.36</td>\n",
       "      <td>1</td>\n",
       "      <td>0</td>\n",
       "      <td>1</td>\n",
       "      <td>155643.04</td>\n",
       "      <td>0</td>\n",
       "    </tr>\n",
       "    <tr>\n",
       "      <th>5</th>\n",
       "      <td>633</td>\n",
       "      <td>France</td>\n",
       "      <td>Male</td>\n",
       "      <td>37</td>\n",
       "      <td>7</td>\n",
       "      <td>141546.35</td>\n",
       "      <td>1</td>\n",
       "      <td>1</td>\n",
       "      <td>1</td>\n",
       "      <td>124830.11</td>\n",
       "      <td>0</td>\n",
       "    </tr>\n",
       "    <tr>\n",
       "      <th>6</th>\n",
       "      <td>677</td>\n",
       "      <td>Germany</td>\n",
       "      <td>Male</td>\n",
       "      <td>28</td>\n",
       "      <td>0</td>\n",
       "      <td>143988.00</td>\n",
       "      <td>2</td>\n",
       "      <td>1</td>\n",
       "      <td>0</td>\n",
       "      <td>8755.69</td>\n",
       "      <td>1</td>\n",
       "    </tr>\n",
       "    <tr>\n",
       "      <th>7</th>\n",
       "      <td>801</td>\n",
       "      <td>Spain</td>\n",
       "      <td>Male</td>\n",
       "      <td>42</td>\n",
       "      <td>4</td>\n",
       "      <td>141947.67</td>\n",
       "      <td>1</td>\n",
       "      <td>1</td>\n",
       "      <td>1</td>\n",
       "      <td>10598.29</td>\n",
       "      <td>0</td>\n",
       "    </tr>\n",
       "    <tr>\n",
       "      <th>8</th>\n",
       "      <td>768</td>\n",
       "      <td>France</td>\n",
       "      <td>Male</td>\n",
       "      <td>25</td>\n",
       "      <td>0</td>\n",
       "      <td>78396.08</td>\n",
       "      <td>1</td>\n",
       "      <td>1</td>\n",
       "      <td>1</td>\n",
       "      <td>8316.19</td>\n",
       "      <td>0</td>\n",
       "    </tr>\n",
       "    <tr>\n",
       "      <th>9</th>\n",
       "      <td>752</td>\n",
       "      <td>France</td>\n",
       "      <td>Male</td>\n",
       "      <td>38</td>\n",
       "      <td>0</td>\n",
       "      <td>145974.79</td>\n",
       "      <td>2</td>\n",
       "      <td>1</td>\n",
       "      <td>1</td>\n",
       "      <td>137694.23</td>\n",
       "      <td>0</td>\n",
       "    </tr>\n",
       "  </tbody>\n",
       "</table>\n",
       "</div>"
      ],
      "text/plain": [
       "   CreditScore Geography  Gender  Age  Tenure    Balance  NumOfProducts  \\\n",
       "0          461     Spain  Female   25       6       0.00              2   \n",
       "1          619    France  Female   35       4   90413.12              1   \n",
       "2          699    France  Female   40       8  122038.34              1   \n",
       "3          558   Germany    Male   41       2  124227.14              1   \n",
       "4          638    France    Male   34       5  133501.36              1   \n",
       "5          633    France    Male   37       7  141546.35              1   \n",
       "6          677   Germany    Male   28       0  143988.00              2   \n",
       "7          801     Spain    Male   42       4  141947.67              1   \n",
       "8          768    France    Male   25       0   78396.08              1   \n",
       "9          752    France    Male   38       0  145974.79              2   \n",
       "\n",
       "   HasCrCard  IsActiveMember  EstimatedSalary  Exited  \n",
       "0          1               1         15306.29       0  \n",
       "1          1               1         20555.21       0  \n",
       "2          1               0        102085.35       0  \n",
       "3          1               1        111184.67       0  \n",
       "4          0               1        155643.04       0  \n",
       "5          1               1        124830.11       0  \n",
       "6          1               0          8755.69       1  \n",
       "7          1               1         10598.29       0  \n",
       "8          1               1          8316.19       0  \n",
       "9          1               1        137694.23       0  "
      ]
     },
     "execution_count": 40,
     "metadata": {},
     "output_type": "execute_result"
    }
   ],
   "source": [
    "df1.head(10)"
   ]
  },
  {
   "cell_type": "markdown",
   "metadata": {
    "jupyter": {
     "source_hidden": true
    },
    "tags": []
   },
   "source": [
    "![churn8](./images/churn11.png)"
   ]
  },
  {
   "cell_type": "markdown",
   "metadata": {},
   "source": [
    "### Задание 2. Бот тебе его расскажет - запусти ячейку ниже."
   ]
  },
  {
   "cell_type": "code",
   "execution_count": 41,
   "metadata": {},
   "outputs": [
    {
     "name": "stdout",
     "output_type": "stream",
     "text": [
      "Нужно понять есть ли в датафрейме пропущенные значения и отправить ответ мне\n",
      "Я понимаю только 'Да' или 'Нет'\n"
     ]
    }
   ],
   "source": [
    " BotProductStar.null_task()"
   ]
  },
  {
   "cell_type": "code",
   "execution_count": 12,
   "metadata": {},
   "outputs": [
    {
     "name": "stdout",
     "output_type": "stream",
     "text": [
      "<class 'pandas.core.frame.DataFrame'>\n",
      "RangeIndex: 7200 entries, 0 to 7199\n",
      "Data columns (total 11 columns):\n",
      " #   Column           Non-Null Count  Dtype  \n",
      "---  ------           --------------  -----  \n",
      " 0   CreditScore      7200 non-null   int64  \n",
      " 1   Geography        7200 non-null   object \n",
      " 2   Gender           7200 non-null   object \n",
      " 3   Age              7200 non-null   int64  \n",
      " 4   Tenure           7200 non-null   int64  \n",
      " 5   Balance          7200 non-null   float64\n",
      " 6   NumOfProducts    7200 non-null   int64  \n",
      " 7   HasCrCard        7200 non-null   int64  \n",
      " 8   IsActiveMember   7200 non-null   int64  \n",
      " 9   EstimatedSalary  7200 non-null   float64\n",
      " 10  Exited           7200 non-null   int64  \n",
      "dtypes: float64(2), int64(7), object(2)\n",
      "memory usage: 618.9+ KB\n"
     ]
    }
   ],
   "source": [
    "df1.info()"
   ]
  },
  {
   "cell_type": "code",
   "execution_count": 13,
   "metadata": {},
   "outputs": [
    {
     "data": {
      "text/plain": [
       "CreditScore        0\n",
       "Geography          0\n",
       "Gender             0\n",
       "Age                0\n",
       "Tenure             0\n",
       "Balance            0\n",
       "NumOfProducts      0\n",
       "HasCrCard          0\n",
       "IsActiveMember     0\n",
       "EstimatedSalary    0\n",
       "Exited             0\n",
       "dtype: int64"
      ]
     },
     "execution_count": 13,
     "metadata": {},
     "output_type": "execute_result"
    }
   ],
   "source": [
    "df1.isnull().sum()"
   ]
  },
  {
   "cell_type": "code",
   "execution_count": 43,
   "metadata": {},
   "outputs": [
    {
     "name": "stdout",
     "output_type": "stream",
     "text": [
      "Думаю...\n",
      "Ура! Второе задание позади!\n",
      "Следующая кодовая фраза Science\n"
     ]
    }
   ],
   "source": [
    "BotProductStar.null_task(answer='нет')"
   ]
  },
  {
   "cell_type": "markdown",
   "metadata": {},
   "source": [
    "   - [x] Выборка данных\n",
    "   - [ ] Разведочный анализ данных\n",
    "   - [x] Очистка данных на основе анализа\n",
    "   - [ ] Генерация вспомогательных данных"
   ]
  },
  {
   "cell_type": "code",
   "execution_count": null,
   "metadata": {},
   "outputs": [],
   "source": [
    "train.head()"
   ]
  },
  {
   "cell_type": "markdown",
   "metadata": {
    "jupyter": {
     "source_hidden": true
    },
    "tags": []
   },
   "source": [
    "Данные выглядят, как снимок на определенный момент времени \n",
    "Возможно баланс на заданную дату, что **оставляет много вопросов:**\n",
    "    * Какая это дата и какое значение она имеет?\n",
    "    * Можно ли получить баланс за определенный период времени, а не за одну дату.\n",
    "    * Есть клиенты, которые вышли, но все еще имеют остаток на счете! Что бы это значило? Могли они выйти из продукта, а не из банка?\n",
    "    * Что значит быть активным участником и есть ли в этом разные степени? Может быть, лучше вместо этого предоставить счет транзакций, как по кредитам, так и по дебету счета?\n",
    "Разбивка на продукты, купленные клиентом, может предоставить дополнительную информацию, которая увеличит список продуктов.\n"
   ]
  },
  {
   "cell_type": "markdown",
   "metadata": {
    "jupyter": {
     "source_hidden": true
    },
    "tags": []
   },
   "source": [
    "![churn8](./images/churn14.png)"
   ]
  },
  {
   "cell_type": "markdown",
   "metadata": {
    "jupyter": {
     "source_hidden": true
    },
    "tags": []
   },
   "source": [
    "Здесь мы приступаем к моделированию без контекста, хотя обычно наличие контекста и лучшее понимание процесса извлечения данных дает более качественные модели."
   ]
  },
  {
   "cell_type": "code",
   "execution_count": 56,
   "metadata": {
    "collapsed": true,
    "jupyter": {
     "outputs_hidden": true,
     "source_hidden": true
    },
    "tags": []
   },
   "outputs": [
    {
     "data": {
      "image/png": "[encoded data removed]",
      "text/plain": [
       "<Figure size 720x576 with 1 Axes>"
      ]
     },
     "metadata": {},
     "output_type": "display_data"
    }
   ],
   "source": [
    "labels = 'Exited', 'Retained'\n",
    "sizes = [train.Exited[train['Exited']==1].count(), train.Exited[train['Exited']==0].count()]\n",
    "explode = (0, 0.1)\n",
    "fig1, ax1 = plt.subplots(figsize=(10, 8))\n",
    "ax1.pie(sizes, explode=explode, labels=labels, autopct='%1.1f%%',\n",
    "        shadow=True, startangle=90)\n",
    "ax1.axis('equal')\n",
    "plt.title(\"Proportion of customer churned and retained\", size = 20)\n",
    "plt.show()"
   ]
  },
  {
   "cell_type": "markdown",
   "metadata": {
    "jupyter": {
     "source_hidden": true
    },
    "tags": []
   },
   "source": [
    "Таким образом, около 20% клиентов ушли. Базовая модель может предполагать, что 20% клиентов уйдут.\n",
    "Учитывая, что 20% - это небольшое число, нам необходимо убедиться, что выбранная модель действительно предсказывает с большой точностью эти 20%, поскольку для банка интересно идентифицировать и сохранить клиентов."
   ]
  },
  {
   "cell_type": "markdown",
   "metadata": {
    "jupyter": {
     "source_hidden": true
    }
   },
   "source": [
    "##### Анализ категориальных переменных"
   ]
  },
  {
   "cell_type": "code",
   "execution_count": 57,
   "metadata": {
    "collapsed": true,
    "jupyter": {
     "outputs_hidden": true,
     "source_hidden": true
    },
    "tags": []
   },
   "outputs": [
    {
     "data": {
      "text/plain": [
       "<AxesSubplot:xlabel='IsActiveMember', ylabel='count'>"
      ]
     },
     "execution_count": 57,
     "metadata": {},
     "output_type": "execute_result"
    },
    {
     "data": {
      "image/png": "[encoded data removed]",
      "text/plain": [
       "<Figure size 1440x864 with 4 Axes>"
      ]
     },
     "metadata": {
      "needs_background": "light"
     },
     "output_type": "display_data"
    }
   ],
   "source": [
    "fig, axarr = plt.subplots(2, 2, figsize=(20, 12))\n",
    "sns.countplot(x='Geography', hue = 'Exited',data = train, ax=axarr[0][0])\n",
    "sns.countplot(x='Gender', hue = 'Exited',data = train, ax=axarr[0][1])\n",
    "sns.countplot(x='HasCrCard', hue = 'Exited',data = train, ax=axarr[1][0])\n",
    "sns.countplot(x='IsActiveMember', hue = 'Exited',data = train, ax=axarr[1][1])"
   ]
  },
  {
   "cell_type": "markdown",
   "metadata": {
    "jupyter": {
     "source_hidden": true
    },
    "tags": []
   },
   "source": [
    "**Отметим следующее:**\n",
    "\n",
    "* Большинство данных от лиц из Франции. Возможно, у банка недостаточно ресурсов для обслуживания клиентов в тех областях, где у него меньше клиентов.\n",
    "* Доля сменяющих клиентов женщин также выше, чем доля клиентов-мужчин.\n",
    "* Интересно, что большинство клиентов, которые ушли, - это клиенты с кредитными картами. Учитывая, что у большинства клиентов есть кредитные карты, это может оказаться простым совпадением.\n",
    "* Неудивительно, что у неактивных участников больше отток. \n",
    "* Общая доля неактивных клиентов довольно высока, можно предположить, что банку потребуется программа, направленная на превращение этой группы в активных клиентов."
   ]
  },
  {
   "cell_type": "markdown",
   "metadata": {
    "jupyter": {
     "source_hidden": true
    }
   },
   "source": [
    "##### Анализ количественных переменных"
   ]
  },
  {
   "cell_type": "code",
   "execution_count": 58,
   "metadata": {
    "collapsed": true,
    "jupyter": {
     "outputs_hidden": true,
     "source_hidden": true
    },
    "tags": []
   },
   "outputs": [
    {
     "data": {
      "text/plain": [
       "<AxesSubplot:xlabel='Exited', ylabel='EstimatedSalary'>"
      ]
     },
     "execution_count": 58,
     "metadata": {},
     "output_type": "execute_result"
    },
    {
     "data": {
      "image/png": "[encoded data removed]",
      "text/plain": [
       "<Figure size 1440x864 with 6 Axes>"
      ]
     },
     "metadata": {
      "needs_background": "light"
     },
     "output_type": "display_data"
    }
   ],
   "source": [
    "fig, axarr = plt.subplots(3, 2, figsize=(20, 12))\n",
    "sns.boxplot(y='CreditScore',x = 'Exited', hue = 'Exited',data = train, ax=axarr[0][0])\n",
    "sns.boxplot(y='Age',x = 'Exited', hue = 'Exited',data = train , ax=axarr[0][1])\n",
    "sns.boxplot(y='Tenure',x = 'Exited', hue = 'Exited',data = train, ax=axarr[1][0])\n",
    "sns.boxplot(y='Balance',x = 'Exited', hue = 'Exited',data = train, ax=axarr[1][1])\n",
    "sns.boxplot(y='NumOfProducts',x = 'Exited', hue = 'Exited',data = train, ax=axarr[2][0])\n",
    "sns.boxplot(y='EstimatedSalary',x = 'Exited', hue = 'Exited',data = train, ax=axarr[2][1])"
   ]
  },
  {
   "cell_type": "markdown",
   "metadata": {
    "jupyter": {
     "source_hidden": true
    },
    "tags": []
   },
   "source": [
    "**Отметим следующее:**\n",
    "* Нет существенной разницы в распределении кредитного рейтинга между оставшимися и оттекшими клиентами.\n",
    "* Старшие клиенты оттекают чаще, чем более молодые, это намекает на разницу в предпочтениях обслуживания в возрастных категориях. Банку может потребоваться пересмотреть свой целевой рынок или пересмотреть стратегию удержания клиентов между разными возрастными группами.\n",
    "* Что касается срока владения, то клиенты, находящиеся на крайнем конце (мало времени проводившие с банком или много времени в банке), с большей вероятностью уйдут, чем те, которые имеют средний срок.\n",
    "* Банк теряет клиентов со значительными остатками на банковских счетах, что может снизить их доступный капитал для кредитования.\n",
    "* Ни продукт, ни зарплата не оказывают существенного влияния на вероятность оттока."
   ]
  },
  {
   "cell_type": "markdown",
   "metadata": {
    "jupyter": {
     "source_hidden": true
    }
   },
   "source": [
    "В целом к разведочному анализу данных можно также отнести **построение базового решения**. Важно делать на самом первом этапе, чтобы на пальцах прикидывать, а сколько можно сэкономить денег."
   ]
  },
  {
   "cell_type": "markdown",
   "metadata": {},
   "source": [
    "**Например:**\n",
    "Скажем, чтобы привлечь клиента мы тратим 100 000р, а зарабатываем в год на каждом 200 000р."
   ]
  },
  {
   "cell_type": "code",
   "execution_count": null,
   "metadata": {},
   "outputs": [],
   "source": [
    "from sklearn.metrics import confusion_matrix"
   ]
  },
  {
   "cell_type": "code",
   "execution_count": null,
   "metadata": {},
   "outputs": [],
   "source": [
    "#возьмем случайную подвыборку из train и оценим на ней сколько мы экономим\n",
    "val_sample = train.sample(frac=0.2, random_state=42).reset_index(drop=True)"
   ]
  },
  {
   "cell_type": "code",
   "execution_count": null,
   "metadata": {},
   "outputs": [],
   "source": [
    "val_sample.Exited.value_counts()"
   ]
  },
  {
   "cell_type": "markdown",
   "metadata": {
    "jupyter": {
     "source_hidden": true
    }
   },
   "source": [
    "Всего видим, что ушло 295 клиентов. \n",
    "Получается мы потеряли 295 000 000р!\n",
    "\n",
    "Есть ли что-то, что мы могли с этим сделать?"
   ]
  },
  {
   "cell_type": "markdown",
   "metadata": {
    "jupyter": {
     "source_hidden": true
    }
   },
   "source": [
    "Давайте посчитаем экономию, при предскзаании алгоритмом, который случайно возвращает 0 или 1, то есть с вероятностью 0.5 говорит, что клиент оттечет и с такой же вероятностью, что клиент не оттечет.\n",
    "\n",
    "Отсюда поймём, а имееют ли смысл вообще акции по привлечению клиентов."
   ]
  },
  {
   "cell_type": "code",
   "execution_count": null,
   "metadata": {},
   "outputs": [],
   "source": [
    "np.random.seed(42)\n",
    "rand_prediction = np.random.randint(2, size=len(val_sample))"
   ]
  },
  {
   "cell_type": "code",
   "execution_count": null,
   "metadata": {},
   "outputs": [],
   "source": [
    "tn, fp, fn, tp = confusion_matrix(val_sample.Exited, rand_prediction).ravel()"
   ]
  },
  {
   "cell_type": "code",
   "execution_count": null,
   "metadata": {},
   "outputs": [],
   "source": [
    "print(f'Удержали уходящих: {tp}')\n",
    "print(f'Удерживали, но они и не собирались уходить: {fp}')\n",
    "print(f'Не стали удерживать и они ушли: {fn}')\n",
    "print(f'Правильно не стали удерживать: {tn}')"
   ]
  },
  {
   "cell_type": "markdown",
   "metadata": {},
   "source": [
    "Посчитаем сколько мы потратили всего на привлечение:\n",
    "(145 + 575) * 100 000 =  72 000 000\n",
    "\n",
    "А сколько потеряли на тех, кто ушел:\n",
    "150 000 000"
   ]
  },
  {
   "cell_type": "markdown",
   "metadata": {},
   "source": [
    "Количество денег ушедших из банка **ничего не делали: 295 000 000**\\\n",
    "Количество денег ушедших из банка **простейшей модели: 150 000 000**\n",
    "\n",
    "**Удержано денег в банке: 145 000 000**\\\n",
    "**При расходах: 72 000 000**"
   ]
  },
  {
   "cell_type": "markdown",
   "metadata": {},
   "source": [
    "Ого и это мы даже машинное обучение еще не начали использовать! И взяли только 20% от всей выборки."
   ]
  },
  {
   "cell_type": "markdown",
   "metadata": {},
   "source": [
    "На этом наш разведочный анализ можно закончить - мы узнали все, что нас интересует."
   ]
  },
  {
   "cell_type": "markdown",
   "metadata": {},
   "source": [
    "   - [x] Выборка данных\n",
    "   - [x] Разведочный анализ данных\n",
    "   - [ ] Очистка данных на основе анализа\n",
    "   - [ ] Генерация вспомогательных данных\n",
    "   - [ ] Предобработка данных"
   ]
  },
  {
   "cell_type": "markdown",
   "metadata": {},
   "source": [
    "# Домашнее задание"
   ]
  },
  {
   "cell_type": "markdown",
   "metadata": {},
   "source": [
    "##### С помощью этого метода можно делать посылки боту с предскзаниями, а он будет возвращать результат."
   ]
  },
  {
   "cell_type": "code",
   "execution_count": 117,
   "metadata": {},
   "outputs": [
    {
     "name": "stdout",
     "output_type": "stream",
     "text": [
      "Запускаю тестирование...\n",
      "Проверяю метрики...\n",
      "Твой результат: 0.8192948839050368\n",
      "Наконец-то мы  сэкономили денег! Чтобы себя порадовать - можно посчитать примерные значения в деньгах, как мы посчитали с бейзлайном :). Финальная кодовая фраза '- моя любимая наука' Если вспомнить все предыдущие получится: Data Science - моя любимая наукаЧто-то правда, то правда - обожаю анализировать данные, особенно, когда мне помогают\n"
     ]
    }
   ],
   "source": [
    "BotProductStar.production_quality(answer=df4)"
   ]
  },
  {
   "cell_type": "code",
   "execution_count": 14,
   "metadata": {},
   "outputs": [],
   "source": [
    "import os\n",
    "import xgboost as xgb\n",
    "import catboost as cb\n",
    "from sklearn.linear_model import LogisticRegression\n",
    "from sklearn.preprocessing import StandardScaler\n",
    "from sklearn.pipeline import Pipeline\n",
    "from sklearn.tree import DecisionTreeRegressor\n",
    "from sklearn.tree import DecisionTreeClassifier\n",
    "from sklearn.ensemble import BaggingClassifier, RandomForestClassifier"
   ]
  },
  {
   "cell_type": "code",
   "execution_count": 23,
   "metadata": {},
   "outputs": [],
   "source": [
    "from sklearn.metrics import roc_auc_score\n",
    "from lightgbm import LGBMClassifier"
   ]
  },
  {
   "cell_type": "code",
   "execution_count": 17,
   "metadata": {},
   "outputs": [],
   "source": [
    "df1 = pd.get_dummies(df1, columns=['Geography', 'Gender'])"
   ]
  },
  {
   "cell_type": "code",
   "execution_count": 18,
   "metadata": {},
   "outputs": [],
   "source": [
    "x_train = df1.drop([\"Exited\"], axis=1)\n",
    "y_train = df1[\"Exited\"]"
   ]
  },
  {
   "cell_type": "code",
   "execution_count": 32,
   "metadata": {},
   "outputs": [],
   "source": [
    "test1 = test.drop([\"RowNumber\"], axis = 1)"
   ]
  },
  {
   "cell_type": "code",
   "execution_count": 33,
   "metadata": {},
   "outputs": [],
   "source": [
    "test1 = pd.get_dummies(test1, columns=['Geography', 'Gender'])"
   ]
  },
  {
   "cell_type": "code",
   "execution_count": null,
   "metadata": {},
   "outputs": [],
   "source": []
  },
  {
   "cell_type": "code",
   "execution_count": 62,
   "metadata": {},
   "outputs": [
    {
     "data": {
      "text/plain": [
       "DecisionTreeClassifier(max_depth=7, random_state=1)"
      ]
     },
     "execution_count": 62,
     "metadata": {},
     "output_type": "execute_result"
    }
   ],
   "source": [
    "#DecisionTree\n",
    "model = DecisionTreeClassifier(random_state=1, max_depth=7)\n",
    "model.fit(x_train, y_train)"
   ]
  },
  {
   "cell_type": "code",
   "execution_count": 63,
   "metadata": {},
   "outputs": [
    {
     "name": "stdout",
     "output_type": "stream",
     "text": [
      "Train-score: 0.88\n"
     ]
    }
   ],
   "source": [
    "train_score = roc_auc_score(y_train, model.predict_proba(x_train)[:, 1])\n",
    "print(f\"Train-score: {round(train_score, 3)}\")"
   ]
  },
  {
   "cell_type": "code",
   "execution_count": 64,
   "metadata": {},
   "outputs": [],
   "source": [
    "submission = test[['RowNumber']].copy()\n",
    "baseline = model.predict_proba(test1)\n",
    "df3 = pd.concat([submission, pd.DataFrame(baseline, columns = ['predicttttt','predict'])], axis=1)\n",
    "df3 = df3.drop([\"predicttttt\"], axis = 1)"
   ]
  },
  {
   "cell_type": "code",
   "execution_count": 42,
   "metadata": {
    "tags": []
   },
   "outputs": [
    {
     "data": {
      "text/plain": [
       "XGBClassifier(random_state=27)"
      ]
     },
     "execution_count": 42,
     "metadata": {},
     "output_type": "execute_result"
    }
   ],
   "source": [
    "#XGBoost\n",
    "model = xgb.XGBClassifier(random_state=27)\n",
    "model.fit(x_train, y_train)"
   ]
  },
  {
   "cell_type": "code",
   "execution_count": 49,
   "metadata": {},
   "outputs": [
    {
     "name": "stdout",
     "output_type": "stream",
     "text": [
      "score = 0.8873\n"
     ]
    }
   ],
   "source": [
    "y_pred = model.predict_proba(x_train)\n",
    "score = roc_auc_score(y_train, y_pred[:, 1])\n",
    "print(f\"score = {round(score, 4)}\")"
   ]
  },
  {
   "cell_type": "code",
   "execution_count": 52,
   "metadata": {},
   "outputs": [],
   "source": [
    "submission = test[['RowNumber']].copy()\n",
    "baseline = model.predict_proba(test1)\n",
    "df4 = pd.concat([submission, pd.DataFrame(baseline, columns = ['predicttttt','predict'])], axis=1)\n",
    "df4 = df4.drop([\"predicttttt\"], axis = 1)"
   ]
  },
  {
   "cell_type": "code",
   "execution_count": 53,
   "metadata": {
    "collapsed": true,
    "jupyter": {
     "outputs_hidden": true
    },
    "tags": []
   },
   "outputs": [
    {
     "name": "stdout",
     "output_type": "stream",
     "text": [
      "Learning rate set to 0.023934\n",
      "0:\tlearn: 0.6740068\ttotal: 85.2ms\tremaining: 1m 25s\n",
      "1:\tlearn: 0.6553368\ttotal: 102ms\tremaining: 51s\n",
      "2:\tlearn: 0.6366046\ttotal: 111ms\tremaining: 36.8s\n",
      "3:\tlearn: 0.6231907\ttotal: 117ms\tremaining: 29.2s\n",
      "4:\tlearn: 0.6072357\ttotal: 124ms\tremaining: 24.6s\n",
      "5:\tlearn: 0.5954533\ttotal: 130ms\tremaining: 21.5s\n",
      "6:\tlearn: 0.5815082\ttotal: 136ms\tremaining: 19.3s\n",
      "7:\tlearn: 0.5682544\ttotal: 141ms\tremaining: 17.5s\n",
      "8:\tlearn: 0.5555634\ttotal: 145ms\tremaining: 16s\n",
      "9:\tlearn: 0.5456741\ttotal: 149ms\tremaining: 14.8s\n",
      "10:\tlearn: 0.5355739\ttotal: 153ms\tremaining: 13.7s\n",
      "11:\tlearn: 0.5262331\ttotal: 157ms\tremaining: 12.9s\n",
      "12:\tlearn: 0.5162779\ttotal: 161ms\tremaining: 12.2s\n",
      "13:\tlearn: 0.5092771\ttotal: 164ms\tremaining: 11.5s\n",
      "14:\tlearn: 0.4992471\ttotal: 167ms\tremaining: 11s\n",
      "15:\tlearn: 0.4921931\ttotal: 170ms\tremaining: 10.5s\n",
      "16:\tlearn: 0.4851654\ttotal: 175ms\tremaining: 10.1s\n",
      "17:\tlearn: 0.4764473\ttotal: 180ms\tremaining: 9.82s\n",
      "18:\tlearn: 0.4696805\ttotal: 184ms\tremaining: 9.52s\n",
      "19:\tlearn: 0.4629101\ttotal: 190ms\tremaining: 9.3s\n",
      "20:\tlearn: 0.4564517\ttotal: 194ms\tremaining: 9.03s\n",
      "21:\tlearn: 0.4497596\ttotal: 197ms\tremaining: 8.75s\n",
      "22:\tlearn: 0.4434198\ttotal: 200ms\tremaining: 8.48s\n",
      "23:\tlearn: 0.4381292\ttotal: 203ms\tremaining: 8.24s\n",
      "24:\tlearn: 0.4330018\ttotal: 206ms\tremaining: 8.03s\n",
      "25:\tlearn: 0.4287533\ttotal: 209ms\tremaining: 7.83s\n",
      "26:\tlearn: 0.4236483\ttotal: 212ms\tremaining: 7.63s\n",
      "27:\tlearn: 0.4201788\ttotal: 215ms\tremaining: 7.46s\n",
      "28:\tlearn: 0.4162970\ttotal: 218ms\tremaining: 7.29s\n",
      "29:\tlearn: 0.4123733\ttotal: 221ms\tremaining: 7.15s\n",
      "30:\tlearn: 0.4088825\ttotal: 225ms\tremaining: 7.03s\n",
      "31:\tlearn: 0.4060943\ttotal: 228ms\tremaining: 6.89s\n",
      "32:\tlearn: 0.4030797\ttotal: 231ms\tremaining: 6.77s\n",
      "33:\tlearn: 0.3997615\ttotal: 234ms\tremaining: 6.65s\n",
      "34:\tlearn: 0.3969009\ttotal: 237ms\tremaining: 6.54s\n",
      "35:\tlearn: 0.3939531\ttotal: 240ms\tremaining: 6.43s\n",
      "36:\tlearn: 0.3916744\ttotal: 244ms\tremaining: 6.34s\n",
      "37:\tlearn: 0.3891302\ttotal: 247ms\tremaining: 6.24s\n",
      "38:\tlearn: 0.3874258\ttotal: 250ms\tremaining: 6.15s\n",
      "39:\tlearn: 0.3857862\ttotal: 253ms\tremaining: 6.06s\n",
      "40:\tlearn: 0.3841223\ttotal: 256ms\tremaining: 5.98s\n",
      "41:\tlearn: 0.3822207\ttotal: 259ms\tremaining: 5.9s\n",
      "42:\tlearn: 0.3799906\ttotal: 262ms\tremaining: 5.83s\n",
      "43:\tlearn: 0.3779365\ttotal: 265ms\tremaining: 5.76s\n",
      "44:\tlearn: 0.3757158\ttotal: 268ms\tremaining: 5.69s\n",
      "45:\tlearn: 0.3741029\ttotal: 271ms\tremaining: 5.62s\n",
      "46:\tlearn: 0.3724866\ttotal: 274ms\tremaining: 5.56s\n",
      "47:\tlearn: 0.3706517\ttotal: 277ms\tremaining: 5.5s\n",
      "48:\tlearn: 0.3686550\ttotal: 281ms\tremaining: 5.46s\n",
      "49:\tlearn: 0.3667542\ttotal: 286ms\tremaining: 5.42s\n",
      "50:\tlearn: 0.3654627\ttotal: 289ms\tremaining: 5.38s\n",
      "51:\tlearn: 0.3638644\ttotal: 292ms\tremaining: 5.32s\n",
      "52:\tlearn: 0.3625842\ttotal: 295ms\tremaining: 5.26s\n",
      "53:\tlearn: 0.3612957\ttotal: 298ms\tremaining: 5.21s\n",
      "54:\tlearn: 0.3599187\ttotal: 301ms\tremaining: 5.17s\n",
      "55:\tlearn: 0.3589714\ttotal: 304ms\tremaining: 5.12s\n",
      "56:\tlearn: 0.3579127\ttotal: 306ms\tremaining: 5.07s\n",
      "57:\tlearn: 0.3569274\ttotal: 309ms\tremaining: 5.02s\n",
      "58:\tlearn: 0.3556054\ttotal: 312ms\tremaining: 4.98s\n",
      "59:\tlearn: 0.3546474\ttotal: 315ms\tremaining: 4.94s\n",
      "60:\tlearn: 0.3539399\ttotal: 318ms\tremaining: 4.9s\n",
      "61:\tlearn: 0.3530954\ttotal: 322ms\tremaining: 4.86s\n",
      "62:\tlearn: 0.3521460\ttotal: 324ms\tremaining: 4.82s\n",
      "63:\tlearn: 0.3510870\ttotal: 327ms\tremaining: 4.79s\n",
      "64:\tlearn: 0.3501217\ttotal: 330ms\tremaining: 4.75s\n",
      "65:\tlearn: 0.3492327\ttotal: 333ms\tremaining: 4.71s\n",
      "66:\tlearn: 0.3485595\ttotal: 336ms\tremaining: 4.68s\n",
      "67:\tlearn: 0.3478645\ttotal: 339ms\tremaining: 4.64s\n",
      "68:\tlearn: 0.3472342\ttotal: 342ms\tremaining: 4.61s\n",
      "69:\tlearn: 0.3465675\ttotal: 345ms\tremaining: 4.58s\n",
      "70:\tlearn: 0.3460479\ttotal: 348ms\tremaining: 4.55s\n",
      "71:\tlearn: 0.3453799\ttotal: 352ms\tremaining: 4.54s\n",
      "72:\tlearn: 0.3448843\ttotal: 356ms\tremaining: 4.51s\n",
      "73:\tlearn: 0.3443863\ttotal: 359ms\tremaining: 4.49s\n",
      "74:\tlearn: 0.3438834\ttotal: 361ms\tremaining: 4.46s\n",
      "75:\tlearn: 0.3431635\ttotal: 365ms\tremaining: 4.43s\n",
      "76:\tlearn: 0.3426554\ttotal: 369ms\tremaining: 4.42s\n",
      "77:\tlearn: 0.3421177\ttotal: 373ms\tremaining: 4.41s\n",
      "78:\tlearn: 0.3416612\ttotal: 377ms\tremaining: 4.39s\n",
      "79:\tlearn: 0.3411365\ttotal: 381ms\tremaining: 4.38s\n",
      "80:\tlearn: 0.3406069\ttotal: 385ms\tremaining: 4.37s\n",
      "81:\tlearn: 0.3399528\ttotal: 389ms\tremaining: 4.35s\n",
      "82:\tlearn: 0.3391017\ttotal: 393ms\tremaining: 4.34s\n",
      "83:\tlearn: 0.3386903\ttotal: 397ms\tremaining: 4.33s\n",
      "84:\tlearn: 0.3379766\ttotal: 401ms\tremaining: 4.31s\n",
      "85:\tlearn: 0.3372734\ttotal: 404ms\tremaining: 4.29s\n",
      "86:\tlearn: 0.3366315\ttotal: 407ms\tremaining: 4.27s\n",
      "87:\tlearn: 0.3361749\ttotal: 410ms\tremaining: 4.24s\n",
      "88:\tlearn: 0.3356484\ttotal: 413ms\tremaining: 4.22s\n",
      "89:\tlearn: 0.3349934\ttotal: 416ms\tremaining: 4.2s\n",
      "90:\tlearn: 0.3345650\ttotal: 419ms\tremaining: 4.18s\n",
      "91:\tlearn: 0.3341826\ttotal: 422ms\tremaining: 4.16s\n",
      "92:\tlearn: 0.3337618\ttotal: 424ms\tremaining: 4.14s\n",
      "93:\tlearn: 0.3332606\ttotal: 427ms\tremaining: 4.12s\n",
      "94:\tlearn: 0.3329248\ttotal: 430ms\tremaining: 4.1s\n",
      "95:\tlearn: 0.3324202\ttotal: 433ms\tremaining: 4.08s\n",
      "96:\tlearn: 0.3320788\ttotal: 436ms\tremaining: 4.06s\n",
      "97:\tlearn: 0.3318295\ttotal: 439ms\tremaining: 4.04s\n",
      "98:\tlearn: 0.3314947\ttotal: 442ms\tremaining: 4.02s\n",
      "99:\tlearn: 0.3311723\ttotal: 445ms\tremaining: 4s\n",
      "100:\tlearn: 0.3305956\ttotal: 448ms\tremaining: 3.98s\n",
      "101:\tlearn: 0.3302473\ttotal: 450ms\tremaining: 3.96s\n",
      "102:\tlearn: 0.3298945\ttotal: 453ms\tremaining: 3.95s\n",
      "103:\tlearn: 0.3295593\ttotal: 456ms\tremaining: 3.93s\n",
      "104:\tlearn: 0.3293385\ttotal: 459ms\tremaining: 3.91s\n",
      "105:\tlearn: 0.3290939\ttotal: 462ms\tremaining: 3.9s\n",
      "106:\tlearn: 0.3288208\ttotal: 466ms\tremaining: 3.88s\n",
      "107:\tlearn: 0.3284003\ttotal: 468ms\tremaining: 3.87s\n",
      "108:\tlearn: 0.3280837\ttotal: 471ms\tremaining: 3.85s\n",
      "109:\tlearn: 0.3275072\ttotal: 474ms\tremaining: 3.84s\n",
      "110:\tlearn: 0.3272157\ttotal: 477ms\tremaining: 3.82s\n",
      "111:\tlearn: 0.3270050\ttotal: 480ms\tremaining: 3.81s\n",
      "112:\tlearn: 0.3266047\ttotal: 483ms\tremaining: 3.79s\n",
      "113:\tlearn: 0.3260747\ttotal: 486ms\tremaining: 3.78s\n",
      "114:\tlearn: 0.3257369\ttotal: 489ms\tremaining: 3.76s\n",
      "115:\tlearn: 0.3253466\ttotal: 492ms\tremaining: 3.75s\n",
      "116:\tlearn: 0.3249623\ttotal: 495ms\tremaining: 3.73s\n",
      "117:\tlearn: 0.3246029\ttotal: 498ms\tremaining: 3.72s\n",
      "118:\tlearn: 0.3244078\ttotal: 500ms\tremaining: 3.71s\n",
      "119:\tlearn: 0.3239582\ttotal: 503ms\tremaining: 3.69s\n",
      "120:\tlearn: 0.3236285\ttotal: 506ms\tremaining: 3.68s\n",
      "121:\tlearn: 0.3233705\ttotal: 509ms\tremaining: 3.66s\n",
      "122:\tlearn: 0.3229268\ttotal: 512ms\tremaining: 3.65s\n",
      "123:\tlearn: 0.3225260\ttotal: 515ms\tremaining: 3.64s\n",
      "124:\tlearn: 0.3223017\ttotal: 518ms\tremaining: 3.63s\n",
      "125:\tlearn: 0.3221134\ttotal: 521ms\tremaining: 3.61s\n",
      "126:\tlearn: 0.3219408\ttotal: 524ms\tremaining: 3.6s\n",
      "127:\tlearn: 0.3217499\ttotal: 527ms\tremaining: 3.59s\n",
      "128:\tlearn: 0.3214193\ttotal: 530ms\tremaining: 3.58s\n",
      "129:\tlearn: 0.3212001\ttotal: 534ms\tremaining: 3.57s\n",
      "130:\tlearn: 0.3209539\ttotal: 538ms\tremaining: 3.57s\n",
      "131:\tlearn: 0.3207654\ttotal: 542ms\tremaining: 3.56s\n",
      "132:\tlearn: 0.3205751\ttotal: 546ms\tremaining: 3.56s\n",
      "133:\tlearn: 0.3201693\ttotal: 549ms\tremaining: 3.55s\n",
      "134:\tlearn: 0.3197726\ttotal: 552ms\tremaining: 3.54s\n",
      "135:\tlearn: 0.3195530\ttotal: 555ms\tremaining: 3.52s\n",
      "136:\tlearn: 0.3193218\ttotal: 558ms\tremaining: 3.51s\n",
      "137:\tlearn: 0.3190855\ttotal: 561ms\tremaining: 3.51s\n",
      "138:\tlearn: 0.3188966\ttotal: 565ms\tremaining: 3.5s\n",
      "139:\tlearn: 0.3186805\ttotal: 568ms\tremaining: 3.49s\n",
      "140:\tlearn: 0.3183698\ttotal: 572ms\tremaining: 3.49s\n",
      "141:\tlearn: 0.3181766\ttotal: 576ms\tremaining: 3.48s\n",
      "142:\tlearn: 0.3177901\ttotal: 579ms\tremaining: 3.47s\n",
      "143:\tlearn: 0.3174983\ttotal: 582ms\tremaining: 3.46s\n",
      "144:\tlearn: 0.3173068\ttotal: 585ms\tremaining: 3.45s\n",
      "145:\tlearn: 0.3171537\ttotal: 588ms\tremaining: 3.44s\n",
      "146:\tlearn: 0.3170159\ttotal: 593ms\tremaining: 3.44s\n",
      "147:\tlearn: 0.3168806\ttotal: 599ms\tremaining: 3.45s\n",
      "148:\tlearn: 0.3166970\ttotal: 602ms\tremaining: 3.44s\n",
      "149:\tlearn: 0.3163585\ttotal: 605ms\tremaining: 3.43s\n",
      "150:\tlearn: 0.3162690\ttotal: 609ms\tremaining: 3.42s\n",
      "151:\tlearn: 0.3160861\ttotal: 612ms\tremaining: 3.41s\n",
      "152:\tlearn: 0.3158639\ttotal: 615ms\tremaining: 3.4s\n",
      "153:\tlearn: 0.3157241\ttotal: 617ms\tremaining: 3.39s\n",
      "154:\tlearn: 0.3155844\ttotal: 620ms\tremaining: 3.38s\n",
      "155:\tlearn: 0.3154298\ttotal: 623ms\tremaining: 3.37s\n",
      "156:\tlearn: 0.3152400\ttotal: 626ms\tremaining: 3.36s\n",
      "157:\tlearn: 0.3149072\ttotal: 629ms\tremaining: 3.35s\n",
      "158:\tlearn: 0.3147717\ttotal: 632ms\tremaining: 3.34s\n",
      "159:\tlearn: 0.3145712\ttotal: 635ms\tremaining: 3.33s\n",
      "160:\tlearn: 0.3144133\ttotal: 638ms\tremaining: 3.33s\n",
      "161:\tlearn: 0.3141330\ttotal: 641ms\tremaining: 3.32s\n",
      "162:\tlearn: 0.3140344\ttotal: 644ms\tremaining: 3.31s\n",
      "163:\tlearn: 0.3137699\ttotal: 647ms\tremaining: 3.3s\n",
      "164:\tlearn: 0.3136092\ttotal: 650ms\tremaining: 3.29s\n",
      "165:\tlearn: 0.3134583\ttotal: 653ms\tremaining: 3.28s\n",
      "166:\tlearn: 0.3132852\ttotal: 656ms\tremaining: 3.27s\n",
      "167:\tlearn: 0.3131524\ttotal: 659ms\tremaining: 3.27s\n",
      "168:\tlearn: 0.3129141\ttotal: 662ms\tremaining: 3.26s\n",
      "169:\tlearn: 0.3126479\ttotal: 665ms\tremaining: 3.25s\n",
      "170:\tlearn: 0.3125048\ttotal: 668ms\tremaining: 3.24s\n",
      "171:\tlearn: 0.3123610\ttotal: 671ms\tremaining: 3.23s\n",
      "172:\tlearn: 0.3122555\ttotal: 674ms\tremaining: 3.22s\n",
      "173:\tlearn: 0.3121220\ttotal: 677ms\tremaining: 3.21s\n",
      "174:\tlearn: 0.3119717\ttotal: 680ms\tremaining: 3.21s\n",
      "175:\tlearn: 0.3117432\ttotal: 683ms\tremaining: 3.2s\n",
      "176:\tlearn: 0.3116074\ttotal: 686ms\tremaining: 3.19s\n",
      "177:\tlearn: 0.3113316\ttotal: 689ms\tremaining: 3.18s\n",
      "178:\tlearn: 0.3111946\ttotal: 692ms\tremaining: 3.17s\n",
      "179:\tlearn: 0.3110619\ttotal: 695ms\tremaining: 3.17s\n",
      "180:\tlearn: 0.3108891\ttotal: 698ms\tremaining: 3.16s\n",
      "181:\tlearn: 0.3107675\ttotal: 701ms\tremaining: 3.15s\n",
      "182:\tlearn: 0.3106238\ttotal: 704ms\tremaining: 3.15s\n",
      "183:\tlearn: 0.3105024\ttotal: 707ms\tremaining: 3.14s\n",
      "184:\tlearn: 0.3102988\ttotal: 710ms\tremaining: 3.13s\n",
      "185:\tlearn: 0.3101296\ttotal: 713ms\tremaining: 3.12s\n",
      "186:\tlearn: 0.3098361\ttotal: 716ms\tremaining: 3.11s\n",
      "187:\tlearn: 0.3096272\ttotal: 719ms\tremaining: 3.11s\n",
      "188:\tlearn: 0.3093900\ttotal: 722ms\tremaining: 3.1s\n",
      "189:\tlearn: 0.3092207\ttotal: 725ms\tremaining: 3.09s\n",
      "190:\tlearn: 0.3090848\ttotal: 728ms\tremaining: 3.08s\n",
      "191:\tlearn: 0.3089350\ttotal: 731ms\tremaining: 3.08s\n",
      "192:\tlearn: 0.3087645\ttotal: 735ms\tremaining: 3.07s\n",
      "193:\tlearn: 0.3085686\ttotal: 739ms\tremaining: 3.07s\n",
      "194:\tlearn: 0.3084311\ttotal: 742ms\tremaining: 3.06s\n",
      "195:\tlearn: 0.3082180\ttotal: 747ms\tremaining: 3.06s\n",
      "196:\tlearn: 0.3080592\ttotal: 750ms\tremaining: 3.06s\n",
      "197:\tlearn: 0.3078177\ttotal: 753ms\tremaining: 3.05s\n",
      "198:\tlearn: 0.3077025\ttotal: 756ms\tremaining: 3.04s\n",
      "199:\tlearn: 0.3074192\ttotal: 760ms\tremaining: 3.04s\n",
      "200:\tlearn: 0.3072492\ttotal: 764ms\tremaining: 3.04s\n",
      "201:\tlearn: 0.3070508\ttotal: 769ms\tremaining: 3.04s\n",
      "202:\tlearn: 0.3069164\ttotal: 772ms\tremaining: 3.03s\n",
      "203:\tlearn: 0.3067307\ttotal: 775ms\tremaining: 3.02s\n",
      "204:\tlearn: 0.3065646\ttotal: 778ms\tremaining: 3.02s\n",
      "205:\tlearn: 0.3065435\ttotal: 780ms\tremaining: 3.01s\n",
      "206:\tlearn: 0.3064168\ttotal: 789ms\tremaining: 3.02s\n",
      "207:\tlearn: 0.3061496\ttotal: 794ms\tremaining: 3.02s\n",
      "208:\tlearn: 0.3059878\ttotal: 798ms\tremaining: 3.02s\n",
      "209:\tlearn: 0.3058923\ttotal: 803ms\tremaining: 3.02s\n",
      "210:\tlearn: 0.3057179\ttotal: 807ms\tremaining: 3.02s\n",
      "211:\tlearn: 0.3056098\ttotal: 811ms\tremaining: 3.01s\n",
      "212:\tlearn: 0.3054148\ttotal: 815ms\tremaining: 3.01s\n",
      "213:\tlearn: 0.3052466\ttotal: 819ms\tremaining: 3.01s\n",
      "214:\tlearn: 0.3051682\ttotal: 823ms\tremaining: 3.01s\n",
      "215:\tlearn: 0.3049906\ttotal: 828ms\tremaining: 3s\n",
      "216:\tlearn: 0.3048368\ttotal: 832ms\tremaining: 3s\n",
      "217:\tlearn: 0.3047228\ttotal: 835ms\tremaining: 3s\n",
      "218:\tlearn: 0.3046524\ttotal: 838ms\tremaining: 2.99s\n",
      "219:\tlearn: 0.3044424\ttotal: 841ms\tremaining: 2.98s\n",
      "220:\tlearn: 0.3043684\ttotal: 844ms\tremaining: 2.97s\n",
      "221:\tlearn: 0.3042465\ttotal: 847ms\tremaining: 2.97s\n",
      "222:\tlearn: 0.3041848\ttotal: 851ms\tremaining: 2.97s\n",
      "223:\tlearn: 0.3040652\ttotal: 855ms\tremaining: 2.96s\n",
      "224:\tlearn: 0.3039982\ttotal: 858ms\tremaining: 2.95s\n",
      "225:\tlearn: 0.3038886\ttotal: 861ms\tremaining: 2.95s\n",
      "226:\tlearn: 0.3036920\ttotal: 864ms\tremaining: 2.94s\n",
      "227:\tlearn: 0.3035451\ttotal: 867ms\tremaining: 2.94s\n",
      "228:\tlearn: 0.3033987\ttotal: 870ms\tremaining: 2.93s\n",
      "229:\tlearn: 0.3032912\ttotal: 873ms\tremaining: 2.92s\n",
      "230:\tlearn: 0.3031538\ttotal: 876ms\tremaining: 2.92s\n",
      "231:\tlearn: 0.3030325\ttotal: 879ms\tremaining: 2.91s\n",
      "232:\tlearn: 0.3028712\ttotal: 882ms\tremaining: 2.9s\n",
      "233:\tlearn: 0.3027359\ttotal: 884ms\tremaining: 2.9s\n",
      "234:\tlearn: 0.3025516\ttotal: 887ms\tremaining: 2.89s\n",
      "235:\tlearn: 0.3024456\ttotal: 890ms\tremaining: 2.88s\n",
      "236:\tlearn: 0.3023689\ttotal: 893ms\tremaining: 2.88s\n",
      "237:\tlearn: 0.3022169\ttotal: 896ms\tremaining: 2.87s\n",
      "238:\tlearn: 0.3020850\ttotal: 899ms\tremaining: 2.86s\n",
      "239:\tlearn: 0.3019418\ttotal: 902ms\tremaining: 2.85s\n",
      "240:\tlearn: 0.3018164\ttotal: 905ms\tremaining: 2.85s\n",
      "241:\tlearn: 0.3016058\ttotal: 908ms\tremaining: 2.84s\n",
      "242:\tlearn: 0.3014495\ttotal: 911ms\tremaining: 2.84s\n",
      "243:\tlearn: 0.3012850\ttotal: 914ms\tremaining: 2.83s\n",
      "244:\tlearn: 0.3011325\ttotal: 916ms\tremaining: 2.82s\n",
      "245:\tlearn: 0.3009195\ttotal: 919ms\tremaining: 2.82s\n",
      "246:\tlearn: 0.3007620\ttotal: 922ms\tremaining: 2.81s\n",
      "247:\tlearn: 0.3006659\ttotal: 925ms\tremaining: 2.8s\n",
      "248:\tlearn: 0.3005154\ttotal: 928ms\tremaining: 2.8s\n",
      "249:\tlearn: 0.3004479\ttotal: 931ms\tremaining: 2.79s\n",
      "250:\tlearn: 0.3002696\ttotal: 934ms\tremaining: 2.79s\n",
      "251:\tlearn: 0.3000498\ttotal: 938ms\tremaining: 2.78s\n",
      "252:\tlearn: 0.2999688\ttotal: 941ms\tremaining: 2.78s\n",
      "253:\tlearn: 0.2998075\ttotal: 945ms\tremaining: 2.77s\n",
      "254:\tlearn: 0.2997058\ttotal: 949ms\tremaining: 2.77s\n",
      "255:\tlearn: 0.2996235\ttotal: 953ms\tremaining: 2.77s\n",
      "256:\tlearn: 0.2994693\ttotal: 958ms\tremaining: 2.77s\n",
      "257:\tlearn: 0.2992796\ttotal: 961ms\tremaining: 2.76s\n",
      "258:\tlearn: 0.2991101\ttotal: 964ms\tremaining: 2.76s\n",
      "259:\tlearn: 0.2989920\ttotal: 967ms\tremaining: 2.75s\n",
      "260:\tlearn: 0.2989006\ttotal: 970ms\tremaining: 2.75s\n",
      "261:\tlearn: 0.2988295\ttotal: 973ms\tremaining: 2.74s\n",
      "262:\tlearn: 0.2987561\ttotal: 977ms\tremaining: 2.74s\n",
      "263:\tlearn: 0.2986212\ttotal: 981ms\tremaining: 2.73s\n",
      "264:\tlearn: 0.2984824\ttotal: 985ms\tremaining: 2.73s\n",
      "265:\tlearn: 0.2983423\ttotal: 988ms\tremaining: 2.73s\n",
      "266:\tlearn: 0.2982415\ttotal: 991ms\tremaining: 2.72s\n",
      "267:\tlearn: 0.2981246\ttotal: 994ms\tremaining: 2.71s\n",
      "268:\tlearn: 0.2980005\ttotal: 997ms\tremaining: 2.71s\n",
      "269:\tlearn: 0.2978406\ttotal: 1s\tremaining: 2.7s\n",
      "270:\tlearn: 0.2977295\ttotal: 1s\tremaining: 2.7s\n",
      "271:\tlearn: 0.2976442\ttotal: 1.01s\tremaining: 2.69s\n",
      "272:\tlearn: 0.2975812\ttotal: 1.01s\tremaining: 2.69s\n",
      "273:\tlearn: 0.2974313\ttotal: 1.01s\tremaining: 2.68s\n",
      "274:\tlearn: 0.2973372\ttotal: 1.01s\tremaining: 2.67s\n",
      "275:\tlearn: 0.2971849\ttotal: 1.02s\tremaining: 2.67s\n",
      "276:\tlearn: 0.2970774\ttotal: 1.02s\tremaining: 2.66s\n",
      "277:\tlearn: 0.2969938\ttotal: 1.02s\tremaining: 2.66s\n",
      "278:\tlearn: 0.2968913\ttotal: 1.03s\tremaining: 2.65s\n",
      "279:\tlearn: 0.2968138\ttotal: 1.03s\tremaining: 2.65s\n",
      "280:\tlearn: 0.2967257\ttotal: 1.03s\tremaining: 2.64s\n",
      "281:\tlearn: 0.2965168\ttotal: 1.03s\tremaining: 2.64s\n",
      "282:\tlearn: 0.2963555\ttotal: 1.04s\tremaining: 2.63s\n",
      "283:\tlearn: 0.2961748\ttotal: 1.04s\tremaining: 2.63s\n",
      "284:\tlearn: 0.2960264\ttotal: 1.04s\tremaining: 2.62s\n",
      "285:\tlearn: 0.2958808\ttotal: 1.05s\tremaining: 2.62s\n",
      "286:\tlearn: 0.2957784\ttotal: 1.05s\tremaining: 2.61s\n",
      "287:\tlearn: 0.2956084\ttotal: 1.05s\tremaining: 2.61s\n",
      "288:\tlearn: 0.2955294\ttotal: 1.06s\tremaining: 2.6s\n",
      "289:\tlearn: 0.2954057\ttotal: 1.06s\tremaining: 2.6s\n",
      "290:\tlearn: 0.2953773\ttotal: 1.06s\tremaining: 2.59s\n",
      "291:\tlearn: 0.2952052\ttotal: 1.07s\tremaining: 2.59s\n",
      "292:\tlearn: 0.2951200\ttotal: 1.07s\tremaining: 2.58s\n",
      "293:\tlearn: 0.2949608\ttotal: 1.07s\tremaining: 2.58s\n",
      "294:\tlearn: 0.2948709\ttotal: 1.08s\tremaining: 2.57s\n",
      "295:\tlearn: 0.2947672\ttotal: 1.08s\tremaining: 2.57s\n",
      "296:\tlearn: 0.2946949\ttotal: 1.08s\tremaining: 2.56s\n",
      "297:\tlearn: 0.2946135\ttotal: 1.09s\tremaining: 2.56s\n",
      "298:\tlearn: 0.2944888\ttotal: 1.09s\tremaining: 2.55s\n",
      "299:\tlearn: 0.2944071\ttotal: 1.09s\tremaining: 2.55s\n",
      "300:\tlearn: 0.2943460\ttotal: 1.09s\tremaining: 2.54s\n",
      "301:\tlearn: 0.2942253\ttotal: 1.1s\tremaining: 2.54s\n",
      "302:\tlearn: 0.2941020\ttotal: 1.1s\tremaining: 2.53s\n",
      "303:\tlearn: 0.2939870\ttotal: 1.1s\tremaining: 2.53s\n",
      "304:\tlearn: 0.2938647\ttotal: 1.11s\tremaining: 2.52s\n",
      "305:\tlearn: 0.2937464\ttotal: 1.11s\tremaining: 2.52s\n",
      "306:\tlearn: 0.2935818\ttotal: 1.11s\tremaining: 2.51s\n",
      "307:\tlearn: 0.2934496\ttotal: 1.12s\tremaining: 2.51s\n",
      "308:\tlearn: 0.2932761\ttotal: 1.12s\tremaining: 2.5s\n",
      "309:\tlearn: 0.2932202\ttotal: 1.12s\tremaining: 2.5s\n",
      "310:\tlearn: 0.2930923\ttotal: 1.13s\tremaining: 2.49s\n",
      "311:\tlearn: 0.2929461\ttotal: 1.13s\tremaining: 2.49s\n",
      "312:\tlearn: 0.2928225\ttotal: 1.13s\tremaining: 2.48s\n",
      "313:\tlearn: 0.2926302\ttotal: 1.14s\tremaining: 2.48s\n",
      "314:\tlearn: 0.2925251\ttotal: 1.14s\tremaining: 2.48s\n",
      "315:\tlearn: 0.2924284\ttotal: 1.14s\tremaining: 2.47s\n",
      "316:\tlearn: 0.2922812\ttotal: 1.15s\tremaining: 2.47s\n",
      "317:\tlearn: 0.2921676\ttotal: 1.15s\tremaining: 2.47s\n",
      "318:\tlearn: 0.2920769\ttotal: 1.15s\tremaining: 2.46s\n",
      "319:\tlearn: 0.2918941\ttotal: 1.16s\tremaining: 2.46s\n",
      "320:\tlearn: 0.2917502\ttotal: 1.16s\tremaining: 2.45s\n",
      "321:\tlearn: 0.2916468\ttotal: 1.16s\tremaining: 2.45s\n",
      "322:\tlearn: 0.2915635\ttotal: 1.17s\tremaining: 2.44s\n",
      "323:\tlearn: 0.2914528\ttotal: 1.17s\tremaining: 2.44s\n",
      "324:\tlearn: 0.2913181\ttotal: 1.17s\tremaining: 2.44s\n",
      "325:\tlearn: 0.2912151\ttotal: 1.18s\tremaining: 2.43s\n",
      "326:\tlearn: 0.2910392\ttotal: 1.18s\tremaining: 2.43s\n",
      "327:\tlearn: 0.2909063\ttotal: 1.18s\tremaining: 2.42s\n",
      "328:\tlearn: 0.2908325\ttotal: 1.19s\tremaining: 2.42s\n",
      "329:\tlearn: 0.2907289\ttotal: 1.19s\tremaining: 2.42s\n",
      "330:\tlearn: 0.2906234\ttotal: 1.19s\tremaining: 2.41s\n",
      "331:\tlearn: 0.2904793\ttotal: 1.2s\tremaining: 2.41s\n",
      "332:\tlearn: 0.2903448\ttotal: 1.2s\tremaining: 2.4s\n",
      "333:\tlearn: 0.2901611\ttotal: 1.2s\tremaining: 2.4s\n",
      "334:\tlearn: 0.2899743\ttotal: 1.21s\tremaining: 2.4s\n",
      "335:\tlearn: 0.2898940\ttotal: 1.21s\tremaining: 2.39s\n",
      "336:\tlearn: 0.2898068\ttotal: 1.21s\tremaining: 2.39s\n",
      "337:\tlearn: 0.2897199\ttotal: 1.22s\tremaining: 2.38s\n",
      "338:\tlearn: 0.2896090\ttotal: 1.22s\tremaining: 2.38s\n",
      "339:\tlearn: 0.2895077\ttotal: 1.22s\tremaining: 2.37s\n",
      "340:\tlearn: 0.2894195\ttotal: 1.23s\tremaining: 2.37s\n",
      "341:\tlearn: 0.2893514\ttotal: 1.23s\tremaining: 2.36s\n",
      "342:\tlearn: 0.2893010\ttotal: 1.23s\tremaining: 2.36s\n",
      "343:\tlearn: 0.2892236\ttotal: 1.23s\tremaining: 2.35s\n",
      "344:\tlearn: 0.2890989\ttotal: 1.24s\tremaining: 2.35s\n",
      "345:\tlearn: 0.2889994\ttotal: 1.24s\tremaining: 2.35s\n",
      "346:\tlearn: 0.2888106\ttotal: 1.24s\tremaining: 2.34s\n",
      "347:\tlearn: 0.2886990\ttotal: 1.25s\tremaining: 2.34s\n",
      "348:\tlearn: 0.2886300\ttotal: 1.25s\tremaining: 2.33s\n",
      "349:\tlearn: 0.2885113\ttotal: 1.25s\tremaining: 2.33s\n",
      "350:\tlearn: 0.2883144\ttotal: 1.26s\tremaining: 2.32s\n",
      "351:\tlearn: 0.2882222\ttotal: 1.26s\tremaining: 2.32s\n",
      "352:\tlearn: 0.2880734\ttotal: 1.26s\tremaining: 2.31s\n",
      "353:\tlearn: 0.2879949\ttotal: 1.26s\tremaining: 2.31s\n",
      "354:\tlearn: 0.2879075\ttotal: 1.27s\tremaining: 2.3s\n",
      "355:\tlearn: 0.2877869\ttotal: 1.27s\tremaining: 2.3s\n",
      "356:\tlearn: 0.2876392\ttotal: 1.27s\tremaining: 2.3s\n",
      "357:\tlearn: 0.2874868\ttotal: 1.28s\tremaining: 2.29s\n",
      "358:\tlearn: 0.2873043\ttotal: 1.28s\tremaining: 2.29s\n",
      "359:\tlearn: 0.2872160\ttotal: 1.28s\tremaining: 2.28s\n",
      "360:\tlearn: 0.2871129\ttotal: 1.29s\tremaining: 2.28s\n",
      "361:\tlearn: 0.2870502\ttotal: 1.29s\tremaining: 2.27s\n",
      "362:\tlearn: 0.2869862\ttotal: 1.29s\tremaining: 2.27s\n",
      "363:\tlearn: 0.2869273\ttotal: 1.3s\tremaining: 2.27s\n",
      "364:\tlearn: 0.2868075\ttotal: 1.3s\tremaining: 2.26s\n",
      "365:\tlearn: 0.2866900\ttotal: 1.3s\tremaining: 2.26s\n",
      "366:\tlearn: 0.2865366\ttotal: 1.3s\tremaining: 2.25s\n",
      "367:\tlearn: 0.2863963\ttotal: 1.31s\tremaining: 2.25s\n",
      "368:\tlearn: 0.2862155\ttotal: 1.31s\tremaining: 2.24s\n",
      "369:\tlearn: 0.2861281\ttotal: 1.31s\tremaining: 2.24s\n",
      "370:\tlearn: 0.2860277\ttotal: 1.32s\tremaining: 2.23s\n",
      "371:\tlearn: 0.2858879\ttotal: 1.32s\tremaining: 2.23s\n",
      "372:\tlearn: 0.2858204\ttotal: 1.32s\tremaining: 2.22s\n",
      "373:\tlearn: 0.2857657\ttotal: 1.33s\tremaining: 2.22s\n",
      "374:\tlearn: 0.2856194\ttotal: 1.33s\tremaining: 2.22s\n",
      "375:\tlearn: 0.2854538\ttotal: 1.34s\tremaining: 2.22s\n",
      "376:\tlearn: 0.2853216\ttotal: 1.34s\tremaining: 2.21s\n",
      "377:\tlearn: 0.2852083\ttotal: 1.34s\tremaining: 2.21s\n",
      "378:\tlearn: 0.2851069\ttotal: 1.35s\tremaining: 2.21s\n",
      "379:\tlearn: 0.2849710\ttotal: 1.35s\tremaining: 2.21s\n",
      "380:\tlearn: 0.2848912\ttotal: 1.35s\tremaining: 2.2s\n",
      "381:\tlearn: 0.2847952\ttotal: 1.36s\tremaining: 2.19s\n",
      "382:\tlearn: 0.2846620\ttotal: 1.36s\tremaining: 2.19s\n",
      "383:\tlearn: 0.2845559\ttotal: 1.36s\tremaining: 2.19s\n",
      "384:\tlearn: 0.2844264\ttotal: 1.37s\tremaining: 2.19s\n",
      "385:\tlearn: 0.2843545\ttotal: 1.37s\tremaining: 2.18s\n",
      "386:\tlearn: 0.2842408\ttotal: 1.37s\tremaining: 2.18s\n",
      "387:\tlearn: 0.2841182\ttotal: 1.38s\tremaining: 2.17s\n",
      "388:\tlearn: 0.2840099\ttotal: 1.38s\tremaining: 2.17s\n",
      "389:\tlearn: 0.2839118\ttotal: 1.38s\tremaining: 2.16s\n",
      "390:\tlearn: 0.2838140\ttotal: 1.39s\tremaining: 2.16s\n",
      "391:\tlearn: 0.2837013\ttotal: 1.39s\tremaining: 2.15s\n",
      "392:\tlearn: 0.2835834\ttotal: 1.39s\tremaining: 2.15s\n",
      "393:\tlearn: 0.2835127\ttotal: 1.39s\tremaining: 2.15s\n",
      "394:\tlearn: 0.2834299\ttotal: 1.4s\tremaining: 2.14s\n",
      "395:\tlearn: 0.2833466\ttotal: 1.4s\tremaining: 2.14s\n",
      "396:\tlearn: 0.2832493\ttotal: 1.4s\tremaining: 2.13s\n",
      "397:\tlearn: 0.2831642\ttotal: 1.41s\tremaining: 2.13s\n",
      "398:\tlearn: 0.2830300\ttotal: 1.41s\tremaining: 2.12s\n",
      "399:\tlearn: 0.2828116\ttotal: 1.41s\tremaining: 2.12s\n",
      "400:\tlearn: 0.2827147\ttotal: 1.42s\tremaining: 2.11s\n",
      "401:\tlearn: 0.2826088\ttotal: 1.42s\tremaining: 2.11s\n",
      "402:\tlearn: 0.2824941\ttotal: 1.42s\tremaining: 2.1s\n",
      "403:\tlearn: 0.2824134\ttotal: 1.42s\tremaining: 2.1s\n",
      "404:\tlearn: 0.2822581\ttotal: 1.43s\tremaining: 2.1s\n",
      "405:\tlearn: 0.2821020\ttotal: 1.43s\tremaining: 2.09s\n",
      "406:\tlearn: 0.2819715\ttotal: 1.43s\tremaining: 2.09s\n",
      "407:\tlearn: 0.2818600\ttotal: 1.44s\tremaining: 2.08s\n",
      "408:\tlearn: 0.2817078\ttotal: 1.44s\tremaining: 2.08s\n",
      "409:\tlearn: 0.2816386\ttotal: 1.44s\tremaining: 2.07s\n",
      "410:\tlearn: 0.2815430\ttotal: 1.44s\tremaining: 2.07s\n",
      "411:\tlearn: 0.2814383\ttotal: 1.45s\tremaining: 2.06s\n",
      "412:\tlearn: 0.2813231\ttotal: 1.45s\tremaining: 2.06s\n",
      "413:\tlearn: 0.2812394\ttotal: 1.45s\tremaining: 2.06s\n",
      "414:\tlearn: 0.2811025\ttotal: 1.46s\tremaining: 2.05s\n",
      "415:\tlearn: 0.2810278\ttotal: 1.46s\tremaining: 2.05s\n",
      "416:\tlearn: 0.2809293\ttotal: 1.46s\tremaining: 2.04s\n",
      "417:\tlearn: 0.2808310\ttotal: 1.46s\tremaining: 2.04s\n",
      "418:\tlearn: 0.2807317\ttotal: 1.47s\tremaining: 2.04s\n",
      "419:\tlearn: 0.2806279\ttotal: 1.47s\tremaining: 2.03s\n",
      "420:\tlearn: 0.2804273\ttotal: 1.47s\tremaining: 2.03s\n",
      "421:\tlearn: 0.2803233\ttotal: 1.48s\tremaining: 2.02s\n",
      "422:\tlearn: 0.2802359\ttotal: 1.48s\tremaining: 2.02s\n",
      "423:\tlearn: 0.2801338\ttotal: 1.48s\tremaining: 2.01s\n",
      "424:\tlearn: 0.2800342\ttotal: 1.49s\tremaining: 2.01s\n",
      "425:\tlearn: 0.2799345\ttotal: 1.49s\tremaining: 2s\n",
      "426:\tlearn: 0.2798575\ttotal: 1.49s\tremaining: 2s\n",
      "427:\tlearn: 0.2797552\ttotal: 1.49s\tremaining: 2s\n",
      "428:\tlearn: 0.2796446\ttotal: 1.5s\tremaining: 1.99s\n",
      "429:\tlearn: 0.2794737\ttotal: 1.5s\tremaining: 1.99s\n",
      "430:\tlearn: 0.2793961\ttotal: 1.5s\tremaining: 1.98s\n",
      "431:\tlearn: 0.2793303\ttotal: 1.5s\tremaining: 1.98s\n",
      "432:\tlearn: 0.2792355\ttotal: 1.51s\tremaining: 1.98s\n",
      "433:\tlearn: 0.2791631\ttotal: 1.51s\tremaining: 1.97s\n",
      "434:\tlearn: 0.2789503\ttotal: 1.51s\tremaining: 1.97s\n",
      "435:\tlearn: 0.2788536\ttotal: 1.52s\tremaining: 1.96s\n",
      "436:\tlearn: 0.2787937\ttotal: 1.52s\tremaining: 1.96s\n",
      "437:\tlearn: 0.2787127\ttotal: 1.52s\tremaining: 1.96s\n",
      "438:\tlearn: 0.2785688\ttotal: 1.53s\tremaining: 1.95s\n",
      "439:\tlearn: 0.2784848\ttotal: 1.53s\tremaining: 1.95s\n",
      "440:\tlearn: 0.2784358\ttotal: 1.53s\tremaining: 1.94s\n",
      "441:\tlearn: 0.2783216\ttotal: 1.54s\tremaining: 1.94s\n",
      "442:\tlearn: 0.2782307\ttotal: 1.54s\tremaining: 1.94s\n",
      "443:\tlearn: 0.2780851\ttotal: 1.54s\tremaining: 1.93s\n",
      "444:\tlearn: 0.2779649\ttotal: 1.55s\tremaining: 1.93s\n",
      "445:\tlearn: 0.2778117\ttotal: 1.55s\tremaining: 1.93s\n",
      "446:\tlearn: 0.2776519\ttotal: 1.56s\tremaining: 1.93s\n",
      "447:\tlearn: 0.2775420\ttotal: 1.56s\tremaining: 1.92s\n",
      "448:\tlearn: 0.2774377\ttotal: 1.56s\tremaining: 1.92s\n",
      "449:\tlearn: 0.2772663\ttotal: 1.57s\tremaining: 1.92s\n",
      "450:\tlearn: 0.2771220\ttotal: 1.57s\tremaining: 1.91s\n",
      "451:\tlearn: 0.2769844\ttotal: 1.57s\tremaining: 1.91s\n",
      "452:\tlearn: 0.2768985\ttotal: 1.58s\tremaining: 1.9s\n",
      "453:\tlearn: 0.2767165\ttotal: 1.58s\tremaining: 1.9s\n",
      "454:\tlearn: 0.2765839\ttotal: 1.58s\tremaining: 1.9s\n",
      "455:\tlearn: 0.2764584\ttotal: 1.58s\tremaining: 1.89s\n",
      "456:\tlearn: 0.2763382\ttotal: 1.59s\tremaining: 1.89s\n",
      "457:\tlearn: 0.2762626\ttotal: 1.59s\tremaining: 1.88s\n",
      "458:\tlearn: 0.2761740\ttotal: 1.59s\tremaining: 1.88s\n",
      "459:\tlearn: 0.2760747\ttotal: 1.6s\tremaining: 1.88s\n",
      "460:\tlearn: 0.2760064\ttotal: 1.6s\tremaining: 1.87s\n",
      "461:\tlearn: 0.2759407\ttotal: 1.6s\tremaining: 1.87s\n",
      "462:\tlearn: 0.2758254\ttotal: 1.61s\tremaining: 1.86s\n",
      "463:\tlearn: 0.2757334\ttotal: 1.61s\tremaining: 1.86s\n",
      "464:\tlearn: 0.2756722\ttotal: 1.61s\tremaining: 1.85s\n",
      "465:\tlearn: 0.2755006\ttotal: 1.61s\tremaining: 1.85s\n",
      "466:\tlearn: 0.2754016\ttotal: 1.62s\tremaining: 1.85s\n",
      "467:\tlearn: 0.2753228\ttotal: 1.62s\tremaining: 1.84s\n",
      "468:\tlearn: 0.2751752\ttotal: 1.62s\tremaining: 1.84s\n",
      "469:\tlearn: 0.2750800\ttotal: 1.63s\tremaining: 1.83s\n",
      "470:\tlearn: 0.2749401\ttotal: 1.63s\tremaining: 1.83s\n",
      "471:\tlearn: 0.2748294\ttotal: 1.63s\tremaining: 1.83s\n",
      "472:\tlearn: 0.2746766\ttotal: 1.64s\tremaining: 1.82s\n",
      "473:\tlearn: 0.2745802\ttotal: 1.64s\tremaining: 1.82s\n",
      "474:\tlearn: 0.2744614\ttotal: 1.64s\tremaining: 1.81s\n",
      "475:\tlearn: 0.2743018\ttotal: 1.65s\tremaining: 1.81s\n",
      "476:\tlearn: 0.2741885\ttotal: 1.65s\tremaining: 1.81s\n",
      "477:\tlearn: 0.2740843\ttotal: 1.65s\tremaining: 1.8s\n",
      "478:\tlearn: 0.2739277\ttotal: 1.65s\tremaining: 1.8s\n",
      "479:\tlearn: 0.2737864\ttotal: 1.66s\tremaining: 1.79s\n",
      "480:\tlearn: 0.2736699\ttotal: 1.66s\tremaining: 1.79s\n",
      "481:\tlearn: 0.2735847\ttotal: 1.66s\tremaining: 1.79s\n",
      "482:\tlearn: 0.2734649\ttotal: 1.67s\tremaining: 1.78s\n",
      "483:\tlearn: 0.2733307\ttotal: 1.67s\tremaining: 1.78s\n",
      "484:\tlearn: 0.2732166\ttotal: 1.67s\tremaining: 1.77s\n",
      "485:\tlearn: 0.2731518\ttotal: 1.68s\tremaining: 1.77s\n",
      "486:\tlearn: 0.2730701\ttotal: 1.68s\tremaining: 1.77s\n",
      "487:\tlearn: 0.2729370\ttotal: 1.68s\tremaining: 1.76s\n",
      "488:\tlearn: 0.2728279\ttotal: 1.68s\tremaining: 1.76s\n",
      "489:\tlearn: 0.2727408\ttotal: 1.69s\tremaining: 1.76s\n",
      "490:\tlearn: 0.2726319\ttotal: 1.69s\tremaining: 1.75s\n",
      "491:\tlearn: 0.2725361\ttotal: 1.69s\tremaining: 1.75s\n",
      "492:\tlearn: 0.2724427\ttotal: 1.7s\tremaining: 1.75s\n",
      "493:\tlearn: 0.2723515\ttotal: 1.7s\tremaining: 1.74s\n",
      "494:\tlearn: 0.2722532\ttotal: 1.7s\tremaining: 1.74s\n",
      "495:\tlearn: 0.2721693\ttotal: 1.71s\tremaining: 1.73s\n",
      "496:\tlearn: 0.2720689\ttotal: 1.71s\tremaining: 1.73s\n",
      "497:\tlearn: 0.2719644\ttotal: 1.71s\tremaining: 1.73s\n",
      "498:\tlearn: 0.2718771\ttotal: 1.72s\tremaining: 1.72s\n",
      "499:\tlearn: 0.2717879\ttotal: 1.72s\tremaining: 1.72s\n",
      "500:\tlearn: 0.2716326\ttotal: 1.72s\tremaining: 1.71s\n",
      "501:\tlearn: 0.2715399\ttotal: 1.72s\tremaining: 1.71s\n",
      "502:\tlearn: 0.2713686\ttotal: 1.73s\tremaining: 1.71s\n",
      "503:\tlearn: 0.2712256\ttotal: 1.73s\tremaining: 1.7s\n",
      "504:\tlearn: 0.2711072\ttotal: 1.74s\tremaining: 1.7s\n",
      "505:\tlearn: 0.2710121\ttotal: 1.74s\tremaining: 1.7s\n",
      "506:\tlearn: 0.2709234\ttotal: 1.74s\tremaining: 1.7s\n",
      "507:\tlearn: 0.2708690\ttotal: 1.75s\tremaining: 1.69s\n",
      "508:\tlearn: 0.2707437\ttotal: 1.75s\tremaining: 1.69s\n",
      "509:\tlearn: 0.2706709\ttotal: 1.75s\tremaining: 1.69s\n",
      "510:\tlearn: 0.2705951\ttotal: 1.76s\tremaining: 1.68s\n",
      "511:\tlearn: 0.2704655\ttotal: 1.76s\tremaining: 1.68s\n",
      "512:\tlearn: 0.2703778\ttotal: 1.76s\tremaining: 1.68s\n",
      "513:\tlearn: 0.2702637\ttotal: 1.77s\tremaining: 1.67s\n",
      "514:\tlearn: 0.2701681\ttotal: 1.77s\tremaining: 1.67s\n",
      "515:\tlearn: 0.2700162\ttotal: 1.77s\tremaining: 1.66s\n",
      "516:\tlearn: 0.2699244\ttotal: 1.78s\tremaining: 1.66s\n",
      "517:\tlearn: 0.2697794\ttotal: 1.78s\tremaining: 1.66s\n",
      "518:\tlearn: 0.2696763\ttotal: 1.78s\tremaining: 1.65s\n",
      "519:\tlearn: 0.2695597\ttotal: 1.79s\tremaining: 1.65s\n",
      "520:\tlearn: 0.2694246\ttotal: 1.79s\tremaining: 1.64s\n",
      "521:\tlearn: 0.2693088\ttotal: 1.79s\tremaining: 1.64s\n",
      "522:\tlearn: 0.2691974\ttotal: 1.79s\tremaining: 1.64s\n",
      "523:\tlearn: 0.2690818\ttotal: 1.8s\tremaining: 1.63s\n",
      "524:\tlearn: 0.2689835\ttotal: 1.8s\tremaining: 1.63s\n",
      "525:\tlearn: 0.2688592\ttotal: 1.8s\tremaining: 1.63s\n",
      "526:\tlearn: 0.2687418\ttotal: 1.81s\tremaining: 1.62s\n",
      "527:\tlearn: 0.2686932\ttotal: 1.81s\tremaining: 1.62s\n",
      "528:\tlearn: 0.2685697\ttotal: 1.81s\tremaining: 1.61s\n",
      "529:\tlearn: 0.2684638\ttotal: 1.81s\tremaining: 1.61s\n",
      "530:\tlearn: 0.2683978\ttotal: 1.82s\tremaining: 1.6s\n",
      "531:\tlearn: 0.2683221\ttotal: 1.82s\tremaining: 1.6s\n",
      "532:\tlearn: 0.2682388\ttotal: 1.82s\tremaining: 1.6s\n",
      "533:\tlearn: 0.2681507\ttotal: 1.83s\tremaining: 1.59s\n",
      "534:\tlearn: 0.2680635\ttotal: 1.83s\tremaining: 1.59s\n",
      "535:\tlearn: 0.2679712\ttotal: 1.83s\tremaining: 1.59s\n",
      "536:\tlearn: 0.2679002\ttotal: 1.83s\tremaining: 1.58s\n",
      "537:\tlearn: 0.2678274\ttotal: 1.84s\tremaining: 1.58s\n",
      "538:\tlearn: 0.2677255\ttotal: 1.84s\tremaining: 1.57s\n",
      "539:\tlearn: 0.2676550\ttotal: 1.84s\tremaining: 1.57s\n",
      "540:\tlearn: 0.2675339\ttotal: 1.85s\tremaining: 1.57s\n",
      "541:\tlearn: 0.2673911\ttotal: 1.85s\tremaining: 1.56s\n",
      "542:\tlearn: 0.2673149\ttotal: 1.85s\tremaining: 1.56s\n",
      "543:\tlearn: 0.2672362\ttotal: 1.85s\tremaining: 1.55s\n",
      "544:\tlearn: 0.2671521\ttotal: 1.86s\tremaining: 1.55s\n",
      "545:\tlearn: 0.2670901\ttotal: 1.86s\tremaining: 1.55s\n",
      "546:\tlearn: 0.2669675\ttotal: 1.86s\tremaining: 1.54s\n",
      "547:\tlearn: 0.2668781\ttotal: 1.87s\tremaining: 1.54s\n",
      "548:\tlearn: 0.2667979\ttotal: 1.87s\tremaining: 1.54s\n",
      "549:\tlearn: 0.2666817\ttotal: 1.87s\tremaining: 1.53s\n",
      "550:\tlearn: 0.2666067\ttotal: 1.88s\tremaining: 1.53s\n",
      "551:\tlearn: 0.2664793\ttotal: 1.88s\tremaining: 1.52s\n",
      "552:\tlearn: 0.2663320\ttotal: 1.88s\tremaining: 1.52s\n",
      "553:\tlearn: 0.2662187\ttotal: 1.88s\tremaining: 1.52s\n",
      "554:\tlearn: 0.2660873\ttotal: 1.89s\tremaining: 1.51s\n",
      "555:\tlearn: 0.2659631\ttotal: 1.89s\tremaining: 1.51s\n",
      "556:\tlearn: 0.2658177\ttotal: 1.89s\tremaining: 1.51s\n",
      "557:\tlearn: 0.2657278\ttotal: 1.9s\tremaining: 1.5s\n",
      "558:\tlearn: 0.2655927\ttotal: 1.9s\tremaining: 1.5s\n",
      "559:\tlearn: 0.2655230\ttotal: 1.9s\tremaining: 1.49s\n",
      "560:\tlearn: 0.2654211\ttotal: 1.91s\tremaining: 1.49s\n",
      "561:\tlearn: 0.2652819\ttotal: 1.91s\tremaining: 1.49s\n",
      "562:\tlearn: 0.2651949\ttotal: 1.91s\tremaining: 1.49s\n",
      "563:\tlearn: 0.2650659\ttotal: 1.92s\tremaining: 1.48s\n",
      "564:\tlearn: 0.2649693\ttotal: 1.92s\tremaining: 1.48s\n",
      "565:\tlearn: 0.2648867\ttotal: 1.93s\tremaining: 1.48s\n",
      "566:\tlearn: 0.2648269\ttotal: 1.93s\tremaining: 1.47s\n",
      "567:\tlearn: 0.2647041\ttotal: 1.93s\tremaining: 1.47s\n",
      "568:\tlearn: 0.2645780\ttotal: 1.94s\tremaining: 1.47s\n",
      "569:\tlearn: 0.2644950\ttotal: 1.94s\tremaining: 1.46s\n",
      "570:\tlearn: 0.2643627\ttotal: 1.94s\tremaining: 1.46s\n",
      "571:\tlearn: 0.2642387\ttotal: 1.95s\tremaining: 1.46s\n",
      "572:\tlearn: 0.2641579\ttotal: 1.95s\tremaining: 1.45s\n",
      "573:\tlearn: 0.2640401\ttotal: 1.95s\tremaining: 1.45s\n",
      "574:\tlearn: 0.2639455\ttotal: 1.96s\tremaining: 1.45s\n",
      "575:\tlearn: 0.2638171\ttotal: 1.96s\tremaining: 1.44s\n",
      "576:\tlearn: 0.2637613\ttotal: 1.96s\tremaining: 1.44s\n",
      "577:\tlearn: 0.2637249\ttotal: 1.97s\tremaining: 1.44s\n",
      "578:\tlearn: 0.2635791\ttotal: 1.97s\tremaining: 1.43s\n",
      "579:\tlearn: 0.2634279\ttotal: 1.97s\tremaining: 1.43s\n",
      "580:\tlearn: 0.2633725\ttotal: 1.98s\tremaining: 1.43s\n",
      "581:\tlearn: 0.2632480\ttotal: 1.98s\tremaining: 1.42s\n",
      "582:\tlearn: 0.2631698\ttotal: 1.98s\tremaining: 1.42s\n",
      "583:\tlearn: 0.2630725\ttotal: 1.99s\tremaining: 1.41s\n",
      "584:\tlearn: 0.2629444\ttotal: 1.99s\tremaining: 1.41s\n",
      "585:\tlearn: 0.2628064\ttotal: 1.99s\tremaining: 1.41s\n",
      "586:\tlearn: 0.2627204\ttotal: 1.99s\tremaining: 1.4s\n",
      "587:\tlearn: 0.2626498\ttotal: 2s\tremaining: 1.4s\n",
      "588:\tlearn: 0.2625281\ttotal: 2s\tremaining: 1.4s\n",
      "589:\tlearn: 0.2623816\ttotal: 2s\tremaining: 1.39s\n",
      "590:\tlearn: 0.2622995\ttotal: 2.01s\tremaining: 1.39s\n",
      "591:\tlearn: 0.2622414\ttotal: 2.01s\tremaining: 1.38s\n",
      "592:\tlearn: 0.2621656\ttotal: 2.01s\tremaining: 1.38s\n",
      "593:\tlearn: 0.2620543\ttotal: 2.01s\tremaining: 1.38s\n",
      "594:\tlearn: 0.2619600\ttotal: 2.02s\tremaining: 1.37s\n",
      "595:\tlearn: 0.2618522\ttotal: 2.02s\tremaining: 1.37s\n",
      "596:\tlearn: 0.2617388\ttotal: 2.02s\tremaining: 1.36s\n",
      "597:\tlearn: 0.2616103\ttotal: 2.03s\tremaining: 1.36s\n",
      "598:\tlearn: 0.2614585\ttotal: 2.03s\tremaining: 1.36s\n",
      "599:\tlearn: 0.2613484\ttotal: 2.03s\tremaining: 1.35s\n",
      "600:\tlearn: 0.2612078\ttotal: 2.04s\tremaining: 1.35s\n",
      "601:\tlearn: 0.2610319\ttotal: 2.04s\tremaining: 1.35s\n",
      "602:\tlearn: 0.2609447\ttotal: 2.04s\tremaining: 1.34s\n",
      "603:\tlearn: 0.2608738\ttotal: 2.04s\tremaining: 1.34s\n",
      "604:\tlearn: 0.2607604\ttotal: 2.05s\tremaining: 1.34s\n",
      "605:\tlearn: 0.2606414\ttotal: 2.05s\tremaining: 1.33s\n",
      "606:\tlearn: 0.2604966\ttotal: 2.05s\tremaining: 1.33s\n",
      "607:\tlearn: 0.2603604\ttotal: 2.06s\tremaining: 1.32s\n",
      "608:\tlearn: 0.2602666\ttotal: 2.06s\tremaining: 1.32s\n",
      "609:\tlearn: 0.2601480\ttotal: 2.06s\tremaining: 1.32s\n",
      "610:\tlearn: 0.2600945\ttotal: 2.06s\tremaining: 1.31s\n",
      "611:\tlearn: 0.2600373\ttotal: 2.07s\tremaining: 1.31s\n",
      "612:\tlearn: 0.2599028\ttotal: 2.07s\tremaining: 1.31s\n",
      "613:\tlearn: 0.2596942\ttotal: 2.07s\tremaining: 1.3s\n",
      "614:\tlearn: 0.2596254\ttotal: 2.08s\tremaining: 1.3s\n",
      "615:\tlearn: 0.2594967\ttotal: 2.08s\tremaining: 1.3s\n",
      "616:\tlearn: 0.2594213\ttotal: 2.08s\tremaining: 1.29s\n",
      "617:\tlearn: 0.2593413\ttotal: 2.08s\tremaining: 1.29s\n",
      "618:\tlearn: 0.2592570\ttotal: 2.09s\tremaining: 1.28s\n",
      "619:\tlearn: 0.2592031\ttotal: 2.09s\tremaining: 1.28s\n",
      "620:\tlearn: 0.2591521\ttotal: 2.09s\tremaining: 1.28s\n",
      "621:\tlearn: 0.2590327\ttotal: 2.1s\tremaining: 1.27s\n",
      "622:\tlearn: 0.2589188\ttotal: 2.1s\tremaining: 1.27s\n",
      "623:\tlearn: 0.2588319\ttotal: 2.1s\tremaining: 1.27s\n",
      "624:\tlearn: 0.2587285\ttotal: 2.1s\tremaining: 1.26s\n",
      "625:\tlearn: 0.2586497\ttotal: 2.11s\tremaining: 1.26s\n",
      "626:\tlearn: 0.2585583\ttotal: 2.11s\tremaining: 1.26s\n",
      "627:\tlearn: 0.2584985\ttotal: 2.12s\tremaining: 1.25s\n",
      "628:\tlearn: 0.2583962\ttotal: 2.12s\tremaining: 1.25s\n",
      "629:\tlearn: 0.2582891\ttotal: 2.12s\tremaining: 1.25s\n",
      "630:\tlearn: 0.2581048\ttotal: 2.13s\tremaining: 1.24s\n",
      "631:\tlearn: 0.2580604\ttotal: 2.13s\tremaining: 1.24s\n",
      "632:\tlearn: 0.2579600\ttotal: 2.13s\tremaining: 1.24s\n",
      "633:\tlearn: 0.2579030\ttotal: 2.14s\tremaining: 1.23s\n",
      "634:\tlearn: 0.2578056\ttotal: 2.14s\tremaining: 1.23s\n",
      "635:\tlearn: 0.2576819\ttotal: 2.14s\tremaining: 1.23s\n",
      "636:\tlearn: 0.2575766\ttotal: 2.15s\tremaining: 1.22s\n",
      "637:\tlearn: 0.2575093\ttotal: 2.15s\tremaining: 1.22s\n",
      "638:\tlearn: 0.2573722\ttotal: 2.15s\tremaining: 1.22s\n",
      "639:\tlearn: 0.2572873\ttotal: 2.16s\tremaining: 1.21s\n",
      "640:\tlearn: 0.2571686\ttotal: 2.16s\tremaining: 1.21s\n",
      "641:\tlearn: 0.2570656\ttotal: 2.16s\tremaining: 1.21s\n",
      "642:\tlearn: 0.2569786\ttotal: 2.17s\tremaining: 1.2s\n",
      "643:\tlearn: 0.2568156\ttotal: 2.17s\tremaining: 1.2s\n",
      "644:\tlearn: 0.2567101\ttotal: 2.17s\tremaining: 1.2s\n",
      "645:\tlearn: 0.2566608\ttotal: 2.17s\tremaining: 1.19s\n",
      "646:\tlearn: 0.2565244\ttotal: 2.18s\tremaining: 1.19s\n",
      "647:\tlearn: 0.2564278\ttotal: 2.18s\tremaining: 1.18s\n",
      "648:\tlearn: 0.2563115\ttotal: 2.18s\tremaining: 1.18s\n",
      "649:\tlearn: 0.2562494\ttotal: 2.19s\tremaining: 1.18s\n",
      "650:\tlearn: 0.2561699\ttotal: 2.19s\tremaining: 1.17s\n",
      "651:\tlearn: 0.2560992\ttotal: 2.19s\tremaining: 1.17s\n",
      "652:\tlearn: 0.2560635\ttotal: 2.19s\tremaining: 1.17s\n",
      "653:\tlearn: 0.2559382\ttotal: 2.2s\tremaining: 1.16s\n",
      "654:\tlearn: 0.2558547\ttotal: 2.2s\tremaining: 1.16s\n",
      "655:\tlearn: 0.2556446\ttotal: 2.2s\tremaining: 1.16s\n",
      "656:\tlearn: 0.2555732\ttotal: 2.21s\tremaining: 1.15s\n",
      "657:\tlearn: 0.2555008\ttotal: 2.21s\tremaining: 1.15s\n",
      "658:\tlearn: 0.2553919\ttotal: 2.21s\tremaining: 1.14s\n",
      "659:\tlearn: 0.2553092\ttotal: 2.21s\tremaining: 1.14s\n",
      "660:\tlearn: 0.2551828\ttotal: 2.22s\tremaining: 1.14s\n",
      "661:\tlearn: 0.2550694\ttotal: 2.22s\tremaining: 1.13s\n",
      "662:\tlearn: 0.2550108\ttotal: 2.22s\tremaining: 1.13s\n",
      "663:\tlearn: 0.2549356\ttotal: 2.23s\tremaining: 1.13s\n",
      "664:\tlearn: 0.2548184\ttotal: 2.23s\tremaining: 1.12s\n",
      "665:\tlearn: 0.2547166\ttotal: 2.23s\tremaining: 1.12s\n",
      "666:\tlearn: 0.2546630\ttotal: 2.23s\tremaining: 1.12s\n",
      "667:\tlearn: 0.2545501\ttotal: 2.24s\tremaining: 1.11s\n",
      "668:\tlearn: 0.2544128\ttotal: 2.24s\tremaining: 1.11s\n",
      "669:\tlearn: 0.2543301\ttotal: 2.24s\tremaining: 1.1s\n",
      "670:\tlearn: 0.2541464\ttotal: 2.25s\tremaining: 1.1s\n",
      "671:\tlearn: 0.2540709\ttotal: 2.25s\tremaining: 1.1s\n",
      "672:\tlearn: 0.2539582\ttotal: 2.25s\tremaining: 1.09s\n",
      "673:\tlearn: 0.2537632\ttotal: 2.25s\tremaining: 1.09s\n",
      "674:\tlearn: 0.2536598\ttotal: 2.26s\tremaining: 1.09s\n",
      "675:\tlearn: 0.2535773\ttotal: 2.26s\tremaining: 1.08s\n",
      "676:\tlearn: 0.2535129\ttotal: 2.26s\tremaining: 1.08s\n",
      "677:\tlearn: 0.2533779\ttotal: 2.27s\tremaining: 1.08s\n",
      "678:\tlearn: 0.2533038\ttotal: 2.27s\tremaining: 1.07s\n",
      "679:\tlearn: 0.2531771\ttotal: 2.27s\tremaining: 1.07s\n",
      "680:\tlearn: 0.2530381\ttotal: 2.28s\tremaining: 1.07s\n",
      "681:\tlearn: 0.2529153\ttotal: 2.28s\tremaining: 1.06s\n",
      "682:\tlearn: 0.2527608\ttotal: 2.29s\tremaining: 1.06s\n",
      "683:\tlearn: 0.2526540\ttotal: 2.29s\tremaining: 1.06s\n",
      "684:\tlearn: 0.2525527\ttotal: 2.29s\tremaining: 1.05s\n",
      "685:\tlearn: 0.2524582\ttotal: 2.29s\tremaining: 1.05s\n",
      "686:\tlearn: 0.2523742\ttotal: 2.3s\tremaining: 1.05s\n",
      "687:\tlearn: 0.2522463\ttotal: 2.3s\tremaining: 1.04s\n",
      "688:\tlearn: 0.2520628\ttotal: 2.31s\tremaining: 1.04s\n",
      "689:\tlearn: 0.2519522\ttotal: 2.31s\tremaining: 1.04s\n",
      "690:\tlearn: 0.2518309\ttotal: 2.31s\tremaining: 1.03s\n",
      "691:\tlearn: 0.2517228\ttotal: 2.32s\tremaining: 1.03s\n",
      "692:\tlearn: 0.2515978\ttotal: 2.32s\tremaining: 1.03s\n",
      "693:\tlearn: 0.2515110\ttotal: 2.33s\tremaining: 1.03s\n",
      "694:\tlearn: 0.2513810\ttotal: 2.33s\tremaining: 1.02s\n",
      "695:\tlearn: 0.2513106\ttotal: 2.33s\tremaining: 1.02s\n",
      "696:\tlearn: 0.2512122\ttotal: 2.34s\tremaining: 1.02s\n",
      "697:\tlearn: 0.2511120\ttotal: 2.34s\tremaining: 1.01s\n",
      "698:\tlearn: 0.2510403\ttotal: 2.35s\tremaining: 1.01s\n",
      "699:\tlearn: 0.2509704\ttotal: 2.35s\tremaining: 1.01s\n",
      "700:\tlearn: 0.2508939\ttotal: 2.35s\tremaining: 1s\n",
      "701:\tlearn: 0.2508106\ttotal: 2.35s\tremaining: 1000ms\n",
      "702:\tlearn: 0.2507145\ttotal: 2.36s\tremaining: 996ms\n",
      "703:\tlearn: 0.2506285\ttotal: 2.36s\tremaining: 993ms\n",
      "704:\tlearn: 0.2505495\ttotal: 2.36s\tremaining: 989ms\n",
      "705:\tlearn: 0.2504416\ttotal: 2.37s\tremaining: 985ms\n",
      "706:\tlearn: 0.2503919\ttotal: 2.37s\tremaining: 982ms\n",
      "707:\tlearn: 0.2503228\ttotal: 2.37s\tremaining: 978ms\n",
      "708:\tlearn: 0.2502147\ttotal: 2.38s\tremaining: 975ms\n",
      "709:\tlearn: 0.2501382\ttotal: 2.38s\tremaining: 971ms\n",
      "710:\tlearn: 0.2500493\ttotal: 2.38s\tremaining: 968ms\n",
      "711:\tlearn: 0.2499523\ttotal: 2.38s\tremaining: 964ms\n",
      "712:\tlearn: 0.2498345\ttotal: 2.39s\tremaining: 961ms\n",
      "713:\tlearn: 0.2497357\ttotal: 2.39s\tremaining: 957ms\n",
      "714:\tlearn: 0.2496272\ttotal: 2.39s\tremaining: 954ms\n",
      "715:\tlearn: 0.2495265\ttotal: 2.4s\tremaining: 950ms\n",
      "716:\tlearn: 0.2494382\ttotal: 2.4s\tremaining: 947ms\n",
      "717:\tlearn: 0.2493604\ttotal: 2.4s\tremaining: 943ms\n",
      "718:\tlearn: 0.2492431\ttotal: 2.4s\tremaining: 940ms\n",
      "719:\tlearn: 0.2491537\ttotal: 2.41s\tremaining: 936ms\n",
      "720:\tlearn: 0.2490255\ttotal: 2.41s\tremaining: 933ms\n",
      "721:\tlearn: 0.2489150\ttotal: 2.41s\tremaining: 929ms\n",
      "722:\tlearn: 0.2487822\ttotal: 2.42s\tremaining: 926ms\n",
      "723:\tlearn: 0.2487177\ttotal: 2.42s\tremaining: 922ms\n",
      "724:\tlearn: 0.2485660\ttotal: 2.42s\tremaining: 919ms\n",
      "725:\tlearn: 0.2485159\ttotal: 2.42s\tremaining: 915ms\n",
      "726:\tlearn: 0.2484527\ttotal: 2.43s\tremaining: 912ms\n",
      "727:\tlearn: 0.2484101\ttotal: 2.43s\tremaining: 908ms\n",
      "728:\tlearn: 0.2483287\ttotal: 2.43s\tremaining: 905ms\n",
      "729:\tlearn: 0.2482619\ttotal: 2.44s\tremaining: 901ms\n",
      "730:\tlearn: 0.2481324\ttotal: 2.44s\tremaining: 898ms\n",
      "731:\tlearn: 0.2480522\ttotal: 2.44s\tremaining: 894ms\n",
      "732:\tlearn: 0.2479695\ttotal: 2.44s\tremaining: 891ms\n",
      "733:\tlearn: 0.2478723\ttotal: 2.45s\tremaining: 887ms\n",
      "734:\tlearn: 0.2478112\ttotal: 2.45s\tremaining: 884ms\n",
      "735:\tlearn: 0.2477348\ttotal: 2.45s\tremaining: 880ms\n",
      "736:\tlearn: 0.2476314\ttotal: 2.46s\tremaining: 877ms\n",
      "737:\tlearn: 0.2475524\ttotal: 2.46s\tremaining: 873ms\n",
      "738:\tlearn: 0.2474552\ttotal: 2.46s\tremaining: 870ms\n",
      "739:\tlearn: 0.2473663\ttotal: 2.47s\tremaining: 866ms\n",
      "740:\tlearn: 0.2472651\ttotal: 2.47s\tremaining: 863ms\n",
      "741:\tlearn: 0.2472087\ttotal: 2.47s\tremaining: 859ms\n",
      "742:\tlearn: 0.2471086\ttotal: 2.47s\tremaining: 856ms\n",
      "743:\tlearn: 0.2470293\ttotal: 2.48s\tremaining: 852ms\n",
      "744:\tlearn: 0.2469581\ttotal: 2.48s\tremaining: 849ms\n",
      "745:\tlearn: 0.2468996\ttotal: 2.48s\tremaining: 846ms\n",
      "746:\tlearn: 0.2468219\ttotal: 2.49s\tremaining: 842ms\n",
      "747:\tlearn: 0.2467317\ttotal: 2.49s\tremaining: 839ms\n",
      "748:\tlearn: 0.2466341\ttotal: 2.49s\tremaining: 835ms\n",
      "749:\tlearn: 0.2465448\ttotal: 2.49s\tremaining: 832ms\n",
      "750:\tlearn: 0.2464846\ttotal: 2.5s\tremaining: 828ms\n",
      "751:\tlearn: 0.2464093\ttotal: 2.5s\tremaining: 825ms\n",
      "752:\tlearn: 0.2463059\ttotal: 2.5s\tremaining: 822ms\n",
      "753:\tlearn: 0.2462115\ttotal: 2.51s\tremaining: 819ms\n",
      "754:\tlearn: 0.2461570\ttotal: 2.51s\tremaining: 815ms\n",
      "755:\tlearn: 0.2461059\ttotal: 2.52s\tremaining: 812ms\n",
      "756:\tlearn: 0.2460141\ttotal: 2.52s\tremaining: 809ms\n",
      "757:\tlearn: 0.2459568\ttotal: 2.52s\tremaining: 805ms\n",
      "758:\tlearn: 0.2457876\ttotal: 2.53s\tremaining: 802ms\n",
      "759:\tlearn: 0.2456919\ttotal: 2.53s\tremaining: 799ms\n",
      "760:\tlearn: 0.2456056\ttotal: 2.53s\tremaining: 796ms\n",
      "761:\tlearn: 0.2455655\ttotal: 2.54s\tremaining: 793ms\n",
      "762:\tlearn: 0.2454956\ttotal: 2.54s\tremaining: 789ms\n",
      "763:\tlearn: 0.2453976\ttotal: 2.54s\tremaining: 786ms\n",
      "764:\tlearn: 0.2453263\ttotal: 2.55s\tremaining: 782ms\n",
      "765:\tlearn: 0.2452551\ttotal: 2.55s\tremaining: 779ms\n",
      "766:\tlearn: 0.2451362\ttotal: 2.55s\tremaining: 775ms\n",
      "767:\tlearn: 0.2450466\ttotal: 2.56s\tremaining: 772ms\n",
      "768:\tlearn: 0.2449164\ttotal: 2.56s\tremaining: 768ms\n",
      "769:\tlearn: 0.2448564\ttotal: 2.56s\tremaining: 765ms\n",
      "770:\tlearn: 0.2447304\ttotal: 2.56s\tremaining: 762ms\n",
      "771:\tlearn: 0.2446524\ttotal: 2.57s\tremaining: 758ms\n",
      "772:\tlearn: 0.2445321\ttotal: 2.57s\tremaining: 755ms\n",
      "773:\tlearn: 0.2443953\ttotal: 2.57s\tremaining: 751ms\n",
      "774:\tlearn: 0.2443351\ttotal: 2.58s\tremaining: 748ms\n",
      "775:\tlearn: 0.2442451\ttotal: 2.58s\tremaining: 744ms\n",
      "776:\tlearn: 0.2441068\ttotal: 2.58s\tremaining: 741ms\n",
      "777:\tlearn: 0.2440335\ttotal: 2.58s\tremaining: 737ms\n",
      "778:\tlearn: 0.2439993\ttotal: 2.59s\tremaining: 734ms\n",
      "779:\tlearn: 0.2439633\ttotal: 2.59s\tremaining: 731ms\n",
      "780:\tlearn: 0.2438179\ttotal: 2.59s\tremaining: 727ms\n",
      "781:\tlearn: 0.2437324\ttotal: 2.6s\tremaining: 724ms\n",
      "782:\tlearn: 0.2436506\ttotal: 2.6s\tremaining: 720ms\n",
      "783:\tlearn: 0.2435400\ttotal: 2.6s\tremaining: 717ms\n",
      "784:\tlearn: 0.2434500\ttotal: 2.6s\tremaining: 713ms\n",
      "785:\tlearn: 0.2433501\ttotal: 2.61s\tremaining: 710ms\n",
      "786:\tlearn: 0.2432415\ttotal: 2.61s\tremaining: 707ms\n",
      "787:\tlearn: 0.2431710\ttotal: 2.61s\tremaining: 703ms\n",
      "788:\tlearn: 0.2431220\ttotal: 2.62s\tremaining: 700ms\n",
      "789:\tlearn: 0.2430297\ttotal: 2.62s\tremaining: 696ms\n",
      "790:\tlearn: 0.2429353\ttotal: 2.62s\tremaining: 693ms\n",
      "791:\tlearn: 0.2428470\ttotal: 2.63s\tremaining: 689ms\n",
      "792:\tlearn: 0.2427686\ttotal: 2.63s\tremaining: 686ms\n",
      "793:\tlearn: 0.2427023\ttotal: 2.63s\tremaining: 683ms\n",
      "794:\tlearn: 0.2425725\ttotal: 2.63s\tremaining: 679ms\n",
      "795:\tlearn: 0.2425445\ttotal: 2.64s\tremaining: 676ms\n",
      "796:\tlearn: 0.2424569\ttotal: 2.64s\tremaining: 672ms\n",
      "797:\tlearn: 0.2423496\ttotal: 2.64s\tremaining: 669ms\n",
      "798:\tlearn: 0.2422485\ttotal: 2.65s\tremaining: 666ms\n",
      "799:\tlearn: 0.2421938\ttotal: 2.65s\tremaining: 662ms\n",
      "800:\tlearn: 0.2421156\ttotal: 2.65s\tremaining: 659ms\n",
      "801:\tlearn: 0.2420604\ttotal: 2.65s\tremaining: 655ms\n",
      "802:\tlearn: 0.2419928\ttotal: 2.66s\tremaining: 652ms\n",
      "803:\tlearn: 0.2418924\ttotal: 2.66s\tremaining: 648ms\n",
      "804:\tlearn: 0.2418089\ttotal: 2.66s\tremaining: 645ms\n",
      "805:\tlearn: 0.2417069\ttotal: 2.67s\tremaining: 642ms\n",
      "806:\tlearn: 0.2416094\ttotal: 2.67s\tremaining: 638ms\n",
      "807:\tlearn: 0.2415333\ttotal: 2.67s\tremaining: 635ms\n",
      "808:\tlearn: 0.2414620\ttotal: 2.67s\tremaining: 631ms\n",
      "809:\tlearn: 0.2413623\ttotal: 2.68s\tremaining: 628ms\n",
      "810:\tlearn: 0.2413096\ttotal: 2.68s\tremaining: 625ms\n",
      "811:\tlearn: 0.2412267\ttotal: 2.68s\tremaining: 621ms\n",
      "812:\tlearn: 0.2411767\ttotal: 2.69s\tremaining: 618ms\n",
      "813:\tlearn: 0.2410858\ttotal: 2.69s\tremaining: 614ms\n",
      "814:\tlearn: 0.2410425\ttotal: 2.69s\tremaining: 611ms\n",
      "815:\tlearn: 0.2409619\ttotal: 2.69s\tremaining: 608ms\n",
      "816:\tlearn: 0.2408449\ttotal: 2.7s\tremaining: 605ms\n",
      "817:\tlearn: 0.2407024\ttotal: 2.7s\tremaining: 601ms\n",
      "818:\tlearn: 0.2405828\ttotal: 2.7s\tremaining: 598ms\n",
      "819:\tlearn: 0.2404906\ttotal: 2.71s\tremaining: 594ms\n",
      "820:\tlearn: 0.2403676\ttotal: 2.71s\tremaining: 591ms\n",
      "821:\tlearn: 0.2403127\ttotal: 2.71s\tremaining: 588ms\n",
      "822:\tlearn: 0.2402312\ttotal: 2.72s\tremaining: 584ms\n",
      "823:\tlearn: 0.2401738\ttotal: 2.72s\tremaining: 581ms\n",
      "824:\tlearn: 0.2400897\ttotal: 2.72s\tremaining: 578ms\n",
      "825:\tlearn: 0.2400374\ttotal: 2.73s\tremaining: 575ms\n",
      "826:\tlearn: 0.2399457\ttotal: 2.73s\tremaining: 572ms\n",
      "827:\tlearn: 0.2398788\ttotal: 2.73s\tremaining: 568ms\n",
      "828:\tlearn: 0.2397927\ttotal: 2.74s\tremaining: 565ms\n",
      "829:\tlearn: 0.2397307\ttotal: 2.74s\tremaining: 561ms\n",
      "830:\tlearn: 0.2396260\ttotal: 2.75s\tremaining: 558ms\n",
      "831:\tlearn: 0.2395903\ttotal: 2.75s\tremaining: 555ms\n",
      "832:\tlearn: 0.2394517\ttotal: 2.75s\tremaining: 552ms\n",
      "833:\tlearn: 0.2393954\ttotal: 2.75s\tremaining: 548ms\n",
      "834:\tlearn: 0.2393202\ttotal: 2.76s\tremaining: 545ms\n",
      "835:\tlearn: 0.2392126\ttotal: 2.76s\tremaining: 542ms\n",
      "836:\tlearn: 0.2391223\ttotal: 2.76s\tremaining: 538ms\n",
      "837:\tlearn: 0.2390502\ttotal: 2.77s\tremaining: 535ms\n",
      "838:\tlearn: 0.2389892\ttotal: 2.77s\tremaining: 531ms\n",
      "839:\tlearn: 0.2389205\ttotal: 2.77s\tremaining: 528ms\n",
      "840:\tlearn: 0.2388273\ttotal: 2.77s\tremaining: 525ms\n",
      "841:\tlearn: 0.2386925\ttotal: 2.78s\tremaining: 521ms\n",
      "842:\tlearn: 0.2386348\ttotal: 2.78s\tremaining: 518ms\n",
      "843:\tlearn: 0.2385785\ttotal: 2.78s\tremaining: 515ms\n",
      "844:\tlearn: 0.2384306\ttotal: 2.79s\tremaining: 511ms\n",
      "845:\tlearn: 0.2383809\ttotal: 2.79s\tremaining: 508ms\n",
      "846:\tlearn: 0.2382895\ttotal: 2.79s\tremaining: 504ms\n",
      "847:\tlearn: 0.2381604\ttotal: 2.79s\tremaining: 501ms\n",
      "848:\tlearn: 0.2381202\ttotal: 2.8s\tremaining: 498ms\n",
      "849:\tlearn: 0.2380140\ttotal: 2.8s\tremaining: 494ms\n",
      "850:\tlearn: 0.2379441\ttotal: 2.8s\tremaining: 491ms\n",
      "851:\tlearn: 0.2378197\ttotal: 2.81s\tremaining: 488ms\n",
      "852:\tlearn: 0.2376770\ttotal: 2.81s\tremaining: 484ms\n",
      "853:\tlearn: 0.2375905\ttotal: 2.81s\tremaining: 481ms\n",
      "854:\tlearn: 0.2375307\ttotal: 2.82s\tremaining: 478ms\n",
      "855:\tlearn: 0.2374683\ttotal: 2.82s\tremaining: 474ms\n",
      "856:\tlearn: 0.2374214\ttotal: 2.82s\tremaining: 471ms\n",
      "857:\tlearn: 0.2373475\ttotal: 2.83s\tremaining: 468ms\n",
      "858:\tlearn: 0.2372970\ttotal: 2.83s\tremaining: 464ms\n",
      "859:\tlearn: 0.2372720\ttotal: 2.83s\tremaining: 461ms\n",
      "860:\tlearn: 0.2372263\ttotal: 2.83s\tremaining: 458ms\n",
      "861:\tlearn: 0.2370974\ttotal: 2.84s\tremaining: 454ms\n",
      "862:\tlearn: 0.2369660\ttotal: 2.84s\tremaining: 451ms\n",
      "863:\tlearn: 0.2368511\ttotal: 2.84s\tremaining: 448ms\n",
      "864:\tlearn: 0.2367388\ttotal: 2.85s\tremaining: 444ms\n",
      "865:\tlearn: 0.2366396\ttotal: 2.85s\tremaining: 441ms\n",
      "866:\tlearn: 0.2365284\ttotal: 2.85s\tremaining: 437ms\n",
      "867:\tlearn: 0.2364364\ttotal: 2.85s\tremaining: 434ms\n",
      "868:\tlearn: 0.2363833\ttotal: 2.86s\tremaining: 431ms\n",
      "869:\tlearn: 0.2363027\ttotal: 2.86s\tremaining: 427ms\n",
      "870:\tlearn: 0.2362365\ttotal: 2.86s\tremaining: 424ms\n",
      "871:\tlearn: 0.2361480\ttotal: 2.87s\tremaining: 421ms\n",
      "872:\tlearn: 0.2361039\ttotal: 2.87s\tremaining: 417ms\n",
      "873:\tlearn: 0.2360000\ttotal: 2.87s\tremaining: 414ms\n",
      "874:\tlearn: 0.2359156\ttotal: 2.88s\tremaining: 411ms\n",
      "875:\tlearn: 0.2358182\ttotal: 2.88s\tremaining: 407ms\n",
      "876:\tlearn: 0.2357175\ttotal: 2.88s\tremaining: 404ms\n",
      "877:\tlearn: 0.2356422\ttotal: 2.88s\tremaining: 401ms\n",
      "878:\tlearn: 0.2355018\ttotal: 2.89s\tremaining: 397ms\n",
      "879:\tlearn: 0.2354420\ttotal: 2.89s\tremaining: 394ms\n",
      "880:\tlearn: 0.2353755\ttotal: 2.89s\tremaining: 391ms\n",
      "881:\tlearn: 0.2353202\ttotal: 2.9s\tremaining: 388ms\n",
      "882:\tlearn: 0.2352389\ttotal: 2.9s\tremaining: 384ms\n",
      "883:\tlearn: 0.2351733\ttotal: 2.91s\tremaining: 381ms\n",
      "884:\tlearn: 0.2350658\ttotal: 2.91s\tremaining: 378ms\n",
      "885:\tlearn: 0.2350033\ttotal: 2.91s\tremaining: 375ms\n",
      "886:\tlearn: 0.2349505\ttotal: 2.92s\tremaining: 372ms\n",
      "887:\tlearn: 0.2348731\ttotal: 2.92s\tremaining: 368ms\n",
      "888:\tlearn: 0.2348022\ttotal: 2.92s\tremaining: 365ms\n",
      "889:\tlearn: 0.2347597\ttotal: 2.93s\tremaining: 362ms\n",
      "890:\tlearn: 0.2346951\ttotal: 2.93s\tremaining: 358ms\n",
      "891:\tlearn: 0.2346034\ttotal: 2.93s\tremaining: 355ms\n",
      "892:\tlearn: 0.2345385\ttotal: 2.94s\tremaining: 352ms\n",
      "893:\tlearn: 0.2344745\ttotal: 2.94s\tremaining: 349ms\n",
      "894:\tlearn: 0.2344231\ttotal: 2.94s\tremaining: 345ms\n",
      "895:\tlearn: 0.2343569\ttotal: 2.95s\tremaining: 342ms\n",
      "896:\tlearn: 0.2342403\ttotal: 2.95s\tremaining: 339ms\n",
      "897:\tlearn: 0.2341361\ttotal: 2.95s\tremaining: 335ms\n",
      "898:\tlearn: 0.2340305\ttotal: 2.96s\tremaining: 332ms\n",
      "899:\tlearn: 0.2339493\ttotal: 2.96s\tremaining: 329ms\n",
      "900:\tlearn: 0.2338432\ttotal: 2.96s\tremaining: 325ms\n",
      "901:\tlearn: 0.2337270\ttotal: 2.96s\tremaining: 322ms\n",
      "902:\tlearn: 0.2336334\ttotal: 2.97s\tremaining: 319ms\n",
      "903:\tlearn: 0.2335328\ttotal: 2.97s\tremaining: 315ms\n",
      "904:\tlearn: 0.2334256\ttotal: 2.97s\tremaining: 312ms\n",
      "905:\tlearn: 0.2333548\ttotal: 2.98s\tremaining: 309ms\n",
      "906:\tlearn: 0.2332838\ttotal: 2.98s\tremaining: 305ms\n",
      "907:\tlearn: 0.2331539\ttotal: 2.98s\tremaining: 302ms\n",
      "908:\tlearn: 0.2330785\ttotal: 2.98s\tremaining: 299ms\n",
      "909:\tlearn: 0.2330201\ttotal: 2.99s\tremaining: 296ms\n",
      "910:\tlearn: 0.2329345\ttotal: 2.99s\tremaining: 292ms\n",
      "911:\tlearn: 0.2328316\ttotal: 2.99s\tremaining: 289ms\n",
      "912:\tlearn: 0.2327353\ttotal: 3s\tremaining: 286ms\n",
      "913:\tlearn: 0.2327092\ttotal: 3s\tremaining: 282ms\n",
      "914:\tlearn: 0.2326240\ttotal: 3s\tremaining: 279ms\n",
      "915:\tlearn: 0.2325543\ttotal: 3s\tremaining: 276ms\n",
      "916:\tlearn: 0.2324473\ttotal: 3.01s\tremaining: 272ms\n",
      "917:\tlearn: 0.2323258\ttotal: 3.01s\tremaining: 269ms\n",
      "918:\tlearn: 0.2322555\ttotal: 3.01s\tremaining: 266ms\n",
      "919:\tlearn: 0.2322081\ttotal: 3.02s\tremaining: 262ms\n",
      "920:\tlearn: 0.2321058\ttotal: 3.02s\tremaining: 259ms\n",
      "921:\tlearn: 0.2320317\ttotal: 3.02s\tremaining: 256ms\n",
      "922:\tlearn: 0.2319971\ttotal: 3.02s\tremaining: 252ms\n",
      "923:\tlearn: 0.2319274\ttotal: 3.03s\tremaining: 249ms\n",
      "924:\tlearn: 0.2318820\ttotal: 3.03s\tremaining: 246ms\n",
      "925:\tlearn: 0.2317771\ttotal: 3.03s\tremaining: 243ms\n",
      "926:\tlearn: 0.2317386\ttotal: 3.04s\tremaining: 239ms\n",
      "927:\tlearn: 0.2316422\ttotal: 3.04s\tremaining: 236ms\n",
      "928:\tlearn: 0.2314900\ttotal: 3.04s\tremaining: 233ms\n",
      "929:\tlearn: 0.2314303\ttotal: 3.05s\tremaining: 229ms\n",
      "930:\tlearn: 0.2313442\ttotal: 3.05s\tremaining: 226ms\n",
      "931:\tlearn: 0.2312819\ttotal: 3.05s\tremaining: 223ms\n",
      "932:\tlearn: 0.2311994\ttotal: 3.06s\tremaining: 219ms\n",
      "933:\tlearn: 0.2311743\ttotal: 3.06s\tremaining: 216ms\n",
      "934:\tlearn: 0.2311305\ttotal: 3.06s\tremaining: 213ms\n",
      "935:\tlearn: 0.2310624\ttotal: 3.06s\tremaining: 210ms\n",
      "936:\tlearn: 0.2309605\ttotal: 3.07s\tremaining: 206ms\n",
      "937:\tlearn: 0.2308911\ttotal: 3.07s\tremaining: 203ms\n",
      "938:\tlearn: 0.2308078\ttotal: 3.07s\tremaining: 200ms\n",
      "939:\tlearn: 0.2307286\ttotal: 3.08s\tremaining: 196ms\n",
      "940:\tlearn: 0.2306538\ttotal: 3.08s\tremaining: 193ms\n",
      "941:\tlearn: 0.2305606\ttotal: 3.08s\tremaining: 190ms\n",
      "942:\tlearn: 0.2305094\ttotal: 3.08s\tremaining: 186ms\n",
      "943:\tlearn: 0.2304294\ttotal: 3.09s\tremaining: 183ms\n",
      "944:\tlearn: 0.2303106\ttotal: 3.09s\tremaining: 180ms\n",
      "945:\tlearn: 0.2301755\ttotal: 3.1s\tremaining: 177ms\n",
      "946:\tlearn: 0.2300777\ttotal: 3.1s\tremaining: 173ms\n",
      "947:\tlearn: 0.2300161\ttotal: 3.1s\tremaining: 170ms\n",
      "948:\tlearn: 0.2299107\ttotal: 3.1s\tremaining: 167ms\n",
      "949:\tlearn: 0.2298376\ttotal: 3.11s\tremaining: 164ms\n",
      "950:\tlearn: 0.2297489\ttotal: 3.11s\tremaining: 160ms\n",
      "951:\tlearn: 0.2296850\ttotal: 3.12s\tremaining: 157ms\n",
      "952:\tlearn: 0.2296113\ttotal: 3.12s\tremaining: 154ms\n",
      "953:\tlearn: 0.2295260\ttotal: 3.12s\tremaining: 151ms\n",
      "954:\tlearn: 0.2294468\ttotal: 3.13s\tremaining: 147ms\n",
      "955:\tlearn: 0.2293541\ttotal: 3.13s\tremaining: 144ms\n",
      "956:\tlearn: 0.2292974\ttotal: 3.13s\tremaining: 141ms\n",
      "957:\tlearn: 0.2292322\ttotal: 3.14s\tremaining: 138ms\n",
      "958:\tlearn: 0.2291671\ttotal: 3.14s\tremaining: 134ms\n",
      "959:\tlearn: 0.2291159\ttotal: 3.14s\tremaining: 131ms\n",
      "960:\tlearn: 0.2290517\ttotal: 3.15s\tremaining: 128ms\n",
      "961:\tlearn: 0.2289280\ttotal: 3.15s\tremaining: 124ms\n",
      "962:\tlearn: 0.2288250\ttotal: 3.15s\tremaining: 121ms\n",
      "963:\tlearn: 0.2287467\ttotal: 3.15s\tremaining: 118ms\n",
      "964:\tlearn: 0.2286480\ttotal: 3.16s\tremaining: 115ms\n",
      "965:\tlearn: 0.2285628\ttotal: 3.16s\tremaining: 111ms\n",
      "966:\tlearn: 0.2284325\ttotal: 3.16s\tremaining: 108ms\n",
      "967:\tlearn: 0.2283656\ttotal: 3.17s\tremaining: 105ms\n",
      "968:\tlearn: 0.2282790\ttotal: 3.17s\tremaining: 101ms\n",
      "969:\tlearn: 0.2281843\ttotal: 3.17s\tremaining: 98.2ms\n",
      "970:\tlearn: 0.2281309\ttotal: 3.18s\tremaining: 94.9ms\n",
      "971:\tlearn: 0.2280738\ttotal: 3.18s\tremaining: 91.6ms\n",
      "972:\tlearn: 0.2279660\ttotal: 3.18s\tremaining: 88.3ms\n",
      "973:\tlearn: 0.2278556\ttotal: 3.19s\tremaining: 85.1ms\n",
      "974:\tlearn: 0.2277897\ttotal: 3.19s\tremaining: 81.8ms\n",
      "975:\tlearn: 0.2276933\ttotal: 3.19s\tremaining: 78.5ms\n",
      "976:\tlearn: 0.2276394\ttotal: 3.19s\tremaining: 75.2ms\n",
      "977:\tlearn: 0.2275672\ttotal: 3.2s\tremaining: 71.9ms\n",
      "978:\tlearn: 0.2274555\ttotal: 3.2s\tremaining: 68.7ms\n",
      "979:\tlearn: 0.2273767\ttotal: 3.2s\tremaining: 65.4ms\n",
      "980:\tlearn: 0.2272821\ttotal: 3.21s\tremaining: 62.1ms\n",
      "981:\tlearn: 0.2272111\ttotal: 3.21s\tremaining: 58.8ms\n",
      "982:\tlearn: 0.2271511\ttotal: 3.21s\tremaining: 55.6ms\n",
      "983:\tlearn: 0.2270484\ttotal: 3.22s\tremaining: 52.3ms\n",
      "984:\tlearn: 0.2269654\ttotal: 3.22s\tremaining: 49ms\n",
      "985:\tlearn: 0.2269312\ttotal: 3.22s\tremaining: 45.7ms\n",
      "986:\tlearn: 0.2268466\ttotal: 3.22s\tremaining: 42.5ms\n",
      "987:\tlearn: 0.2267925\ttotal: 3.23s\tremaining: 39.2ms\n",
      "988:\tlearn: 0.2267348\ttotal: 3.23s\tremaining: 35.9ms\n",
      "989:\tlearn: 0.2266344\ttotal: 3.23s\tremaining: 32.7ms\n",
      "990:\tlearn: 0.2265504\ttotal: 3.24s\tremaining: 29.4ms\n",
      "991:\tlearn: 0.2264694\ttotal: 3.24s\tremaining: 26.1ms\n",
      "992:\tlearn: 0.2264061\ttotal: 3.24s\tremaining: 22.9ms\n",
      "993:\tlearn: 0.2263150\ttotal: 3.25s\tremaining: 19.6ms\n",
      "994:\tlearn: 0.2262500\ttotal: 3.25s\tremaining: 16.3ms\n",
      "995:\tlearn: 0.2261481\ttotal: 3.25s\tremaining: 13.1ms\n",
      "996:\tlearn: 0.2260614\ttotal: 3.25s\tremaining: 9.79ms\n",
      "997:\tlearn: 0.2259685\ttotal: 3.26s\tremaining: 6.53ms\n",
      "998:\tlearn: 0.2259063\ttotal: 3.26s\tremaining: 3.26ms\n",
      "999:\tlearn: 0.2258209\ttotal: 3.26s\tremaining: 0us\n"
     ]
    },
    {
     "data": {
      "text/plain": [
       "<catboost.core.CatBoostClassifier at 0x7fc102bb2af0>"
      ]
     },
     "execution_count": 53,
     "metadata": {},
     "output_type": "execute_result"
    }
   ],
   "source": [
    "#CatBoost\n",
    "model = cb.CatBoostClassifier(random_state=27)\n",
    "model.fit(x_train, y_train)"
   ]
  },
  {
   "cell_type": "code",
   "execution_count": 54,
   "metadata": {},
   "outputs": [
    {
     "name": "stdout",
     "output_type": "stream",
     "text": [
      "score = 0.9537\n"
     ]
    }
   ],
   "source": [
    "y_pred = model.predict_proba(x_train)\n",
    "score = roc_auc_score(y_train, y_pred[:, 1])\n",
    "print(f\"score = {round(score, 4)}\")"
   ]
  },
  {
   "cell_type": "code",
   "execution_count": 56,
   "metadata": {},
   "outputs": [],
   "source": [
    "submission = test[['RowNumber']].copy()\n",
    "baseline = model.predict_proba(test1)\n",
    "df5 = pd.concat([submission, pd.DataFrame(baseline, columns = ['predicttttt','predict'])], axis=1)\n",
    "df5 = df5.drop([\"predicttttt\"], axis = 1)"
   ]
  },
  {
   "cell_type": "markdown",
   "metadata": {
    "jupyter": {
     "source_hidden": true
    },
    "tags": []
   },
   "source": [
    "Это тестовый пример посылки, вам нужно будет точно также предсказывать вероятность для каждого наблюдения и делать посылки, отправляя их боту."
   ]
  },
  {
   "cell_type": "code",
   "execution_count": 58,
   "metadata": {
    "tags": []
   },
   "outputs": [
    {
     "data": {
      "text/plain": [
       "Pipeline(steps=[('scaling', StandardScaler()),\n",
       "                ('model', LogisticRegression(random_state=27))])"
      ]
     },
     "execution_count": 58,
     "metadata": {},
     "output_type": "execute_result"
    }
   ],
   "source": [
    "#LogisticRegression\n",
    "pipeline = Pipeline(\n",
    "    steps=[\n",
    "        (\"scaling\", StandardScaler()),\n",
    "        (\"model\", LogisticRegression(random_state=27))\n",
    "    ]\n",
    ")\n",
    "pipeline.fit(x_train, y_train)\n"
   ]
  },
  {
   "cell_type": "code",
   "execution_count": 59,
   "metadata": {},
   "outputs": [
    {
     "name": "stdout",
     "output_type": "stream",
     "text": [
      "Train-score: 0.771\n"
     ]
    }
   ],
   "source": [
    "train_score = roc_auc_score(y_train, pipeline.predict_proba(x_train)[:, 1])\n",
    "print(f\"Train-score: {round(train_score, 3)}\")"
   ]
  },
  {
   "cell_type": "code",
   "execution_count": 60,
   "metadata": {
    "scrolled": true,
    "tags": []
   },
   "outputs": [],
   "source": [
    "submission = test[['RowNumber']].copy()\n",
    "baseline = model.predict_proba(test1)\n",
    "df2 = pd.concat([submission, pd.DataFrame(baseline, columns = ['predicttttt','predict'])], axis=1)\n",
    "df2 = df2.drop([\"predicttttt\"], axis = 1)"
   ]
  },
  {
   "cell_type": "code",
   "execution_count": 65,
   "metadata": {},
   "outputs": [
    {
     "name": "stdout",
     "output_type": "stream",
     "text": [
      "Запускаю тестирование...\n",
      "Проверяю метрики...\n",
      "Твой результат: 0.8372016660819187\n",
      "Наконец-то мы  сэкономили денег! Чтобы себя порадовать - можно посчитать примерные значения в деньгах, как мы посчитали с бейзлайном :). Финальная кодовая фраза '- моя любимая наука' Если вспомнить все предыдущие получится: Data Science - моя любимая наукаЧто-то правда, то правда - обожаю анализировать данные, особенно, когда мне помогают\n"
     ]
    }
   ],
   "source": [
    "BotProductStar.production_quality(answer=df3)"
   ]
  },
  {
   "cell_type": "markdown",
   "metadata": {},
   "source": [
    "Следующая часть урока полностью ложится на ваши плечи:\n",
    "* Нужно правильно сгенерировать вспомогательные признаки, но сильно можно не увлекаться.\n",
    "* Правильно их обработать для подачи в модель.\n",
    "* И построить модель, которая будет давать достаточное качество."
   ]
  },
  {
   "cell_type": "markdown",
   "metadata": {},
   "source": [
    "Для защиты проекта необходимо будет построить модель, качество которой дает ROC-AUC не ниже 0.8. Оцениваться модель будет с помощью бота, а точнее функции - `BotProductStar.production_quality(answer=submission)`\n",
    "\n",
    "\n",
    "\n",
    "submission - это датафрем, в котором в первой колонке указан RowNumber из файла test, а в колонке predict предсказанная вероятность ухода клиента."
   ]
  },
  {
   "cell_type": "markdown",
   "metadata": {},
   "source": [
    "Здесь можно продолжить построение модели. Давайте вспомним, какие пункты осталось сделать."
   ]
  },
  {
   "cell_type": "markdown",
   "metadata": {
    "tags": []
   },
   "source": [
    "### Подготовка данных\n",
    "   - [x] Выборка данных\n",
    "   - [x] Разведочный анализ данных\n",
    "   - [ ] Очистка данных на основе анализа\n",
    "   - [ ] Генерация вспомогательных данных\n",
    "   - [ ] Предобработка данных"
   ]
  },
  {
   "cell_type": "markdown",
   "metadata": {
    "tags": []
   },
   "source": [
    "####  Моделирование\n",
    "   - [ ]  Выбор алгоритмов\t\n",
    "   - [ ]  Выбор мета-метрики\t\n",
    "   - [ ]  План тестирования алгоритма\n",
    "   - [ ]  Обучение моделей\n",
    "   - [ ]  Оценка качества модели"
   ]
  }
 ],
 "metadata": {
  "kernelspec": {
   "display_name": "Python 3",
   "language": "python",
   "name": "python3"
  },
  "language_info": {
   "codemirror_mode": {
    "name": "ipython",
    "version": 3
   },
   "file_extension": ".py",
   "mimetype": "text/x-python",
   "name": "python",
   "nbconvert_exporter": "python",
   "pygments_lexer": "ipython3",
   "version": "3.8.5"
  }
 },
 "nbformat": 4,
 "nbformat_minor": 4
}
