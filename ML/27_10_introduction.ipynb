{
 "cells": [
  {
   "cell_type": "markdown",
   "metadata": {},
   "source": [
    "# Функция потерь (loss function) и функционал качества"
   ]
  },
  {
   "cell_type": "markdown",
   "metadata": {},
   "source": [
    "### Напомним наши обозначения\n",
    "\n",
    "\n",
    "Объект х из множества Х\\\n",
    "Для примера возьмем признаковое пространство (пол, рост)\\\n",
    "Дальше будем отождествлять объект х с его векторным представлением в виде  х = ($x_1$, $x_2$)\\\n",
    "Значит всего у нас 2 признака (2 компоненты), где $x_1$ это пол, $x_2$ это рост.\n"
   ]
  },
  {
   "cell_type": "markdown",
   "metadata": {},
   "source": [
    "Сгенерируем вспомогательный датасет с которым и будем работать в этом воркшопе."
   ]
  },
  {
   "cell_type": "code",
   "execution_count": 1,
   "metadata": {},
   "outputs": [],
   "source": [
    "import numpy as np\n",
    "import pandas as pd\n",
    "\n",
    "np.random.seed(0)\n",
    "#С библиотекой NumPy поближе мы познакомимся \n",
    "#в следующем уроке, здесь она нам понадобится \n",
    "#исключительно для того, чтобы сгенерировать случайные данные\n",
    "#Признаками мы пока пользоваться не будем поэтому сгенерируем только пол и рост\n",
    "df = pd.DataFrame({'пол': np.random.randint(2, size=1000), \n",
    "                   'рост':np.random.randint(low=100,high=250, size=1000)})"
   ]
  },
  {
   "cell_type": "code",
   "execution_count": 2,
   "metadata": {},
   "outputs": [
    {
     "data": {
      "text/html": [
       "<div>\n",
       "<style scoped>\n",
       "    .dataframe tbody tr th:only-of-type {\n",
       "        vertical-align: middle;\n",
       "    }\n",
       "\n",
       "    .dataframe tbody tr th {\n",
       "        vertical-align: top;\n",
       "    }\n",
       "\n",
       "    .dataframe thead th {\n",
       "        text-align: right;\n",
       "    }\n",
       "</style>\n",
       "<table border=\"1\" class=\"dataframe\">\n",
       "  <thead>\n",
       "    <tr style=\"text-align: right;\">\n",
       "      <th></th>\n",
       "      <th>пол</th>\n",
       "      <th>рост</th>\n",
       "    </tr>\n",
       "  </thead>\n",
       "  <tbody>\n",
       "    <tr>\n",
       "      <th>0</th>\n",
       "      <td>0</td>\n",
       "      <td>139</td>\n",
       "    </tr>\n",
       "    <tr>\n",
       "      <th>1</th>\n",
       "      <td>1</td>\n",
       "      <td>223</td>\n",
       "    </tr>\n",
       "    <tr>\n",
       "      <th>2</th>\n",
       "      <td>1</td>\n",
       "      <td>128</td>\n",
       "    </tr>\n",
       "    <tr>\n",
       "      <th>3</th>\n",
       "      <td>0</td>\n",
       "      <td>246</td>\n",
       "    </tr>\n",
       "    <tr>\n",
       "      <th>4</th>\n",
       "      <td>1</td>\n",
       "      <td>145</td>\n",
       "    </tr>\n",
       "    <tr>\n",
       "      <th>5</th>\n",
       "      <td>1</td>\n",
       "      <td>154</td>\n",
       "    </tr>\n",
       "    <tr>\n",
       "      <th>6</th>\n",
       "      <td>1</td>\n",
       "      <td>100</td>\n",
       "    </tr>\n",
       "    <tr>\n",
       "      <th>7</th>\n",
       "      <td>1</td>\n",
       "      <td>238</td>\n",
       "    </tr>\n",
       "    <tr>\n",
       "      <th>8</th>\n",
       "      <td>1</td>\n",
       "      <td>234</td>\n",
       "    </tr>\n",
       "    <tr>\n",
       "      <th>9</th>\n",
       "      <td>1</td>\n",
       "      <td>199</td>\n",
       "    </tr>\n",
       "  </tbody>\n",
       "</table>\n",
       "</div>"
      ],
      "text/plain": [
       "   пол  рост\n",
       "0    0   139\n",
       "1    1   223\n",
       "2    1   128\n",
       "3    0   246\n",
       "4    1   145\n",
       "5    1   154\n",
       "6    1   100\n",
       "7    1   238\n",
       "8    1   234\n",
       "9    1   199"
      ]
     },
     "execution_count": 2,
     "metadata": {},
     "output_type": "execute_result"
    }
   ],
   "source": [
    "#посмотрим, что у нас получилось\n",
    "df.head(10)"
   ]
  },
  {
   "cell_type": "markdown",
   "metadata": {},
   "source": [
    "Получился датасет, где мужской пол (1) и женский пол (0).\n",
    "Также мы видим, что есть признак рост."
   ]
  },
  {
   "cell_type": "markdown",
   "metadata": {},
   "source": [
    "Эти данные размечены - нам известны значения признаков для каждого ряда.\n",
    "Давайте тогда попробуем построить наивный алгоритм, который предсказывал бы для этого датасета рост."
   ]
  },
  {
   "cell_type": "markdown",
   "metadata": {},
   "source": [
    "Вспомним, что такое алгоритм\n",
    "\n",
    "$a: X -> Y$ алгоритм, которым мы хотим приблизить целевую функцию\\\n",
    "А целевая функция это $y'(x):X_m -> Y$.\n",
    "Ее значения известны только на тренировочном множестве объектов в нашем случае их 1000, значит здесь $m=1000$.\n",
    "То есть здесь ее значения известны для каждого ряда датасета.\n",
    "\n",
    "Попробуем решить сначала задачу предсказания роста человека."
   ]
  },
  {
   "cell_type": "markdown",
   "metadata": {},
   "source": [
    "#### Задача 1:\n",
    "Для построенного датасета:\\\n",
    "    а) сделать предсказания роста для каждого наблюдения в нем\\\n",
    "    б) посчитать какое значение функционала качества дает наш алгоритм\\"
   ]
  },
  {
   "cell_type": "markdown",
   "metadata": {},
   "source": [
    "Алгоритм может быть как сложной функцией, так и просто константой (const), то есть числом.\n",
    "Выберем алгоритм $а(х)$, который будет всегда возвращать число равное первому занчению роста в датафрейме."
   ]
  },
  {
   "cell_type": "code",
   "execution_count": 3,
   "metadata": {},
   "outputs": [
    {
     "data": {
      "text/plain": [
       "139"
      ]
     },
     "execution_count": 3,
     "metadata": {},
     "output_type": "execute_result"
    }
   ],
   "source": [
    "df.iloc[0]['рост']"
   ]
  },
  {
   "cell_type": "markdown",
   "metadata": {},
   "source": [
    "Это и будет наш алгоритм.\n",
    "$a(x) = 139$"
   ]
  },
  {
   "cell_type": "markdown",
   "metadata": {},
   "source": [
    "Оценим его качество и как он справился с поставленной задачей.\n",
    "Для этого мы должны вспомнить как мерить ошибку на объектах.\n",
    "\n",
    "\n",
    "$ L(x,a) = (a(x) - y'(x))^2 $ - для задач регрессии \n",
    "\n",
    "\n",
    "Значит мы можем написать вспомогательную функцию."
   ]
  },
  {
   "cell_type": "code",
   "execution_count": 4,
   "metadata": {},
   "outputs": [],
   "source": [
    "def loss_regression(y_predicted, y_true):\n",
    "    return (y_predicted - y_true)**2"
   ]
  },
  {
   "cell_type": "markdown",
   "metadata": {},
   "source": [
    "Она возвращает квадрат ошибки нашего алгоритма.\n",
    "Давайте применим ее ко всем наблюдениям датафрейма.\n",
    "А предсказание будем использовать из нашего алгоритма, тогда."
   ]
  },
  {
   "cell_type": "code",
   "execution_count": 5,
   "metadata": {},
   "outputs": [],
   "source": [
    "df['предсказанный_рост'] = df.iloc[0]['рост']"
   ]
  },
  {
   "cell_type": "code",
   "execution_count": 110,
   "metadata": {},
   "outputs": [
    {
     "data": {
      "text/html": [
       "<div>\n",
       "<style scoped>\n",
       "    .dataframe tbody tr th:only-of-type {\n",
       "        vertical-align: middle;\n",
       "    }\n",
       "\n",
       "    .dataframe tbody tr th {\n",
       "        vertical-align: top;\n",
       "    }\n",
       "\n",
       "    .dataframe thead th {\n",
       "        text-align: right;\n",
       "    }\n",
       "</style>\n",
       "<table border=\"1\" class=\"dataframe\">\n",
       "  <thead>\n",
       "    <tr style=\"text-align: right;\">\n",
       "      <th></th>\n",
       "      <th>пол</th>\n",
       "      <th>рост</th>\n",
       "      <th>предсказанный_рост</th>\n",
       "    </tr>\n",
       "  </thead>\n",
       "  <tbody>\n",
       "    <tr>\n",
       "      <th>0</th>\n",
       "      <td>0</td>\n",
       "      <td>139</td>\n",
       "      <td>139</td>\n",
       "    </tr>\n",
       "    <tr>\n",
       "      <th>1</th>\n",
       "      <td>1</td>\n",
       "      <td>223</td>\n",
       "      <td>139</td>\n",
       "    </tr>\n",
       "    <tr>\n",
       "      <th>2</th>\n",
       "      <td>1</td>\n",
       "      <td>128</td>\n",
       "      <td>139</td>\n",
       "    </tr>\n",
       "    <tr>\n",
       "      <th>3</th>\n",
       "      <td>0</td>\n",
       "      <td>246</td>\n",
       "      <td>139</td>\n",
       "    </tr>\n",
       "    <tr>\n",
       "      <th>4</th>\n",
       "      <td>1</td>\n",
       "      <td>145</td>\n",
       "      <td>139</td>\n",
       "    </tr>\n",
       "  </tbody>\n",
       "</table>\n",
       "</div>"
      ],
      "text/plain": [
       "   пол  рост  предсказанный_рост\n",
       "0    0   139                 139\n",
       "1    1   223                 139\n",
       "2    1   128                 139\n",
       "3    0   246                 139\n",
       "4    1   145                 139"
      ]
     },
     "execution_count": 110,
     "metadata": {},
     "output_type": "execute_result"
    }
   ],
   "source": [
    "df.head()"
   ]
  },
  {
   "cell_type": "markdown",
   "metadata": {},
   "source": [
    "Мы сделали наши первые предсказания, теперь посчитаем ошибку с помощью написанной функции."
   ]
  },
  {
   "cell_type": "code",
   "execution_count": 6,
   "metadata": {},
   "outputs": [],
   "source": [
    "df['функция_потерь_для_роста'] = df[['рост', 'предсказанный_рост']].apply(lambda x: loss_regression(x[1], x[0]), axis=1)"
   ]
  },
  {
   "cell_type": "code",
   "execution_count": 112,
   "metadata": {},
   "outputs": [
    {
     "data": {
      "text/html": [
       "<div>\n",
       "<style scoped>\n",
       "    .dataframe tbody tr th:only-of-type {\n",
       "        vertical-align: middle;\n",
       "    }\n",
       "\n",
       "    .dataframe tbody tr th {\n",
       "        vertical-align: top;\n",
       "    }\n",
       "\n",
       "    .dataframe thead th {\n",
       "        text-align: right;\n",
       "    }\n",
       "</style>\n",
       "<table border=\"1\" class=\"dataframe\">\n",
       "  <thead>\n",
       "    <tr style=\"text-align: right;\">\n",
       "      <th></th>\n",
       "      <th>пол</th>\n",
       "      <th>рост</th>\n",
       "      <th>предсказанный_рост</th>\n",
       "      <th>функция_потерь_для_роста</th>\n",
       "    </tr>\n",
       "  </thead>\n",
       "  <tbody>\n",
       "    <tr>\n",
       "      <th>0</th>\n",
       "      <td>0</td>\n",
       "      <td>139</td>\n",
       "      <td>139</td>\n",
       "      <td>0</td>\n",
       "    </tr>\n",
       "    <tr>\n",
       "      <th>1</th>\n",
       "      <td>1</td>\n",
       "      <td>223</td>\n",
       "      <td>139</td>\n",
       "      <td>7056</td>\n",
       "    </tr>\n",
       "    <tr>\n",
       "      <th>2</th>\n",
       "      <td>1</td>\n",
       "      <td>128</td>\n",
       "      <td>139</td>\n",
       "      <td>121</td>\n",
       "    </tr>\n",
       "    <tr>\n",
       "      <th>3</th>\n",
       "      <td>0</td>\n",
       "      <td>246</td>\n",
       "      <td>139</td>\n",
       "      <td>11449</td>\n",
       "    </tr>\n",
       "    <tr>\n",
       "      <th>4</th>\n",
       "      <td>1</td>\n",
       "      <td>145</td>\n",
       "      <td>139</td>\n",
       "      <td>36</td>\n",
       "    </tr>\n",
       "  </tbody>\n",
       "</table>\n",
       "</div>"
      ],
      "text/plain": [
       "   пол  рост  предсказанный_рост  функция_потерь_для_роста\n",
       "0    0   139                 139                         0\n",
       "1    1   223                 139                      7056\n",
       "2    1   128                 139                       121\n",
       "3    0   246                 139                     11449\n",
       "4    1   145                 139                        36"
      ]
     },
     "execution_count": 112,
     "metadata": {},
     "output_type": "execute_result"
    }
   ],
   "source": [
    "df.head()"
   ]
  },
  {
   "cell_type": "markdown",
   "metadata": {},
   "source": [
    "Отлично!\\\n",
    "Теперь у нас есть ошибки для каждого объекта из датафрейма.\\\n",
    "Давайте теперь оценим насколько сильно мы ошибаемся в совокупности на всем датафрейме.\\\n",
    "Здесь нам пригодитя функционал качества или мы его также будем называть эмпирическим риском.\n",
    "\n",
    "Вспомним как он выглядит:\\\n",
    "Эмпирический риск:\\\n",
    "$Q(a,X^{m}) = \\frac{1}{m}\\sum{L(x_{i}, a)}$,\\\n",
    "где m это количество объектов в обучающей выборке"
   ]
  },
  {
   "cell_type": "code",
   "execution_count": 7,
   "metadata": {},
   "outputs": [],
   "source": [
    "def empirical_risk(loss):\n",
    "    return sum(loss)/len(loss)"
   ]
  },
  {
   "cell_type": "markdown",
   "metadata": {},
   "source": [
    "Все значения функции потерь у нас есть, теперь осталась просуммировать и поделить на количесвто объектов. Так и поступим."
   ]
  },
  {
   "cell_type": "code",
   "execution_count": 8,
   "metadata": {},
   "outputs": [
    {
     "data": {
      "text/plain": [
       "(1000,)"
      ]
     },
     "execution_count": 8,
     "metadata": {},
     "output_type": "execute_result"
    }
   ],
   "source": [
    "df['функция_потерь_для_роста'].values.shape"
   ]
  },
  {
   "cell_type": "code",
   "execution_count": 9,
   "metadata": {},
   "outputs": [
    {
     "data": {
      "text/plain": [
       "3279.074"
      ]
     },
     "execution_count": 9,
     "metadata": {},
     "output_type": "execute_result"
    }
   ],
   "source": [
    "empirical_risk(df['функция_потерь_для_роста'].values)"
   ]
  },
  {
   "cell_type": "markdown",
   "metadata": {},
   "source": [
    "Наша функция посчтитала значение эмпирического риска, видим что как-то уж очень далеко от нуля наше значение.\\\n",
    "Попробуем улучшить результат - давайте попробуем предсказывать средним ростом по датасету."
   ]
  },
  {
   "cell_type": "markdown",
   "metadata": {},
   "source": [
    "Посчитаем среднее."
   ]
  },
  {
   "cell_type": "code",
   "execution_count": 11,
   "metadata": {},
   "outputs": [
    {
     "name": "stdout",
     "output_type": "stream",
     "text": [
      "рост    176.642\n",
      "dtype: float64\n"
     ]
    }
   ],
   "source": [
    "growth_mean = df[['рост']].mean()\n",
    "print(growth_mean)"
   ]
  },
  {
   "cell_type": "markdown",
   "metadata": {},
   "source": [
    "Посчитаем функцию потерь для каждого объекта."
   ]
  },
  {
   "cell_type": "code",
   "execution_count": 14,
   "metadata": {},
   "outputs": [
    {
     "data": {
      "text/html": [
       "<div>\n",
       "<style scoped>\n",
       "    .dataframe tbody tr th:only-of-type {\n",
       "        vertical-align: middle;\n",
       "    }\n",
       "\n",
       "    .dataframe tbody tr th {\n",
       "        vertical-align: top;\n",
       "    }\n",
       "\n",
       "    .dataframe thead th {\n",
       "        text-align: right;\n",
       "    }\n",
       "</style>\n",
       "<table border=\"1\" class=\"dataframe\">\n",
       "  <thead>\n",
       "    <tr style=\"text-align: right;\">\n",
       "      <th></th>\n",
       "      <th>пол</th>\n",
       "      <th>рост</th>\n",
       "      <th>предсказанный_рост</th>\n",
       "      <th>функция_потерь_для_роста</th>\n",
       "      <th>средний_рост</th>\n",
       "      <th>функция_потерь_для_среднего_роста</th>\n",
       "    </tr>\n",
       "  </thead>\n",
       "  <tbody>\n",
       "    <tr>\n",
       "      <th>0</th>\n",
       "      <td>0</td>\n",
       "      <td>139</td>\n",
       "      <td>139</td>\n",
       "      <td>0</td>\n",
       "      <td>176.642</td>\n",
       "      <td>1416.920164</td>\n",
       "    </tr>\n",
       "    <tr>\n",
       "      <th>1</th>\n",
       "      <td>1</td>\n",
       "      <td>223</td>\n",
       "      <td>139</td>\n",
       "      <td>7056</td>\n",
       "      <td>176.642</td>\n",
       "      <td>2149.064164</td>\n",
       "    </tr>\n",
       "    <tr>\n",
       "      <th>2</th>\n",
       "      <td>1</td>\n",
       "      <td>128</td>\n",
       "      <td>139</td>\n",
       "      <td>121</td>\n",
       "      <td>176.642</td>\n",
       "      <td>2366.044164</td>\n",
       "    </tr>\n",
       "    <tr>\n",
       "      <th>3</th>\n",
       "      <td>0</td>\n",
       "      <td>246</td>\n",
       "      <td>139</td>\n",
       "      <td>11449</td>\n",
       "      <td>176.642</td>\n",
       "      <td>4810.532164</td>\n",
       "    </tr>\n",
       "    <tr>\n",
       "      <th>4</th>\n",
       "      <td>1</td>\n",
       "      <td>145</td>\n",
       "      <td>139</td>\n",
       "      <td>36</td>\n",
       "      <td>176.642</td>\n",
       "      <td>1001.216164</td>\n",
       "    </tr>\n",
       "  </tbody>\n",
       "</table>\n",
       "</div>"
      ],
      "text/plain": [
       "   пол  рост  предсказанный_рост  функция_потерь_для_роста  средний_рост  \\\n",
       "0    0   139                 139                         0       176.642   \n",
       "1    1   223                 139                      7056       176.642   \n",
       "2    1   128                 139                       121       176.642   \n",
       "3    0   246                 139                     11449       176.642   \n",
       "4    1   145                 139                        36       176.642   \n",
       "\n",
       "   функция_потерь_для_среднего_роста  \n",
       "0                        1416.920164  \n",
       "1                        2149.064164  \n",
       "2                        2366.044164  \n",
       "3                        4810.532164  \n",
       "4                        1001.216164  "
      ]
     },
     "execution_count": 14,
     "metadata": {},
     "output_type": "execute_result"
    }
   ],
   "source": [
    "df['средний_рост'] = 176.642\n",
    "df['функция_потерь_для_среднего_роста'] = df[['рост', 'средний_рост']].apply(lambda x: loss_regression(x[1], x[0]), axis=1)\n",
    "df.head()"
   ]
  },
  {
   "cell_type": "markdown",
   "metadata": {},
   "source": [
    "Теперь посчитаем эмпирический риск."
   ]
  },
  {
   "cell_type": "code",
   "execution_count": 15,
   "metadata": {},
   "outputs": [
    {
     "data": {
      "text/plain": [
       "1862.1538359999993"
      ]
     },
     "execution_count": 15,
     "metadata": {},
     "output_type": "execute_result"
    }
   ],
   "source": [
    "empirical_risk(df['функция_потерь_для_среднего_роста'].values)"
   ]
  },
  {
   "cell_type": "markdown",
   "metadata": {},
   "source": [
    "#### Задача 2:\n",
    "Для построенного датасета:\\\n",
    "    а) сделать предсказания пола для каждого наблюдения в нем\\\n",
    "    б) посчитать какое значение функционала качества дает наш алгоритм\n",
    "\n",
    "\n",
    "\n"
   ]
  },
  {
   "cell_type": "markdown",
   "metadata": {},
   "source": [
    "Выберем алгоритм $а(х)$, который будет всегда возвращать пол равный первому наблюдению пола в датафрейме."
   ]
  },
  {
   "cell_type": "code",
   "execution_count": 16,
   "metadata": {},
   "outputs": [
    {
     "data": {
      "text/plain": [
       "0.0"
      ]
     },
     "execution_count": 16,
     "metadata": {},
     "output_type": "execute_result"
    }
   ],
   "source": [
    "df.iloc[0]['пол']"
   ]
  },
  {
   "cell_type": "markdown",
   "metadata": {},
   "source": [
    "Это и будет значение нашего предсказания.\n",
    "Мы видим, что это число типа float, но это никак не вляет на результат наших вычислений, поэтому оставим как есть."
   ]
  },
  {
   "cell_type": "markdown",
   "metadata": {},
   "source": [
    "Значение целевой переменной может принимать два вида значений это 0 или 1, значит перед нами задача бинарной классификации, то есть классификации на два класса.\n",
    "\n",
    "Вспомним, какого вида тогда нужно выбрать функцию потерь.\n",
    "\n",
    "$ L(x,a) = [a(x) != y'(x)] $  - для задач классификации"
   ]
  },
  {
   "cell_type": "markdown",
   "metadata": {},
   "source": [
    "Отлично! Теперь можно писать вспомогательную функцию."
   ]
  },
  {
   "cell_type": "code",
   "execution_count": 17,
   "metadata": {},
   "outputs": [],
   "source": [
    "def loss_classify(y_predicted, y_true):\n",
    "    return y_predicted != y_true"
   ]
  },
  {
   "cell_type": "code",
   "execution_count": 18,
   "metadata": {},
   "outputs": [
    {
     "data": {
      "text/plain": [
       "1"
      ]
     },
     "execution_count": 18,
     "metadata": {},
     "output_type": "execute_result"
    }
   ],
   "source": [
    "int(loss_classify(0, 1))"
   ]
  },
  {
   "cell_type": "code",
   "execution_count": 19,
   "metadata": {},
   "outputs": [],
   "source": [
    "df['предсказанный_пол'] = df.iloc[0]['пол']"
   ]
  },
  {
   "cell_type": "code",
   "execution_count": 20,
   "metadata": {},
   "outputs": [
    {
     "data": {
      "text/html": [
       "<div>\n",
       "<style scoped>\n",
       "    .dataframe tbody tr th:only-of-type {\n",
       "        vertical-align: middle;\n",
       "    }\n",
       "\n",
       "    .dataframe tbody tr th {\n",
       "        vertical-align: top;\n",
       "    }\n",
       "\n",
       "    .dataframe thead th {\n",
       "        text-align: right;\n",
       "    }\n",
       "</style>\n",
       "<table border=\"1\" class=\"dataframe\">\n",
       "  <thead>\n",
       "    <tr style=\"text-align: right;\">\n",
       "      <th></th>\n",
       "      <th>пол</th>\n",
       "      <th>рост</th>\n",
       "      <th>предсказанный_рост</th>\n",
       "      <th>функция_потерь_для_роста</th>\n",
       "      <th>средний_рост</th>\n",
       "      <th>функция_потерь_для_среднего_роста</th>\n",
       "      <th>предсказанный_пол</th>\n",
       "    </tr>\n",
       "  </thead>\n",
       "  <tbody>\n",
       "    <tr>\n",
       "      <th>0</th>\n",
       "      <td>0</td>\n",
       "      <td>139</td>\n",
       "      <td>139</td>\n",
       "      <td>0</td>\n",
       "      <td>176.642</td>\n",
       "      <td>1416.920164</td>\n",
       "      <td>0.0</td>\n",
       "    </tr>\n",
       "    <tr>\n",
       "      <th>1</th>\n",
       "      <td>1</td>\n",
       "      <td>223</td>\n",
       "      <td>139</td>\n",
       "      <td>7056</td>\n",
       "      <td>176.642</td>\n",
       "      <td>2149.064164</td>\n",
       "      <td>0.0</td>\n",
       "    </tr>\n",
       "    <tr>\n",
       "      <th>2</th>\n",
       "      <td>1</td>\n",
       "      <td>128</td>\n",
       "      <td>139</td>\n",
       "      <td>121</td>\n",
       "      <td>176.642</td>\n",
       "      <td>2366.044164</td>\n",
       "      <td>0.0</td>\n",
       "    </tr>\n",
       "    <tr>\n",
       "      <th>3</th>\n",
       "      <td>0</td>\n",
       "      <td>246</td>\n",
       "      <td>139</td>\n",
       "      <td>11449</td>\n",
       "      <td>176.642</td>\n",
       "      <td>4810.532164</td>\n",
       "      <td>0.0</td>\n",
       "    </tr>\n",
       "    <tr>\n",
       "      <th>4</th>\n",
       "      <td>1</td>\n",
       "      <td>145</td>\n",
       "      <td>139</td>\n",
       "      <td>36</td>\n",
       "      <td>176.642</td>\n",
       "      <td>1001.216164</td>\n",
       "      <td>0.0</td>\n",
       "    </tr>\n",
       "  </tbody>\n",
       "</table>\n",
       "</div>"
      ],
      "text/plain": [
       "   пол  рост  предсказанный_рост  функция_потерь_для_роста  средний_рост  \\\n",
       "0    0   139                 139                         0       176.642   \n",
       "1    1   223                 139                      7056       176.642   \n",
       "2    1   128                 139                       121       176.642   \n",
       "3    0   246                 139                     11449       176.642   \n",
       "4    1   145                 139                        36       176.642   \n",
       "\n",
       "   функция_потерь_для_среднего_роста  предсказанный_пол  \n",
       "0                        1416.920164                0.0  \n",
       "1                        2149.064164                0.0  \n",
       "2                        2366.044164                0.0  \n",
       "3                        4810.532164                0.0  \n",
       "4                        1001.216164                0.0  "
      ]
     },
     "execution_count": 20,
     "metadata": {},
     "output_type": "execute_result"
    }
   ],
   "source": [
    "df.head()"
   ]
  },
  {
   "cell_type": "markdown",
   "metadata": {},
   "source": [
    "Отлично мы сделали предсказания пола, теперь посчитаем,насколько сильно мы ошиблись."
   ]
  },
  {
   "cell_type": "code",
   "execution_count": 21,
   "metadata": {},
   "outputs": [],
   "source": [
    "df['функция_потерь_для_пола'] = df[['пол', 'предсказанный_пол']].apply(lambda x: loss_classify(x[1], x[0]), axis=1)"
   ]
  },
  {
   "cell_type": "code",
   "execution_count": 134,
   "metadata": {},
   "outputs": [
    {
     "data": {
      "text/html": [
       "<div>\n",
       "<style scoped>\n",
       "    .dataframe tbody tr th:only-of-type {\n",
       "        vertical-align: middle;\n",
       "    }\n",
       "\n",
       "    .dataframe tbody tr th {\n",
       "        vertical-align: top;\n",
       "    }\n",
       "\n",
       "    .dataframe thead th {\n",
       "        text-align: right;\n",
       "    }\n",
       "</style>\n",
       "<table border=\"1\" class=\"dataframe\">\n",
       "  <thead>\n",
       "    <tr style=\"text-align: right;\">\n",
       "      <th></th>\n",
       "      <th>пол</th>\n",
       "      <th>рост</th>\n",
       "      <th>предсказанный_рост</th>\n",
       "      <th>функция_потерь_для_роста</th>\n",
       "      <th>предсказанный_пол</th>\n",
       "      <th>функция_потерь_для_пола</th>\n",
       "    </tr>\n",
       "  </thead>\n",
       "  <tbody>\n",
       "    <tr>\n",
       "      <th>0</th>\n",
       "      <td>0</td>\n",
       "      <td>139</td>\n",
       "      <td>139</td>\n",
       "      <td>0</td>\n",
       "      <td>0</td>\n",
       "      <td>False</td>\n",
       "    </tr>\n",
       "    <tr>\n",
       "      <th>1</th>\n",
       "      <td>1</td>\n",
       "      <td>223</td>\n",
       "      <td>139</td>\n",
       "      <td>7056</td>\n",
       "      <td>0</td>\n",
       "      <td>True</td>\n",
       "    </tr>\n",
       "    <tr>\n",
       "      <th>2</th>\n",
       "      <td>1</td>\n",
       "      <td>128</td>\n",
       "      <td>139</td>\n",
       "      <td>121</td>\n",
       "      <td>0</td>\n",
       "      <td>True</td>\n",
       "    </tr>\n",
       "    <tr>\n",
       "      <th>3</th>\n",
       "      <td>0</td>\n",
       "      <td>246</td>\n",
       "      <td>139</td>\n",
       "      <td>11449</td>\n",
       "      <td>0</td>\n",
       "      <td>False</td>\n",
       "    </tr>\n",
       "    <tr>\n",
       "      <th>4</th>\n",
       "      <td>1</td>\n",
       "      <td>145</td>\n",
       "      <td>139</td>\n",
       "      <td>36</td>\n",
       "      <td>0</td>\n",
       "      <td>True</td>\n",
       "    </tr>\n",
       "  </tbody>\n",
       "</table>\n",
       "</div>"
      ],
      "text/plain": [
       "   пол  рост  предсказанный_рост  функция_потерь_для_роста  предсказанный_пол  \\\n",
       "0    0   139                 139                         0                  0   \n",
       "1    1   223                 139                      7056                  0   \n",
       "2    1   128                 139                       121                  0   \n",
       "3    0   246                 139                     11449                  0   \n",
       "4    1   145                 139                        36                  0   \n",
       "\n",
       "   функция_потерь_для_пола  \n",
       "0                    False  \n",
       "1                     True  \n",
       "2                     True  \n",
       "3                    False  \n",
       "4                     True  "
      ]
     },
     "execution_count": 134,
     "metadata": {},
     "output_type": "execute_result"
    }
   ],
   "source": [
    "df.head()"
   ]
  },
  {
   "cell_type": "markdown",
   "metadata": {},
   "source": [
    "А теперь и эмперический риск посчитать можно."
   ]
  },
  {
   "cell_type": "code",
   "execution_count": 22,
   "metadata": {},
   "outputs": [
    {
     "data": {
      "text/plain": [
       "0.504"
      ]
     },
     "execution_count": 22,
     "metadata": {},
     "output_type": "execute_result"
    }
   ],
   "source": [
    "empirical_risk(df['функция_потерь_для_пола'].values)"
   ]
  },
  {
   "cell_type": "markdown",
   "metadata": {},
   "source": [
    "Давайте как в задаче с ростом попробуем улучшить предсказания.\n",
    "Попробуем предсказывать самым частым полом в датасете."
   ]
  },
  {
   "cell_type": "code",
   "execution_count": 25,
   "metadata": {},
   "outputs": [
    {
     "name": "stdout",
     "output_type": "stream",
     "text": [
      "496\n",
      "504\n"
     ]
    }
   ],
   "source": [
    "print (len(df[df['пол'] == 0]))\n",
    "print (len(df[df['пол'] == 1]))"
   ]
  },
  {
   "cell_type": "code",
   "execution_count": 26,
   "metadata": {},
   "outputs": [],
   "source": [
    "df['частый_пол'] = 1\n",
    "df['функция_потерь_для_частого_пола'] = df[['пол', 'частый_пол']].apply(lambda x: loss_classify(x[1], x[0]), axis=1)"
   ]
  },
  {
   "cell_type": "code",
   "execution_count": 27,
   "metadata": {},
   "outputs": [
    {
     "data": {
      "text/plain": [
       "0.496"
      ]
     },
     "execution_count": 27,
     "metadata": {},
     "output_type": "execute_result"
    }
   ],
   "source": [
    "empirical_risk(df['функция_потерь_для_частого_пола'].values)"
   ]
  },
  {
   "cell_type": "markdown",
   "metadata": {},
   "source": [
    "### Итог:"
   ]
  },
  {
   "cell_type": "markdown",
   "metadata": {},
   "source": [
    "Мы решили целых две задачи предсказания. Задачу предсказания регрессии, а также задачу бинарной классификации.\n",
    "Посчитали ошибки нашего алгоритма и оценили насколько мы ошибаемся на всей обучающей выборке."
   ]
  }
 ],
 "metadata": {
  "kernelspec": {
   "display_name": "Python 3",
   "language": "python",
   "name": "python3"
  },
  "language_info": {
   "codemirror_mode": {
    "name": "ipython",
    "version": 3
   },
   "file_extension": ".py",
   "mimetype": "text/x-python",
   "name": "python",
   "nbconvert_exporter": "python",
   "pygments_lexer": "ipython3",
   "version": "3.8.5"
  }
 },
 "nbformat": 4,
 "nbformat_minor": 4
}
